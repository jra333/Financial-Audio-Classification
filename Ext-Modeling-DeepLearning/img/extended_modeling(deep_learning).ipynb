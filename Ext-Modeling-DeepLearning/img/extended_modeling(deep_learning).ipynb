{
 "cells": [
  {
   "cell_type": "markdown",
   "metadata": {
    "id": "42af8851"
   },
   "source": [
    "# Extended Modeling with Deep Learning \n",
    "<br>\n",
    "In this notebook we construct and execute multiple different renditions of a convolution neural net (CNN). We originally attempted to use transfer learning with the \"ResNet50\", \"VGG16\" and \"EfficientNet B0 and B7\" models. However, all four performed rather poorly when training on our spectrogram dataset. That being said, we decided to migrate towards building our own architecture of a CNN. The results were rather similar to the \"state-of-the-art\" models but we were able to experiment more with different layers, sizes, normalizations etc. Our first model was constructed using 12 million parameters and 8 weight layers. From there we applied various hyperparameter tunings by altering dropout levels and learning rates using KerasTuner. After realizing our tuning had minimal effect on the models performance we then tried experimenting with layer sizes and other types of optimizers.  \n",
    "\n",
    "The complete results can be found at the end of the notebook."
   ]
  },
  {
   "cell_type": "code",
   "execution_count": null,
   "metadata": {
    "ExecuteTime": {
     "end_time": "2021-07-21T04:48:25.851783Z",
     "start_time": "2021-07-21T04:48:24.133789Z"
    },
    "id": "ac0944ae",
    "outputId": "dd702d8a-aa8b-400f-d458-42dd1a19ebe2"
   },
   "outputs": [
    {
     "name": "stderr",
     "output_type": "stream",
     "text": [
      "2021-07-20 21:48:24.484309: I tensorflow/stream_executor/platform/default/dso_loader.cc:53] Successfully opened dynamic library libcudart.so.11.0\n"
     ]
    }
   ],
   "source": [
    "from tensorflow.keras.preprocessing.image import ImageDataGenerator, load_img, img_to_array\n",
    "from tensorflow.keras.preprocessing import image_dataset_from_directory\n",
    "from tensorflow.keras.models import Sequential\n",
    "from tensorflow.keras.layers import Flatten, BatchNormalization, Dense, Dropout, Conv2D, MaxPooling2D, Activation\n",
    "from tensorflow.keras.callbacks import ModelCheckpoint, EarlyStopping, ReduceLROnPlateau\n",
    "from tensorflow.keras.optimizers import RMSprop, Adam, SGD\n",
    "from tensorflow.keras.losses import CategoricalCrossentropy\n",
    "from tensorflow.nn import weighted_cross_entropy_with_logits\n",
    "from tensorflow.keras.constraints import unit_norm\n",
    "from tensorflow.keras.applications import ResNet50, VGG16\n",
    "\n",
    "from keras_tuner.applications import HyperResNet\n",
    "from keras_tuner.tuners import Hyperband, RandomSearch, BayesianOptimization\n",
    "from keras_tuner import HyperModel\n",
    "\n",
    "import tensorflow.keras_tuner\n",
    "import warnings\n",
    "import os\n",
    "warnings.filterwarnings('ignore') "
   ]
  },
  {
   "cell_type": "code",
   "execution_count": null,
   "metadata": {
    "ExecuteTime": {
     "end_time": "2021-07-21T04:48:25.857545Z",
     "start_time": "2021-07-21T04:48:25.854361Z"
    },
    "id": "1a991f77"
   },
   "outputs": [],
   "source": [
    "import tensorflow as tf\n",
    "tf.compat.v1.reset_default_graph()"
   ]
  },
  {
   "cell_type": "code",
   "execution_count": null,
   "metadata": {
    "ExecuteTime": {
     "end_time": "2021-07-21T04:48:58.243788Z",
     "start_time": "2021-07-21T04:48:44.538273Z"
    },
    "id": "ddcf03b1",
    "outputId": "5b80a9f1-efeb-41ce-fc11-75e26da11d6d",
    "scrolled": true
   },
   "outputs": [
    {
     "name": "stdout",
     "output_type": "stream",
     "text": [
      "Found 213271 images belonging to 3 classes.\n",
      "Found 91404 images belonging to 3 classes.\n",
      "Batches train=6665, test=2857\n",
      "Batch shape=(32, 251, 128, 3), min=0.000, max=1.000\n"
     ]
    }
   ],
   "source": [
    "# Create image generator from files/folders - rescale pixels\n",
    "# Set batch sizes for training/testing \n",
    "\n",
    "train_datagen = ImageDataGenerator(rescale=1./255)\n",
    "test_datagen = ImageDataGenerator(rescale=1./255)\n",
    "\n",
    "training_set = train_datagen.flow_from_directory(\n",
    "        './spec_pngs_train_OS3/train/',\n",
    "        target_size=(251, 128),\n",
    "        batch_size=32,\n",
    "        class_mode='categorical',\n",
    "        shuffle=True)\n",
    "test_set = test_datagen.flow_from_directory(\n",
    "        './spec_pngs_train_OS3/val/',\n",
    "        target_size=(251, 128),\n",
    "        batch_size=32,\n",
    "        class_mode='categorical',\n",
    "        shuffle=False)\n",
    "\n",
    "\n",
    "print('Batches train=%d, test=%d' % (len(training_set), len(test_set)))\n",
    "\n",
    "batchX, batchy = training_set.next()\n",
    "print('Batch shape=%s, min=%.3f, max=%.3f' % (batchX.shape, batchX.min(), batchX.max()))"
   ]
  },
  {
   "cell_type": "code",
   "execution_count": null,
   "metadata": {
    "ExecuteTime": {
     "end_time": "2021-07-21T07:55:46.189700Z",
     "start_time": "2021-07-21T04:50:10.125326Z"
    },
    "id": "5fe0ea0d",
    "outputId": "3aa5e4f4-23fe-462a-bcf2-4154c99d131a",
    "scrolled": true
   },
   "outputs": [
    {
     "name": "stderr",
     "output_type": "stream",
     "text": [
      "2021-07-20 21:50:10.136758: I tensorflow/stream_executor/platform/default/dso_loader.cc:53] Successfully opened dynamic library libcuda.so.1\n",
      "2021-07-20 21:50:10.174431: I tensorflow/stream_executor/cuda/cuda_gpu_executor.cc:937] successful NUMA node read from SysFS had negative value (-1), but there must be at least one NUMA node, so returning NUMA node zero\n",
      "2021-07-20 21:50:10.176898: I tensorflow/core/common_runtime/gpu/gpu_device.cc:1733] Found device 0 with properties: \n",
      "pciBusID: 0000:0e:00.0 name: RTX A6000 computeCapability: 8.6\n",
      "coreClock: 1.8GHz coreCount: 84 deviceMemorySize: 47.54GiB deviceMemoryBandwidth: 715.34GiB/s\n",
      "2021-07-20 21:50:10.176989: I tensorflow/stream_executor/cuda/cuda_gpu_executor.cc:937] successful NUMA node read from SysFS had negative value (-1), but there must be at least one NUMA node, so returning NUMA node zero\n",
      "2021-07-20 21:50:10.178788: I tensorflow/core/common_runtime/gpu/gpu_device.cc:1733] Found device 1 with properties: \n",
      "pciBusID: 0000:0f:00.0 name: RTX A6000 computeCapability: 8.6\n",
      "coreClock: 1.8GHz coreCount: 84 deviceMemorySize: 47.54GiB deviceMemoryBandwidth: 715.34GiB/s\n",
      "2021-07-20 21:50:10.178822: I tensorflow/stream_executor/platform/default/dso_loader.cc:53] Successfully opened dynamic library libcudart.so.11.0\n",
      "2021-07-20 21:50:10.181256: I tensorflow/stream_executor/platform/default/dso_loader.cc:53] Successfully opened dynamic library libcublas.so.11\n",
      "2021-07-20 21:50:10.181384: I tensorflow/stream_executor/platform/default/dso_loader.cc:53] Successfully opened dynamic library libcublasLt.so.11\n",
      "2021-07-20 21:50:10.182545: I tensorflow/stream_executor/platform/default/dso_loader.cc:53] Successfully opened dynamic library libcufft.so.10\n",
      "2021-07-20 21:50:10.182968: I tensorflow/stream_executor/platform/default/dso_loader.cc:53] Successfully opened dynamic library libcurand.so.10\n",
      "2021-07-20 21:50:10.186000: I tensorflow/stream_executor/platform/default/dso_loader.cc:53] Successfully opened dynamic library libcusolver.so.11\n",
      "2021-07-20 21:50:10.186679: I tensorflow/stream_executor/platform/default/dso_loader.cc:53] Successfully opened dynamic library libcusparse.so.11\n",
      "2021-07-20 21:50:10.186817: I tensorflow/stream_executor/platform/default/dso_loader.cc:53] Successfully opened dynamic library libcudnn.so.8\n",
      "2021-07-20 21:50:10.187014: I tensorflow/stream_executor/cuda/cuda_gpu_executor.cc:937] successful NUMA node read from SysFS had negative value (-1), but there must be at least one NUMA node, so returning NUMA node zero\n",
      "2021-07-20 21:50:10.188676: I tensorflow/stream_executor/cuda/cuda_gpu_executor.cc:937] successful NUMA node read from SysFS had negative value (-1), but there must be at least one NUMA node, so returning NUMA node zero\n",
      "2021-07-20 21:50:10.190311: I tensorflow/stream_executor/cuda/cuda_gpu_executor.cc:937] successful NUMA node read from SysFS had negative value (-1), but there must be at least one NUMA node, so returning NUMA node zero\n",
      "2021-07-20 21:50:10.191843: I tensorflow/stream_executor/cuda/cuda_gpu_executor.cc:937] successful NUMA node read from SysFS had negative value (-1), but there must be at least one NUMA node, so returning NUMA node zero\n",
      "2021-07-20 21:50:10.193423: I tensorflow/core/common_runtime/gpu/gpu_device.cc:1871] Adding visible gpu devices: 0, 1\n",
      "2021-07-20 21:50:10.194104: I tensorflow/core/platform/cpu_feature_guard.cc:142] This TensorFlow binary is optimized with oneAPI Deep Neural Network Library (oneDNN) to use the following CPU instructions in performance-critical operations:  AVX2 FMA\n",
      "To enable them in other operations, rebuild TensorFlow with the appropriate compiler flags.\n",
      "2021-07-20 21:50:10.427696: I tensorflow/stream_executor/cuda/cuda_gpu_executor.cc:937] successful NUMA node read from SysFS had negative value (-1), but there must be at least one NUMA node, so returning NUMA node zero\n",
      "2021-07-20 21:50:10.429416: I tensorflow/core/common_runtime/gpu/gpu_device.cc:1733] Found device 0 with properties: \n",
      "pciBusID: 0000:0e:00.0 name: RTX A6000 computeCapability: 8.6\n",
      "coreClock: 1.8GHz coreCount: 84 deviceMemorySize: 47.54GiB deviceMemoryBandwidth: 715.34GiB/s\n",
      "2021-07-20 21:50:10.429494: I tensorflow/stream_executor/cuda/cuda_gpu_executor.cc:937] successful NUMA node read from SysFS had negative value (-1), but there must be at least one NUMA node, so returning NUMA node zero\n",
      "2021-07-20 21:50:10.431017: I tensorflow/core/common_runtime/gpu/gpu_device.cc:1733] Found device 1 with properties: \n",
      "pciBusID: 0000:0f:00.0 name: RTX A6000 computeCapability: 8.6\n",
      "coreClock: 1.8GHz coreCount: 84 deviceMemorySize: 47.54GiB deviceMemoryBandwidth: 715.34GiB/s\n",
      "2021-07-20 21:50:10.431103: I tensorflow/stream_executor/cuda/cuda_gpu_executor.cc:937] successful NUMA node read from SysFS had negative value (-1), but there must be at least one NUMA node, so returning NUMA node zero\n",
      "2021-07-20 21:50:10.432720: I tensorflow/stream_executor/cuda/cuda_gpu_executor.cc:937] successful NUMA node read from SysFS had negative value (-1), but there must be at least one NUMA node, so returning NUMA node zero\n",
      "2021-07-20 21:50:10.434303: I tensorflow/stream_executor/cuda/cuda_gpu_executor.cc:937] successful NUMA node read from SysFS had negative value (-1), but there must be at least one NUMA node, so returning NUMA node zero\n",
      "2021-07-20 21:50:10.435775: I tensorflow/stream_executor/cuda/cuda_gpu_executor.cc:937] successful NUMA node read from SysFS had negative value (-1), but there must be at least one NUMA node, so returning NUMA node zero\n",
      "2021-07-20 21:50:10.437824: I tensorflow/core/common_runtime/gpu/gpu_device.cc:1871] Adding visible gpu devices: 0, 1\n",
      "2021-07-20 21:50:10.437933: I tensorflow/stream_executor/platform/default/dso_loader.cc:53] Successfully opened dynamic library libcudart.so.11.0\n",
      "2021-07-20 21:50:11.248433: I tensorflow/core/common_runtime/gpu/gpu_device.cc:1258] Device interconnect StreamExecutor with strength 1 edge matrix:\n",
      "2021-07-20 21:50:11.248528: I tensorflow/core/common_runtime/gpu/gpu_device.cc:1264]      0 1 \n",
      "2021-07-20 21:50:11.248549: I tensorflow/core/common_runtime/gpu/gpu_device.cc:1277] 0:   N Y \n",
      "2021-07-20 21:50:11.248560: I tensorflow/core/common_runtime/gpu/gpu_device.cc:1277] 1:   Y N \n",
      "2021-07-20 21:50:11.248951: I tensorflow/stream_executor/cuda/cuda_gpu_executor.cc:937] successful NUMA node read from SysFS had negative value (-1), but there must be at least one NUMA node, so returning NUMA node zero\n",
      "2021-07-20 21:50:11.250943: I tensorflow/stream_executor/cuda/cuda_gpu_executor.cc:937] successful NUMA node read from SysFS had negative value (-1), but there must be at least one NUMA node, so returning NUMA node zero\n",
      "2021-07-20 21:50:11.252696: I tensorflow/stream_executor/cuda/cuda_gpu_executor.cc:937] successful NUMA node read from SysFS had negative value (-1), but there must be at least one NUMA node, so returning NUMA node zero\n",
      "2021-07-20 21:50:11.254231: I tensorflow/stream_executor/cuda/cuda_gpu_executor.cc:937] successful NUMA node read from SysFS had negative value (-1), but there must be at least one NUMA node, so returning NUMA node zero\n",
      "2021-07-20 21:50:11.255789: I tensorflow/stream_executor/cuda/cuda_gpu_executor.cc:937] successful NUMA node read from SysFS had negative value (-1), but there must be at least one NUMA node, so returning NUMA node zero\n",
      "2021-07-20 21:50:11.257351: I tensorflow/core/common_runtime/gpu/gpu_device.cc:1418] Created TensorFlow device (/job:localhost/replica:0/task:0/device:GPU:0 with 43467 MB memory) -> physical GPU (device: 0, name: RTX A6000, pci bus id: 0000:0e:00.0, compute capability: 8.6)\n",
      "2021-07-20 21:50:11.258187: I tensorflow/stream_executor/cuda/cuda_gpu_executor.cc:937] successful NUMA node read from SysFS had negative value (-1), but there must be at least one NUMA node, so returning NUMA node zero\n",
      "2021-07-20 21:50:11.259726: I tensorflow/core/common_runtime/gpu/gpu_device.cc:1418] Created TensorFlow device (/job:localhost/replica:0/task:0/device:GPU:1 with 46726 MB memory) -> physical GPU (device: 1, name: RTX A6000, pci bus id: 0000:0f:00.0, compute capability: 8.6)\n",
      "2021-07-20 21:50:12.156355: I tensorflow/compiler/mlir/mlir_graph_optimization_pass.cc:176] None of the MLIR Optimization Passes are enabled (registered 2)\n",
      "2021-07-20 21:50:12.156913: I tensorflow/core/platform/profile_utils/cpu_utils.cc:114] CPU Frequency: 2499970000 Hz\n"
     ]
    },
    {
     "name": "stdout",
     "output_type": "stream",
     "text": [
      "Epoch 1/40\n"
     ]
    },
    {
     "name": "stderr",
     "output_type": "stream",
     "text": [
      "2021-07-20 21:50:13.013781: I tensorflow/stream_executor/platform/default/dso_loader.cc:53] Successfully opened dynamic library libcudnn.so.8\n",
      "2021-07-20 21:50:13.700143: I tensorflow/stream_executor/cuda/cuda_dnn.cc:359] Loaded cuDNN version 8101\n",
      "2021-07-20 21:50:14.518774: I tensorflow/stream_executor/platform/default/dso_loader.cc:53] Successfully opened dynamic library libcublas.so.11\n",
      "2021-07-20 21:50:15.138065: I tensorflow/stream_executor/platform/default/dso_loader.cc:53] Successfully opened dynamic library libcublasLt.so.11\n",
      "2021-07-20 21:50:15.413860: I tensorflow/stream_executor/cuda/cuda_blas.cc:1838] TensorFloat-32 will be used for the matrix multiplication. This will only be logged once.\n"
     ]
    },
    {
     "name": "stdout",
     "output_type": "stream",
     "text": [
      "6665/6665 [==============================] - 282s 42ms/step - loss: 1.0161 - accuracy: 0.5061 - val_loss: 0.9595 - val_accuracy: 0.5318\n",
      "Epoch 2/40\n",
      "6665/6665 [==============================] - 275s 41ms/step - loss: 0.9169 - accuracy: 0.5443 - val_loss: 1.0388 - val_accuracy: 0.4541\n",
      "Epoch 3/40\n",
      "6665/6665 [==============================] - 277s 41ms/step - loss: 0.8931 - accuracy: 0.5565 - val_loss: 1.4477 - val_accuracy: 0.4033\n",
      "Epoch 4/40\n",
      "6665/6665 [==============================] - 276s 41ms/step - loss: 0.8873 - accuracy: 0.5613 - val_loss: 0.9174 - val_accuracy: 0.5520\n",
      "Epoch 5/40\n",
      "6665/6665 [==============================] - 271s 41ms/step - loss: 0.8774 - accuracy: 0.5690 - val_loss: 1.0980 - val_accuracy: 0.4463\n",
      "Epoch 6/40\n",
      "6665/6665 [==============================] - 275s 41ms/step - loss: 0.8667 - accuracy: 0.5764 - val_loss: 2.0511 - val_accuracy: 0.3911\n",
      "Epoch 7/40\n",
      "6665/6665 [==============================] - 277s 42ms/step - loss: 0.8570 - accuracy: 0.5828 - val_loss: 0.9643 - val_accuracy: 0.5372\n",
      "Epoch 8/40\n",
      "6665/6665 [==============================] - 279s 42ms/step - loss: 0.8463 - accuracy: 0.5928 - val_loss: 0.8536 - val_accuracy: 0.5827\n",
      "Epoch 9/40\n",
      "6665/6665 [==============================] - 280s 42ms/step - loss: 0.8291 - accuracy: 0.6039 - val_loss: 0.8868 - val_accuracy: 0.5754\n",
      "Epoch 10/40\n",
      "6665/6665 [==============================] - 281s 42ms/step - loss: 0.8102 - accuracy: 0.6193 - val_loss: 0.9188 - val_accuracy: 0.5703\n",
      "Epoch 11/40\n",
      "6665/6665 [==============================] - 276s 41ms/step - loss: 0.7813 - accuracy: 0.6368 - val_loss: 0.8676 - val_accuracy: 0.5915\n",
      "Epoch 12/40\n",
      "6665/6665 [==============================] - 275s 41ms/step - loss: 0.7415 - accuracy: 0.6610 - val_loss: 0.9624 - val_accuracy: 0.5405\n",
      "Epoch 13/40\n",
      "6665/6665 [==============================] - 277s 42ms/step - loss: 0.6919 - accuracy: 0.6898 - val_loss: 0.7871 - val_accuracy: 0.6406\n",
      "Epoch 14/40\n",
      "6665/6665 [==============================] - 276s 41ms/step - loss: 0.6391 - accuracy: 0.7175 - val_loss: 0.7610 - val_accuracy: 0.6565\n",
      "Epoch 15/40\n",
      "6665/6665 [==============================] - 277s 41ms/step - loss: 0.5850 - accuracy: 0.7458 - val_loss: 3.6679 - val_accuracy: 0.4220\n",
      "Epoch 16/40\n",
      "6665/6665 [==============================] - 279s 42ms/step - loss: 0.5294 - accuracy: 0.7721 - val_loss: 0.7701 - val_accuracy: 0.6731\n",
      "Epoch 17/40\n",
      "6665/6665 [==============================] - 281s 42ms/step - loss: 0.4861 - accuracy: 0.7922 - val_loss: 0.7650 - val_accuracy: 0.6842\n",
      "Epoch 18/40\n",
      "6665/6665 [==============================] - 278s 42ms/step - loss: 0.4464 - accuracy: 0.8115 - val_loss: 0.8052 - val_accuracy: 0.6784\n",
      "Epoch 19/40\n",
      "6665/6665 [==============================] - 274s 41ms/step - loss: 0.4051 - accuracy: 0.8302 - val_loss: 0.9049 - val_accuracy: 0.6522\n",
      "Epoch 20/40\n",
      "6665/6665 [==============================] - 275s 41ms/step - loss: 0.3763 - accuracy: 0.8428 - val_loss: 0.7312 - val_accuracy: 0.7148\n",
      "Epoch 21/40\n",
      "6665/6665 [==============================] - 276s 41ms/step - loss: 0.3511 - accuracy: 0.8544 - val_loss: 0.7000 - val_accuracy: 0.7357\n",
      "Epoch 22/40\n",
      "6665/6665 [==============================] - 282s 42ms/step - loss: 0.3224 - accuracy: 0.8667 - val_loss: 0.8059 - val_accuracy: 0.7033\n",
      "Epoch 23/40\n",
      "6665/6665 [==============================] - 282s 42ms/step - loss: 0.3038 - accuracy: 0.8750 - val_loss: 0.7145 - val_accuracy: 0.7385\n",
      "Epoch 24/40\n",
      "6665/6665 [==============================] - 279s 42ms/step - loss: 0.2807 - accuracy: 0.8840 - val_loss: 0.7021 - val_accuracy: 0.7498\n",
      "Epoch 25/40\n",
      "6665/6665 [==============================] - 277s 42ms/step - loss: 0.2673 - accuracy: 0.8897 - val_loss: 0.7040 - val_accuracy: 0.7522\n",
      "Epoch 26/40\n",
      "6665/6665 [==============================] - 278s 42ms/step - loss: 0.2536 - accuracy: 0.8961 - val_loss: 0.7483 - val_accuracy: 0.7465\n",
      "Epoch 27/40\n",
      "6665/6665 [==============================] - 282s 42ms/step - loss: 0.2425 - accuracy: 0.9007 - val_loss: 0.8164 - val_accuracy: 0.7232\n",
      "Epoch 28/40\n",
      "6665/6665 [==============================] - 279s 42ms/step - loss: 0.2296 - accuracy: 0.9058 - val_loss: 0.7493 - val_accuracy: 0.7552\n",
      "Epoch 29/40\n",
      "6665/6665 [==============================] - 278s 42ms/step - loss: 0.2187 - accuracy: 0.9102 - val_loss: 0.7265 - val_accuracy: 0.7607\n",
      "Epoch 30/40\n",
      "6665/6665 [==============================] - 278s 42ms/step - loss: 0.2117 - accuracy: 0.9132 - val_loss: 0.9851 - val_accuracy: 0.6976\n",
      "Epoch 31/40\n",
      "6665/6665 [==============================] - 279s 42ms/step - loss: 0.1977 - accuracy: 0.9178 - val_loss: 0.7549 - val_accuracy: 0.7589\n",
      "Epoch 32/40\n",
      "6665/6665 [==============================] - 277s 42ms/step - loss: 0.1881 - accuracy: 0.9227 - val_loss: 0.7708 - val_accuracy: 0.7573\n",
      "Epoch 33/40\n",
      "6665/6665 [==============================] - 282s 42ms/step - loss: 0.1846 - accuracy: 0.9241 - val_loss: 0.8717 - val_accuracy: 0.7482\n",
      "Epoch 34/40\n",
      "6665/6665 [==============================] - 282s 42ms/step - loss: 0.1789 - accuracy: 0.9267 - val_loss: 0.7456 - val_accuracy: 0.7741\n",
      "Epoch 35/40\n",
      "6665/6665 [==============================] - 278s 42ms/step - loss: 0.1727 - accuracy: 0.9292 - val_loss: 0.7795 - val_accuracy: 0.7636\n",
      "Epoch 36/40\n",
      "6665/6665 [==============================] - 282s 42ms/step - loss: 0.1681 - accuracy: 0.9311 - val_loss: 0.7403 - val_accuracy: 0.7753\n",
      "Epoch 37/40\n",
      "6665/6665 [==============================] - 282s 42ms/step - loss: 0.1640 - accuracy: 0.9328 - val_loss: 0.7476 - val_accuracy: 0.7705\n",
      "Epoch 38/40\n",
      "6665/6665 [==============================] - 279s 42ms/step - loss: 0.1602 - accuracy: 0.9339 - val_loss: 0.7904 - val_accuracy: 0.7747\n",
      "Epoch 39/40\n",
      "6665/6665 [==============================] - 279s 42ms/step - loss: 0.1567 - accuracy: 0.9356 - val_loss: 0.9877 - val_accuracy: 0.7372\n",
      "Epoch 40/40\n",
      "6665/6665 [==============================] - 281s 42ms/step - loss: 0.1526 - accuracy: 0.9372 - val_loss: 0.7915 - val_accuracy: 0.7643\n"
     ]
    }
   ],
   "source": [
    "NUM_CLASSES = 3 # bearish bullish neutral\n",
    "INPUT_SHAPE = (251, 128, 3) # input shape\n",
    "\n",
    "N_EPOCHS = 40\n",
    "INIT_LR = 0.1\n",
    "\n",
    "lr_schedule = tensorflow.keras.optimizers.schedules.ExponentialDecay(\n",
    "    initial_learning_rate=INIT_LR,\n",
    "    decay_steps=100000,\n",
    "    decay_rate=0.96,\n",
    "    staircase=True)\n",
    "\n",
    "OPTIMIZER = SGD(learning_rate=lr_schedule)\n",
    "#OPTIMIZER = Adam(learning_rate=0.09)\n",
    "\n",
    "model = Sequential()\n",
    "\n",
    "# Block 1 Conv2D\n",
    "model.add(Conv2D(32, (3,3), padding='same', input_shape=INPUT_SHAPE, activation='relu'))\n",
    "model.add(BatchNormalization())\n",
    "model.add(Conv2D(32, (3,3), padding='same', activation='relu'))\n",
    "model.add(BatchNormalization())\n",
    "model.add(MaxPooling2D(pool_size=(2,2)))\n",
    "model.add(BatchNormalization())\n",
    "\n",
    "# Block 2 Conv2D\n",
    "model.add(Conv2D(64, (3,3), padding='valid', activation='relu'))\n",
    "model.add(BatchNormalization())\n",
    "model.add(Conv2D(64, (3,3), padding='valid', activation='relu'))\n",
    "model.add(BatchNormalization())\n",
    "model.add(MaxPooling2D(pool_size=(2,2)))\n",
    "model.add(BatchNormalization())\n",
    "model.add(Dropout(0.4))\n",
    "model.add(BatchNormalization())\n",
    "\n",
    "# Block 3 Conv2D\n",
    "model.add(Conv2D(128, (3,3), padding='valid', activation='relu'))\n",
    "model.add(BatchNormalization())\n",
    "model.add(Conv2D(128, (3,3), padding='valid', activation='relu'))\n",
    "model.add(BatchNormalization())\n",
    "model.add(MaxPooling2D(pool_size=(2,2)))\n",
    "model.add(BatchNormalization())\n",
    "model.add(Dropout(0.4))\n",
    "model.add(BatchNormalization())\n",
    "\n",
    "# Fully Connected\n",
    "model.add(Flatten())\n",
    "model.add(Dense(256, activation='relu'))\n",
    "model.add(BatchNormalization())\n",
    "model.add(Dense(256, activation='relu'))\n",
    "model.add(BatchNormalization())\n",
    "model.add(Dense(NUM_CLASSES, activation='softmax'))\n",
    "\n",
    "\n",
    "early_stopping = EarlyStopping(monitor='loss', patience=1)\n",
    "checkpoint = ModelCheckpoint(filepath=\"SN.h5\",\n",
    "                             monitor=\"val_accuracy\",\n",
    "                             mode=\"max\", \n",
    "                             save_best_only=True)\n",
    "\n",
    "\n",
    "model.compile(optimizer=OPTIMIZER,\n",
    "              loss='categorical_crossentropy', \n",
    "              metrics=['accuracy'])\n",
    "    \n",
    "\n",
    "history = model.fit(training_set,\n",
    "                    steps_per_epoch=len(training_set),\n",
    "                    epochs=N_EPOCHS,\n",
    "                    validation_data=test_set,\n",
    "                    callbacks=[early_stopping, checkpoint],\n",
    "                    validation_steps=len(test_set),\n",
    "                    workers=2,\n",
    "                    verbose=1)"
   ]
  },
  {
   "cell_type": "code",
   "execution_count": null,
   "metadata": {
    "ExecuteTime": {
     "end_time": "2021-07-21T14:22:07.097506Z",
     "start_time": "2021-07-21T14:22:07.084591Z"
    },
    "id": "190e4b44",
    "outputId": "f084c64c-dc69-4512-f364-1b0758a5078f"
   },
   "outputs": [
    {
     "name": "stdout",
     "output_type": "stream",
     "text": [
      "Model: \"sequential\"\n",
      "_________________________________________________________________\n",
      "Layer (type)                 Output Shape              Param #   \n",
      "=================================================================\n",
      "conv2d (Conv2D)              (None, 251, 128, 32)      896       \n",
      "_________________________________________________________________\n",
      "batch_normalization (BatchNo (None, 251, 128, 32)      128       \n",
      "_________________________________________________________________\n",
      "conv2d_1 (Conv2D)            (None, 251, 128, 32)      9248      \n",
      "_________________________________________________________________\n",
      "batch_normalization_1 (Batch (None, 251, 128, 32)      128       \n",
      "_________________________________________________________________\n",
      "max_pooling2d (MaxPooling2D) (None, 125, 64, 32)       0         \n",
      "_________________________________________________________________\n",
      "batch_normalization_2 (Batch (None, 125, 64, 32)       128       \n",
      "_________________________________________________________________\n",
      "conv2d_2 (Conv2D)            (None, 123, 62, 64)       18496     \n",
      "_________________________________________________________________\n",
      "batch_normalization_3 (Batch (None, 123, 62, 64)       256       \n",
      "_________________________________________________________________\n",
      "conv2d_3 (Conv2D)            (None, 121, 60, 64)       36928     \n",
      "_________________________________________________________________\n",
      "batch_normalization_4 (Batch (None, 121, 60, 64)       256       \n",
      "_________________________________________________________________\n",
      "max_pooling2d_1 (MaxPooling2 (None, 60, 30, 64)        0         \n",
      "_________________________________________________________________\n",
      "batch_normalization_5 (Batch (None, 60, 30, 64)        256       \n",
      "_________________________________________________________________\n",
      "dropout (Dropout)            (None, 60, 30, 64)        0         \n",
      "_________________________________________________________________\n",
      "batch_normalization_6 (Batch (None, 60, 30, 64)        256       \n",
      "_________________________________________________________________\n",
      "conv2d_4 (Conv2D)            (None, 58, 28, 128)       73856     \n",
      "_________________________________________________________________\n",
      "batch_normalization_7 (Batch (None, 58, 28, 128)       512       \n",
      "_________________________________________________________________\n",
      "conv2d_5 (Conv2D)            (None, 56, 26, 128)       147584    \n",
      "_________________________________________________________________\n",
      "batch_normalization_8 (Batch (None, 56, 26, 128)       512       \n",
      "_________________________________________________________________\n",
      "max_pooling2d_2 (MaxPooling2 (None, 28, 13, 128)       0         \n",
      "_________________________________________________________________\n",
      "batch_normalization_9 (Batch (None, 28, 13, 128)       512       \n",
      "_________________________________________________________________\n",
      "dropout_1 (Dropout)          (None, 28, 13, 128)       0         \n",
      "_________________________________________________________________\n",
      "batch_normalization_10 (Batc (None, 28, 13, 128)       512       \n",
      "_________________________________________________________________\n",
      "flatten (Flatten)            (None, 46592)             0         \n",
      "_________________________________________________________________\n",
      "dense (Dense)                (None, 256)               11927808  \n",
      "_________________________________________________________________\n",
      "batch_normalization_11 (Batc (None, 256)               1024      \n",
      "_________________________________________________________________\n",
      "dense_1 (Dense)              (None, 256)               65792     \n",
      "_________________________________________________________________\n",
      "batch_normalization_12 (Batc (None, 256)               1024      \n",
      "_________________________________________________________________\n",
      "dense_2 (Dense)              (None, 3)                 771       \n",
      "=================================================================\n",
      "Total params: 12,286,883\n",
      "Trainable params: 12,284,131\n",
      "Non-trainable params: 2,752\n",
      "_________________________________________________________________\n"
     ]
    }
   ],
   "source": [
    "model.summary()"
   ]
  },
  {
   "cell_type": "markdown",
   "metadata": {
    "id": "47d7e775"
   },
   "source": [
    "## Hyperparameter Tuning\n",
    "\n",
    "Using the Tuner class in Keras we fine tune the hyperparameters of the model above. We pass arguments to the \"RandomSearch\" function within the models class as \"HyperModel\" and let the oracle function find the best parameters for the layers we want to tune. \n",
    "\n",
    "#### Tuned layers/parameters:\n",
    "- Dropout (1 & 2)\n",
    "- Conv2D (# of filters, last two -block 3)\n",
    "- Dense (# of units)\n",
    "- Learning rate (initial learning rate for \"lr_schedule\" with SGD optimizer)"
   ]
  },
  {
   "cell_type": "code",
   "execution_count": null,
   "metadata": {
    "ExecuteTime": {
     "end_time": "2021-07-21T22:42:34.213362Z",
     "start_time": "2021-07-21T22:42:34.190868Z"
    },
    "id": "700678d2"
   },
   "outputs": [],
   "source": [
    "# Tuner class\n",
    "\n",
    "class SpecNet(HyperModel):\n",
    "    def __init__(self, input_shape, num_classes):#, num_epochs):\n",
    "        self.input_shape = input_shape\n",
    "        self.num_classes = num_classes\n",
    "        #self.num_epochs = num_epochs\n",
    "        \n",
    "    def build(self, hp):\n",
    "        lr_schedule = tensorflow.keras.optimizers.schedules.ExponentialDecay(\n",
    "            initial_learning_rate=hp.Float(\n",
    "                'initial_learning_rate',\n",
    "                min_value=0.01,\n",
    "                max_value=0.1,\n",
    "                sampling='LOG',\n",
    "                default=0.1\n",
    "            ),\n",
    "            decay_steps=100000,\n",
    "            decay_rate=0.96,\n",
    "            staircase=True)\n",
    "\n",
    "        OPTIMIZER = SGD(learning_rate=lr_schedule)\n",
    "\n",
    "\n",
    "        model = Sequential()\n",
    "        \n",
    "        # Block 1 Conv2D\n",
    "        model.add(Conv2D(32, (3,3), padding='same', input_shape=self.input_shape, activation='relu'))\n",
    "        model.add(BatchNormalization())\n",
    "        model.add(Conv2D(32, (3,3), padding='same', activation='relu'))\n",
    "        model.add(BatchNormalization())\n",
    "        model.add(MaxPooling2D(pool_size=(2,2)))\n",
    "        model.add(BatchNormalization())\n",
    "        \n",
    "        # Block 2 Conv2D\n",
    "        model.add(Conv2D(64, (3,3), padding='valid', activation='relu'))\n",
    "        model.add(BatchNormalization())\n",
    "        model.add(Conv2D(64, (3,3), padding='valid', activation='relu'))\n",
    "        model.add(BatchNormalization())\n",
    "        model.add(MaxPooling2D(pool_size=(2,2)))\n",
    "        model.add(BatchNormalization())\n",
    "        model.add(Dropout(0.4))\n",
    "        model.add(BatchNormalization())\n",
    "        \n",
    "        # Block 3 Conv2D\n",
    "        model.add(Conv2D(128, (3,3), padding='valid', activation='relu'))\n",
    "        model.add(BatchNormalization())\n",
    "        model.add(Conv2D(128, (3,3), padding='valid', activation='relu'))\n",
    "        model.add(BatchNormalization())\n",
    "        model.add(MaxPooling2D(pool_size=(2,2)))\n",
    "        model.add(BatchNormalization())\n",
    "        model.add(Dropout(0.4))\n",
    "        model.add(BatchNormalization())\n",
    "        \n",
    "        # Fully Connected \n",
    "        model.add(Flatten())\n",
    "        model.add(Dense(256, activation='relu'))\n",
    "        model.add(BatchNormalization())\n",
    "        model.add(Dense(256, activation='relu'))\n",
    "        model.add(BatchNormalization())\n",
    "        model.add(Dense(self.num_classes, activation='softmax'))\n",
    "\n",
    "\n",
    "        early_stopping = EarlyStopping(monitor='loss', patience=1)\n",
    "        checkpoint = ModelCheckpoint(filepath=\"SN.h5\",\n",
    "                                     monitor=\"val_accuracy\",\n",
    "                                     mode=\"max\", \n",
    "                                     save_best_only=True)\n",
    "\n",
    "        model.compile(optimizer=OPTIMIZER,\n",
    "                      loss='categorical_crossentropy', \n",
    "                      metrics=['accuracy'])\n",
    "                         \n",
    "        return model"
   ]
  },
  {
   "cell_type": "code",
   "execution_count": null,
   "metadata": {
    "ExecuteTime": {
     "end_time": "2021-07-21T22:42:37.413567Z",
     "start_time": "2021-07-21T22:42:37.082266Z"
    },
    "id": "aadd3f83",
    "outputId": "d268bea6-5e39-4123-808d-83affb3e7362"
   },
   "outputs": [
    {
     "name": "stdout",
     "output_type": "stream",
     "text": [
      "Search space summary\n",
      "Default search space size: 1\n",
      "initial_learning_rate (Float)\n",
      "{'default': 0.1, 'conditions': [], 'min_value': 0.01, 'max_value': 0.1, 'step': None, 'sampling': 'log'}\n"
     ]
    }
   ],
   "source": [
    "NUM_CLASSES = 3\n",
    "INPUT_SHAPE = (251, 128, 3)\n",
    "\n",
    "MAX_TRIALS = 15\n",
    "EXECUTION_PER_TRIAL = 2\n",
    "SEED = 44\n",
    "\n",
    "hypermodelSN = SpecNet(input_shape=INPUT_SHAPE, num_classes=NUM_CLASSES)\n",
    "\n",
    "randomsearchSN = RandomSearch(\n",
    "    hypermodelSN,\n",
    "    objective='val_loss',\n",
    "    seed=SEED,\n",
    "    max_trials=MAX_TRIALS,\n",
    "    executions_per_trial=EXECUTION_PER_TRIAL,\n",
    "    directory='SNTune',\n",
    "    project_name='randomsearchLast3'\n",
    ")\n",
    "\n",
    "randomsearchSN.search_space_summary()"
   ]
  },
  {
   "cell_type": "code",
   "execution_count": null,
   "metadata": {
    "ExecuteTime": {
     "end_time": "2021-07-22T01:04:45.473774Z",
     "start_time": "2021-07-21T22:42:50.211977Z"
    },
    "id": "e1d0c8de",
    "outputId": "359c91d6-d0c3-4bd1-b5f8-7974f1b6bdf4"
   },
   "outputs": [
    {
     "name": "stdout",
     "output_type": "stream",
     "text": [
      "Trial 15 Complete [00h 09m 28s]\n",
      "val_loss: 1.453612208366394\n",
      "\n",
      "Best val_loss So Far: 0.953913003206253\n",
      "Total elapsed time: 02h 21m 55s\n",
      "INFO:tensorflow:Oracle triggered exit\n"
     ]
    }
   ],
   "source": [
    "N_EPOCH_SEARCH = 1\n",
    "randomsearchSN.search(training_set, validation_data=test_set, epochs=N_EPOCH_SEARCH)"
   ]
  },
  {
   "cell_type": "code",
   "execution_count": null,
   "metadata": {
    "ExecuteTime": {
     "end_time": "2021-07-22T03:20:11.259867Z",
     "start_time": "2021-07-22T03:20:11.249623Z"
    },
    "id": "b71ac5c9",
    "outputId": "6abfa7fe-07cd-42a1-aafd-7c7e54bc72b3"
   },
   "outputs": [
    {
     "name": "stdout",
     "output_type": "stream",
     "text": [
      "Results summary\n",
      "Results in SNTune/randomsearchLast3\n",
      "Showing 10 best trials\n",
      "Objective(name='val_loss', direction='min')\n",
      "Trial summary\n",
      "Hyperparameters:\n",
      "initial_learning_rate: 0.01102975113618826\n",
      "Score: 0.953913003206253\n",
      "Trial summary\n",
      "Hyperparameters:\n",
      "initial_learning_rate: 0.012312318862783698\n",
      "Score: 0.9883843660354614\n",
      "Trial summary\n",
      "Hyperparameters:\n",
      "initial_learning_rate: 0.09245261253931152\n",
      "Score: 1.0185049772262573\n",
      "Trial summary\n",
      "Hyperparameters:\n",
      "initial_learning_rate: 0.03144391175271079\n",
      "Score: 1.0190978050231934\n",
      "Trial summary\n",
      "Hyperparameters:\n",
      "initial_learning_rate: 0.01166497940438329\n",
      "Score: 1.0411848425865173\n",
      "Trial summary\n",
      "Hyperparameters:\n",
      "initial_learning_rate: 0.018701455766499828\n",
      "Score: 1.0785477757453918\n",
      "Trial summary\n",
      "Hyperparameters:\n",
      "initial_learning_rate: 0.02561744893993957\n",
      "Score: 1.1252598762512207\n",
      "Trial summary\n",
      "Hyperparameters:\n",
      "initial_learning_rate: 0.017519340871097286\n",
      "Score: 1.3219673037528992\n",
      "Trial summary\n",
      "Hyperparameters:\n",
      "initial_learning_rate: 0.03808528106055659\n",
      "Score: 1.453612208366394\n",
      "Trial summary\n",
      "Hyperparameters:\n",
      "initial_learning_rate: 0.035331154459907144\n",
      "Score: 1.5552538633346558\n"
     ]
    }
   ],
   "source": [
    "randomsearchSN.results_summary()"
   ]
  },
  {
   "cell_type": "code",
   "execution_count": null,
   "metadata": {
    "ExecuteTime": {
     "end_time": "2021-07-22T03:21:13.524498Z",
     "start_time": "2021-07-22T03:21:13.011477Z"
    },
    "id": "203a5fd9"
   },
   "outputs": [],
   "source": [
    "best_model = randomsearchSN.get_best_models(num_models=1)[0]"
   ]
  },
  {
   "cell_type": "code",
   "execution_count": null,
   "metadata": {
    "ExecuteTime": {
     "end_time": "2021-07-22T03:22:05.860132Z",
     "start_time": "2021-07-22T03:22:05.839295Z"
    },
    "id": "4b12165f",
    "outputId": "68ad56d6-0103-481d-c67a-93753cbd6286"
   },
   "outputs": [
    {
     "name": "stdout",
     "output_type": "stream",
     "text": [
      "Model: \"sequential\"\n",
      "_________________________________________________________________\n",
      "Layer (type)                 Output Shape              Param #   \n",
      "=================================================================\n",
      "conv2d (Conv2D)              (None, 251, 128, 32)      896       \n",
      "_________________________________________________________________\n",
      "batch_normalization (BatchNo (None, 251, 128, 32)      128       \n",
      "_________________________________________________________________\n",
      "conv2d_1 (Conv2D)            (None, 251, 128, 32)      9248      \n",
      "_________________________________________________________________\n",
      "batch_normalization_1 (Batch (None, 251, 128, 32)      128       \n",
      "_________________________________________________________________\n",
      "max_pooling2d (MaxPooling2D) (None, 125, 64, 32)       0         \n",
      "_________________________________________________________________\n",
      "batch_normalization_2 (Batch (None, 125, 64, 32)       128       \n",
      "_________________________________________________________________\n",
      "conv2d_2 (Conv2D)            (None, 123, 62, 64)       18496     \n",
      "_________________________________________________________________\n",
      "batch_normalization_3 (Batch (None, 123, 62, 64)       256       \n",
      "_________________________________________________________________\n",
      "conv2d_3 (Conv2D)            (None, 121, 60, 64)       36928     \n",
      "_________________________________________________________________\n",
      "batch_normalization_4 (Batch (None, 121, 60, 64)       256       \n",
      "_________________________________________________________________\n",
      "max_pooling2d_1 (MaxPooling2 (None, 60, 30, 64)        0         \n",
      "_________________________________________________________________\n",
      "batch_normalization_5 (Batch (None, 60, 30, 64)        256       \n",
      "_________________________________________________________________\n",
      "dropout (Dropout)            (None, 60, 30, 64)        0         \n",
      "_________________________________________________________________\n",
      "batch_normalization_6 (Batch (None, 60, 30, 64)        256       \n",
      "_________________________________________________________________\n",
      "conv2d_4 (Conv2D)            (None, 58, 28, 128)       73856     \n",
      "_________________________________________________________________\n",
      "batch_normalization_7 (Batch (None, 58, 28, 128)       512       \n",
      "_________________________________________________________________\n",
      "conv2d_5 (Conv2D)            (None, 56, 26, 128)       147584    \n",
      "_________________________________________________________________\n",
      "batch_normalization_8 (Batch (None, 56, 26, 128)       512       \n",
      "_________________________________________________________________\n",
      "max_pooling2d_2 (MaxPooling2 (None, 28, 13, 128)       0         \n",
      "_________________________________________________________________\n",
      "batch_normalization_9 (Batch (None, 28, 13, 128)       512       \n",
      "_________________________________________________________________\n",
      "dropout_1 (Dropout)          (None, 28, 13, 128)       0         \n",
      "_________________________________________________________________\n",
      "batch_normalization_10 (Batc (None, 28, 13, 128)       512       \n",
      "_________________________________________________________________\n",
      "flatten (Flatten)            (None, 46592)             0         \n",
      "_________________________________________________________________\n",
      "dense (Dense)                (None, 256)               11927808  \n",
      "_________________________________________________________________\n",
      "batch_normalization_11 (Batc (None, 256)               1024      \n",
      "_________________________________________________________________\n",
      "dense_1 (Dense)              (None, 256)               65792     \n",
      "_________________________________________________________________\n",
      "batch_normalization_12 (Batc (None, 256)               1024      \n",
      "_________________________________________________________________\n",
      "dense_2 (Dense)              (None, 3)                 771       \n",
      "=================================================================\n",
      "Total params: 12,286,883\n",
      "Trainable params: 12,284,131\n",
      "Non-trainable params: 2,752\n",
      "_________________________________________________________________\n"
     ]
    }
   ],
   "source": [
    "best_model.summary()"
   ]
  },
  {
   "cell_type": "code",
   "execution_count": null,
   "metadata": {
    "ExecuteTime": {
     "end_time": "2021-07-22T03:24:53.989590Z",
     "start_time": "2021-07-22T03:23:36.707217Z"
    },
    "id": "b19d5706",
    "outputId": "1ec9dc41-6a9d-4b8e-f520-50c3503c4af4"
   },
   "outputs": [
    {
     "name": "stdout",
     "output_type": "stream",
     "text": [
      "2857/2857 [==============================] - 77s 27ms/step - loss: 0.9341 - accuracy: 0.5358\n"
     ]
    }
   ],
   "source": [
    "loss, accuracy = best_model.evaluate(test_set)"
   ]
  },
  {
   "cell_type": "code",
   "execution_count": null,
   "metadata": {
    "ExecuteTime": {
     "end_time": "2021-07-22T03:32:12.931957Z",
     "start_time": "2021-07-22T03:32:12.918763Z"
    },
    "id": "f4f307f4"
   },
   "outputs": [],
   "source": [
    "best_model_json = best_model.to_json()\n",
    "with open(\"best_model_1.json\", \"w\") as json_file:\n",
    "    json_file.write(best_model_json)"
   ]
  },
  {
   "cell_type": "code",
   "execution_count": null,
   "metadata": {
    "ExecuteTime": {
     "end_time": "2021-07-22T03:32:47.512799Z",
     "start_time": "2021-07-22T03:32:47.385118Z"
    },
    "id": "01d65e54",
    "outputId": "c55dd956-b6ea-48cd-b6fe-04ee2cb2a3c0"
   },
   "outputs": [
    {
     "name": "stdout",
     "output_type": "stream",
     "text": [
      "Saved model to disk\n"
     ]
    }
   ],
   "source": [
    "best_model.save_weights(\"best_model_1.h5\")\n",
    "print(\"Saved model to disk\")"
   ]
  },
  {
   "cell_type": "code",
   "execution_count": null,
   "metadata": {
    "ExecuteTime": {
     "end_time": "2021-07-22T03:35:01.606440Z",
     "start_time": "2021-07-22T03:35:01.601703Z"
    },
    "id": "db1f8ac1"
   },
   "outputs": [],
   "source": [
    "from tensorflow.keras.models import model_from_json"
   ]
  },
  {
   "cell_type": "code",
   "execution_count": null,
   "metadata": {
    "ExecuteTime": {
     "end_time": "2021-07-22T03:35:04.099003Z",
     "start_time": "2021-07-22T03:35:03.856981Z"
    },
    "id": "ec2cd598",
    "outputId": "4737c17b-7f7f-4df0-99a6-720ff0002a07"
   },
   "outputs": [
    {
     "name": "stdout",
     "output_type": "stream",
     "text": [
      "Loaded model from disk\n"
     ]
    }
   ],
   "source": [
    "json_file = open('best_model_1.json', 'r')\n",
    "loaded_model_json = json_file.read()\n",
    "json_file.close()\n",
    "loaded_model = model_from_json(loaded_model_json)\n",
    "# load weights into new model\n",
    "loaded_model.load_weights(\"best_model_1.h5\")\n",
    "print(\"Loaded model from disk\")"
   ]
  },
  {
   "cell_type": "code",
   "execution_count": null,
   "metadata": {
    "ExecuteTime": {
     "end_time": "2021-07-22T03:35:18.425446Z",
     "start_time": "2021-07-22T03:35:18.409818Z"
    },
    "id": "df8201ab",
    "outputId": "6c18ee0c-50fb-4a70-9917-8e66d3ac2a95"
   },
   "outputs": [
    {
     "name": "stdout",
     "output_type": "stream",
     "text": [
      "Model: \"sequential\"\n",
      "_________________________________________________________________\n",
      "Layer (type)                 Output Shape              Param #   \n",
      "=================================================================\n",
      "conv2d (Conv2D)              (None, 251, 128, 32)      896       \n",
      "_________________________________________________________________\n",
      "batch_normalization (BatchNo (None, 251, 128, 32)      128       \n",
      "_________________________________________________________________\n",
      "conv2d_1 (Conv2D)            (None, 251, 128, 32)      9248      \n",
      "_________________________________________________________________\n",
      "batch_normalization_1 (Batch (None, 251, 128, 32)      128       \n",
      "_________________________________________________________________\n",
      "max_pooling2d (MaxPooling2D) (None, 125, 64, 32)       0         \n",
      "_________________________________________________________________\n",
      "batch_normalization_2 (Batch (None, 125, 64, 32)       128       \n",
      "_________________________________________________________________\n",
      "conv2d_2 (Conv2D)            (None, 123, 62, 64)       18496     \n",
      "_________________________________________________________________\n",
      "batch_normalization_3 (Batch (None, 123, 62, 64)       256       \n",
      "_________________________________________________________________\n",
      "conv2d_3 (Conv2D)            (None, 121, 60, 64)       36928     \n",
      "_________________________________________________________________\n",
      "batch_normalization_4 (Batch (None, 121, 60, 64)       256       \n",
      "_________________________________________________________________\n",
      "max_pooling2d_1 (MaxPooling2 (None, 60, 30, 64)        0         \n",
      "_________________________________________________________________\n",
      "batch_normalization_5 (Batch (None, 60, 30, 64)        256       \n",
      "_________________________________________________________________\n",
      "dropout (Dropout)            (None, 60, 30, 64)        0         \n",
      "_________________________________________________________________\n",
      "batch_normalization_6 (Batch (None, 60, 30, 64)        256       \n",
      "_________________________________________________________________\n",
      "conv2d_4 (Conv2D)            (None, 58, 28, 128)       73856     \n",
      "_________________________________________________________________\n",
      "batch_normalization_7 (Batch (None, 58, 28, 128)       512       \n",
      "_________________________________________________________________\n",
      "conv2d_5 (Conv2D)            (None, 56, 26, 128)       147584    \n",
      "_________________________________________________________________\n",
      "batch_normalization_8 (Batch (None, 56, 26, 128)       512       \n",
      "_________________________________________________________________\n",
      "max_pooling2d_2 (MaxPooling2 (None, 28, 13, 128)       0         \n",
      "_________________________________________________________________\n",
      "batch_normalization_9 (Batch (None, 28, 13, 128)       512       \n",
      "_________________________________________________________________\n",
      "dropout_1 (Dropout)          (None, 28, 13, 128)       0         \n",
      "_________________________________________________________________\n",
      "batch_normalization_10 (Batc (None, 28, 13, 128)       512       \n",
      "_________________________________________________________________\n",
      "flatten (Flatten)            (None, 46592)             0         \n",
      "_________________________________________________________________\n",
      "dense (Dense)                (None, 256)               11927808  \n",
      "_________________________________________________________________\n",
      "batch_normalization_11 (Batc (None, 256)               1024      \n",
      "_________________________________________________________________\n",
      "dense_1 (Dense)              (None, 256)               65792     \n",
      "_________________________________________________________________\n",
      "batch_normalization_12 (Batc (None, 256)               1024      \n",
      "_________________________________________________________________\n",
      "dense_2 (Dense)              (None, 3)                 771       \n",
      "=================================================================\n",
      "Total params: 12,286,883\n",
      "Trainable params: 12,284,131\n",
      "Non-trainable params: 2,752\n",
      "_________________________________________________________________\n"
     ]
    }
   ],
   "source": [
    "loaded_model.summary()"
   ]
  },
  {
   "cell_type": "code",
   "execution_count": null,
   "metadata": {
    "ExecuteTime": {
     "end_time": "2021-07-22T06:02:57.389595Z",
     "start_time": "2021-07-22T05:04:47.003050Z"
    },
    "id": "052b13fb"
   },
   "outputs": [],
   "source": [
    "checkpoint = ModelCheckpoint(filepath=\"SN_saved.h5\",\n",
    "                                     monitor=\"val_accuracy\",\n",
    "                                     mode=\"max\", \n",
    "                                     save_best_only=True)\n",
    "\n",
    "best_model.compile(optimizer=Adam(lr=0.001, beta_1=0.9, beta_2=0.999, epsilon=None, decay=0.01, amsgrad=False),\n",
    "             loss='categorical_crossentropy', \n",
    "             metrics=['accuracy'])\n",
    "\n",
    "history = best_model.fit(training_set,\n",
    "                    steps_per_epoch=len(training_set),\n",
    "                    epochs=40,\n",
    "                    validation_data=test_set,\n",
    "                    callbacks=[early_stopping, checkpoint],\n",
    "                    validation_steps=len(test_set),\n",
    "                    verbose=1)"
   ]
  },
  {
   "cell_type": "markdown",
   "metadata": {
    "id": "8fdd5a6d"
   },
   "source": [
    "## Experimental CNNs\n",
    "\n",
    "Here, we build 3 models from scratch. The idea was to add depth to our previous model above and try new forms of regularization. We were planning for the added depth to reduce overfitting while allowing the NN to extract more unique features from our spectrograms.\n",
    "\n",
    "- Model 1: Added new Conv2D layers with larger filter size\n",
    "- Model 2: Kept depth but added dropout layers after each block\n",
    "- Model 3: Removed dropout layer from fully connected\n",
    "\n",
    "Different batch sizes were used for each, however, 512 seemed to produce the best results during training."
   ]
  },
  {
   "cell_type": "code",
   "execution_count": null,
   "metadata": {
    "ExecuteTime": {
     "end_time": "2021-07-27T04:17:11.849499Z",
     "start_time": "2021-07-27T04:17:11.841061Z"
    },
    "id": "f7ce8d3d"
   },
   "outputs": [],
   "source": [
    "%load_ext tensorboard"
   ]
  },
  {
   "cell_type": "code",
   "execution_count": null,
   "metadata": {
    "ExecuteTime": {
     "end_time": "2021-07-27T04:17:20.462744Z",
     "start_time": "2021-07-27T04:17:18.548858Z"
    },
    "id": "0097aee9"
   },
   "outputs": [],
   "source": [
    "from tensorflow.keras.preprocessing.image import ImageDataGenerator, load_img, img_to_array\n",
    "from tensorflow.keras.preprocessing import image_dataset_from_directory\n",
    "from tensorflow.keras.models import Sequential\n",
    "from tensorflow.keras.layers import Flatten, BatchNormalization, Dense, Dropout, Conv2D, MaxPooling2D, Activation\n",
    "from tensorflow.keras.layers.experimental.preprocessing import RandomContrast, RandomCrop, RandomFlip\n",
    "from tensorflow.keras.callbacks import ModelCheckpoint, EarlyStopping, ReduceLROnPlateau, TensorBoard\n",
    "from tensorflow.keras.optimizers import RMSprop, Adam, SGD\n",
    "from tensorflow.keras.optimizers.schedules import ExponentialDecay\n",
    "from tensorflow.keras.optimizers import schedules\n",
    "from tensorflow.keras.losses import CategoricalCrossentropy\n",
    "from tensorflow.nn import weighted_cross_entropy_with_logits\n",
    "from tensorflow.keras.constraints import unit_norm\n",
    "from tensorflow.keras.applications import ResNet50, VGG16\n",
    "import tensorflow_addons as tfa\n",
    "\n",
    "import numpy as np\n",
    "import datetime\n",
    "import warnings\n",
    "import os\n",
    "warnings.filterwarnings('ignore') "
   ]
  },
  {
   "cell_type": "code",
   "execution_count": null,
   "metadata": {
    "ExecuteTime": {
     "end_time": "2021-07-27T04:39:54.389910Z",
     "start_time": "2021-07-27T04:39:54.382776Z"
    },
    "id": "19edc503"
   },
   "outputs": [],
   "source": [
    "def Ranger(sync_period=6,\n",
    "           slow_step_size=0.5,\n",
    "           learning_rate=0.001,\n",
    "           beta_1=0.9,\n",
    "           beta_2=0.999,\n",
    "           epsilon=1e-7,\n",
    "           weight_decay=0.,\n",
    "           amsgrad=False,\n",
    "           sma_threshold=5.0,\n",
    "           total_steps=0,\n",
    "           warmup_proportion=0.1,\n",
    "           min_lr=0.,\n",
    "           name=\"Ranger\"):\n",
    "\n",
    "    # create RAdam optimizer\n",
    "    inner = tfa.optimizers.RectifiedAdam(learning_rate, beta_1, beta_2, epsilon, weight_decay, amsgrad, sma_threshold, total_steps, warmup_proportion, min_lr, name)\n",
    "    # feed RAdam optimizer into lookahead operation\n",
    "    optim = tfa.optimizers.Lookahead(inner, sync_period, slow_step_size, name)\n",
    "    return optim"
   ]
  },
  {
   "cell_type": "code",
   "execution_count": 6,
   "metadata": {
    "ExecuteTime": {
     "end_time": "2021-07-27T04:17:43.357469Z",
     "start_time": "2021-07-27T04:17:29.344280Z"
    },
    "colab": {
     "base_uri": "https://localhost:8080/",
     "height": 399
    },
    "id": "9e4a53dc",
    "outputId": "57535740-1594-4d41-9e6d-828388888f05",
    "scrolled": true
   },
   "outputs": [],
   "source": [
    "# Initiate same type of image gen - rescale pixels ..  for all CNNs\n",
    "# New batch size (512)\n",
    "\n",
    "train_datagen = ImageDataGenerator(rescale=1./255)\n",
    "test_datagen = ImageDataGenerator(rescale=1./255)\n",
    "\n",
    "training_set = train_datagen.flow_from_directory(\n",
    "     './spec_pngs_train_OS3/train/',\n",
    "     target_size=(128, 251),\n",
    "     batch_size=512,\n",
    "     #shuffle=True,\n",
    "     class_mode='categorical')\n",
    "test_set = test_datagen.flow_from_directory(\n",
    "     './spec_pngs_train_OS3/val/',\n",
    "     target_size=(128, 251),\n",
    "     batch_size=512,\n",
    "     #shuffle=True,\n",
    "     class_mode='categorical')\n",
    "\n",
    "\n",
    "print('Batches train=%d, test=%d' % (len(training_set), len(test_set)))\n",
    "\n",
    "batchX, batchy = training_set.next()\n",
    "print('Batch shape=%s, min=%.3f, max=%.3f' % (batchX.shape, batchX.min(), batchX.max()))"
   ]
  },
  {
   "cell_type": "code",
   "execution_count": null,
   "metadata": {
    "ExecuteTime": {
     "end_time": "2021-07-23T02:32:46.878534Z",
     "start_time": "2021-07-22T23:15:32.754019Z"
    },
    "id": "e2ed8ad2",
    "outputId": "442f3e98-c39b-40c9-ffa3-4b3e27a7b209",
    "scrolled": true
   },
   "outputs": [
    {
     "name": "stderr",
     "output_type": "stream",
     "text": [
      "2021-07-22 16:15:33.443573: I tensorflow/compiler/mlir/mlir_graph_optimization_pass.cc:176] None of the MLIR Optimization Passes are enabled (registered 2)\n",
      "2021-07-22 16:15:33.444152: I tensorflow/core/platform/profile_utils/cpu_utils.cc:114] CPU Frequency: 2499970000 Hz\n"
     ]
    },
    {
     "name": "stdout",
     "output_type": "stream",
     "text": [
      "Epoch 1/40\n"
     ]
    },
    {
     "name": "stderr",
     "output_type": "stream",
     "text": [
      "2021-07-22 16:15:40.277368: I tensorflow/stream_executor/platform/default/dso_loader.cc:53] Successfully opened dynamic library libcudnn.so.8\n",
      "2021-07-22 16:15:40.941855: I tensorflow/stream_executor/cuda/cuda_dnn.cc:359] Loaded cuDNN version 8101\n",
      "2021-07-22 16:15:41.755114: I tensorflow/stream_executor/platform/default/dso_loader.cc:53] Successfully opened dynamic library libcublas.so.11\n",
      "2021-07-22 16:15:42.361648: I tensorflow/stream_executor/platform/default/dso_loader.cc:53] Successfully opened dynamic library libcublasLt.so.11\n",
      "2021-07-22 16:15:43.179062: I tensorflow/stream_executor/cuda/cuda_blas.cc:1838] TensorFloat-32 will be used for the matrix multiplication. This will only be logged once.\n"
     ]
    },
    {
     "name": "stdout",
     "output_type": "stream",
     "text": [
      "1667/1667 [==============================] - 302s 174ms/step - loss: 1.0322 - accuracy: 0.4655 - val_loss: 1.1310 - val_accuracy: 0.4021\n",
      "Epoch 2/40\n",
      "1667/1667 [==============================] - 290s 174ms/step - loss: 0.9385 - accuracy: 0.5286 - val_loss: 1.1824 - val_accuracy: 0.4271\n",
      "Epoch 3/40\n",
      "1667/1667 [==============================] - 289s 173ms/step - loss: 0.9193 - accuracy: 0.5355 - val_loss: 0.9297 - val_accuracy: 0.5383\n",
      "Epoch 4/40\n",
      "1667/1667 [==============================] - 289s 174ms/step - loss: 0.9123 - accuracy: 0.5406 - val_loss: 0.9056 - val_accuracy: 0.5452\n",
      "Epoch 5/40\n",
      "1667/1667 [==============================] - 292s 175ms/step - loss: 0.9056 - accuracy: 0.5441 - val_loss: 0.9092 - val_accuracy: 0.5517\n",
      "Epoch 6/40\n",
      "1667/1667 [==============================] - 291s 175ms/step - loss: 0.9008 - accuracy: 0.5475 - val_loss: 1.0394 - val_accuracy: 0.4181\n",
      "Epoch 7/40\n",
      "1667/1667 [==============================] - 293s 176ms/step - loss: 0.8951 - accuracy: 0.5491 - val_loss: 0.9929 - val_accuracy: 0.4995\n",
      "Epoch 8/40\n",
      "1667/1667 [==============================] - 290s 174ms/step - loss: 0.8915 - accuracy: 0.5522 - val_loss: 0.8990 - val_accuracy: 0.5451\n",
      "Epoch 9/40\n",
      "1667/1667 [==============================] - 293s 176ms/step - loss: 0.8872 - accuracy: 0.5546 - val_loss: 0.8949 - val_accuracy: 0.5493\n",
      "Epoch 10/40\n",
      "1667/1667 [==============================] - 308s 185ms/step - loss: 0.8835 - accuracy: 0.5563 - val_loss: 0.8863 - val_accuracy: 0.5511\n",
      "Epoch 11/40\n",
      "1667/1667 [==============================] - 291s 175ms/step - loss: 0.8808 - accuracy: 0.5572 - val_loss: 0.9574 - val_accuracy: 0.5202\n",
      "Epoch 12/40\n",
      "1667/1667 [==============================] - 291s 174ms/step - loss: 0.8772 - accuracy: 0.5593 - val_loss: 0.8897 - val_accuracy: 0.5543\n",
      "Epoch 13/40\n",
      "1667/1667 [==============================] - 292s 175ms/step - loss: 0.8736 - accuracy: 0.5620 - val_loss: 0.9142 - val_accuracy: 0.5529\n",
      "Epoch 14/40\n",
      "1667/1667 [==============================] - 291s 175ms/step - loss: 0.8695 - accuracy: 0.5650 - val_loss: 0.8816 - val_accuracy: 0.5599\n",
      "Epoch 15/40\n",
      "1667/1667 [==============================] - 293s 176ms/step - loss: 0.8663 - accuracy: 0.5660 - val_loss: 0.9489 - val_accuracy: 0.5343\n",
      "Epoch 16/40\n",
      "1667/1667 [==============================] - 293s 176ms/step - loss: 0.8614 - accuracy: 0.5694 - val_loss: 0.8939 - val_accuracy: 0.5565\n",
      "Epoch 17/40\n",
      "1667/1667 [==============================] - 309s 186ms/step - loss: 0.8586 - accuracy: 0.5707 - val_loss: 0.8656 - val_accuracy: 0.5681\n",
      "Epoch 18/40\n",
      "1667/1667 [==============================] - 291s 175ms/step - loss: 0.8544 - accuracy: 0.5726 - val_loss: 0.8642 - val_accuracy: 0.5685\n",
      "Epoch 19/40\n",
      "1667/1667 [==============================] - 292s 175ms/step - loss: 0.8499 - accuracy: 0.5767 - val_loss: 0.9300 - val_accuracy: 0.5386\n",
      "Epoch 20/40\n",
      "1667/1667 [==============================] - 292s 175ms/step - loss: 0.8453 - accuracy: 0.5777 - val_loss: 0.8702 - val_accuracy: 0.5663\n",
      "Epoch 21/40\n",
      "1667/1667 [==============================] - 293s 175ms/step - loss: 0.8390 - accuracy: 0.5827 - val_loss: 0.8942 - val_accuracy: 0.5600\n",
      "Epoch 22/40\n",
      "1667/1667 [==============================] - 293s 176ms/step - loss: 0.8322 - accuracy: 0.5875 - val_loss: 0.8711 - val_accuracy: 0.5697\n",
      "Epoch 23/40\n",
      "1667/1667 [==============================] - 291s 175ms/step - loss: 0.8264 - accuracy: 0.5909 - val_loss: 0.8607 - val_accuracy: 0.5738\n",
      "Epoch 24/40\n",
      "1667/1667 [==============================] - 292s 175ms/step - loss: 0.8174 - accuracy: 0.5968 - val_loss: 0.8590 - val_accuracy: 0.5795\n",
      "Epoch 25/40\n",
      "1667/1667 [==============================] - 309s 185ms/step - loss: 0.7977 - accuracy: 0.6108 - val_loss: 0.8637 - val_accuracy: 0.5733\n",
      "Epoch 27/40\n",
      "1667/1667 [==============================] - 294s 176ms/step - loss: 0.7865 - accuracy: 0.6182 - val_loss: 0.8615 - val_accuracy: 0.5835\n",
      "Epoch 28/40\n",
      "1667/1667 [==============================] - 309s 185ms/step - loss: 0.7738 - accuracy: 0.6262 - val_loss: 0.8696 - val_accuracy: 0.5756\n",
      "Epoch 29/40\n",
      "1667/1667 [==============================] - 293s 176ms/step - loss: 0.7583 - accuracy: 0.6350 - val_loss: 0.8536 - val_accuracy: 0.5893\n",
      "Epoch 30/40\n",
      "1667/1667 [==============================] - 293s 176ms/step - loss: 0.7446 - accuracy: 0.6436 - val_loss: 0.8624 - val_accuracy: 0.5874\n",
      "Epoch 31/40\n",
      "1667/1667 [==============================] - 294s 176ms/step - loss: 0.7270 - accuracy: 0.6556 - val_loss: 0.8595 - val_accuracy: 0.5953\n",
      "Epoch 32/40\n",
      "1667/1667 [==============================] - 293s 176ms/step - loss: 0.7116 - accuracy: 0.6646 - val_loss: 0.8727 - val_accuracy: 0.5955\n",
      "Epoch 33/40\n",
      "1667/1667 [==============================] - 290s 174ms/step - loss: 0.6951 - accuracy: 0.6738 - val_loss: 0.8670 - val_accuracy: 0.5952\n",
      "Epoch 34/40\n",
      "1667/1667 [==============================] - 294s 176ms/step - loss: 0.6759 - accuracy: 0.6858 - val_loss: 0.8765 - val_accuracy: 0.5963\n",
      "Epoch 35/40\n",
      "1667/1667 [==============================] - 294s 176ms/step - loss: 0.6582 - accuracy: 0.6955 - val_loss: 0.8651 - val_accuracy: 0.6083\n",
      "Epoch 36/40\n",
      "1667/1667 [==============================] - 295s 177ms/step - loss: 0.6399 - accuracy: 0.7060 - val_loss: 0.8576 - val_accuracy: 0.6136\n",
      "Epoch 37/40\n",
      "1667/1667 [==============================] - 294s 176ms/step - loss: 0.6235 - accuracy: 0.7145 - val_loss: 0.8679 - val_accuracy: 0.6143\n",
      "Epoch 38/40\n",
      "1667/1667 [==============================] - 293s 176ms/step - loss: 0.6058 - accuracy: 0.7243 - val_loss: 0.8943 - val_accuracy: 0.6122\n",
      "Epoch 39/40\n",
      "1667/1667 [==============================] - 293s 176ms/step - loss: 0.5894 - accuracy: 0.7323 - val_loss: 0.8781 - val_accuracy: 0.6155\n",
      "Epoch 40/40\n",
      "1667/1667 [==============================] - 296s 177ms/step - loss: 0.5740 - accuracy: 0.7415 - val_loss: 0.9174 - val_accuracy: 0.6104\n"
     ]
    }
   ],
   "source": [
    "NUM_CLASSES = 3\n",
    "INPUT_SHAPE = (128, 251, 3)\n",
    "\n",
    "N_EPOCHS = 40\n",
    "OPTIMIZER = Ranger(learning_rate=0.001, beta_1=0.9, beta_2=0.999, epsilon=1e-7, weight_decay=0.01, amsgrad=False)\n",
    "\n",
    "\n",
    "cnnspec = Sequential()\n",
    "\n",
    "# Block 1 Conv2D\n",
    "cnnspec.add(Conv2D(32, (3,3), padding='same', input_shape=INPUT_SHAPE, activation='relu'))\n",
    "cnnspec.add(Conv2D(32, (3,3), padding='same', activation='relu'))\n",
    "cnnspec.add(MaxPooling2D(pool_size=(2,2)))\n",
    "cnnspec.add(Dropout(0.4))\n",
    "\n",
    "# Block 2 Conv2D\n",
    "cnnspec.add(Conv2D(64, (3,3), padding='valid', activation='relu'))\n",
    "cnnspec.add(BatchNormalization())\n",
    "cnnspec.add(Conv2D(64, (3,3), padding='valid', activation='relu'))\n",
    "cnnspec.add(BatchNormalization())\n",
    "cnnspec.add(MaxPooling2D(pool_size=(2,2)))\n",
    "cnnspec.add(Dropout(0.4))\n",
    "cnnspec.add(BatchNormalization())\n",
    "\n",
    "# Block 3 Conv2D\n",
    "cnnspec.add(Conv2D(64, (3,3), padding='valid', activation='relu'))\n",
    "cnnspec.add(BatchNormalization())\n",
    "cnnspec.add(Conv2D(64, (3,3), padding='valid', activation='relu'))\n",
    "cnnspec.add(BatchNormalization())\n",
    "cnnspec.add(MaxPooling2D(pool_size=(2,2)))\n",
    "cnnspec.add(Dropout(0.4))\n",
    "cnnspec.add(BatchNormalization())\n",
    "\n",
    "# Block 4 Conv2D\n",
    "cnnspec.add(Conv2D(256, (3,3), padding='valid', activation='relu'))\n",
    "cnnspec.add(BatchNormalization())\n",
    "cnnspec.add(Conv2D(256, (3,3), padding='valid', activation='relu'))\n",
    "cnnspec.add(BatchNormalization())\n",
    "cnnspec.add(Conv2D(256, (3,3), padding='valid', activation='relu'))\n",
    "cnnspec.add(BatchNormalization())\n",
    "cnnspec.add(Conv2D(256, (3,3), padding='valid', activation='relu'))\n",
    "cnnspec.add(MaxPooling2D(pool_size=(2,2)))\n",
    "cnnspec.add(Dropout(0.4))\n",
    "cnnspec.add(BatchNormalization())\n",
    "\n",
    "# Fully Connected\n",
    "cnnspec.add(Flatten())\n",
    "cnnspec.add(Dense(512, activation='relu'))\n",
    "cnnspec.add(Dense(256, activation='relu'))\n",
    "cnnspec.add(Dense(64, activation='relu'))\n",
    "cnnspec.add(Dropout(0.4))\n",
    "cnnspec.add(Dense(NUM_CLASSES, activation='softmax'))\n",
    "\n",
    "\n",
    "early_stopping = EarlyStopping(monitor='loss', patience=1)\n",
    "checkpoint = ModelCheckpoint(filepath=\"SN.h5\",\n",
    "                             monitor=\"val_accuracy\",\n",
    "                             mode=\"max\", \n",
    "                             save_best_only=True)\n",
    "\n",
    "cnnspec.compile(optimizer=OPTIMIZER,\n",
    "               loss='categorical_crossentropy', \n",
    "               metrics=['accuracy'])\n",
    "    \n",
    "\n",
    "history = cnnspec.fit_generator(training_set,\n",
    "                    steps_per_epoch=len(training_set),\n",
    "                    epochs=N_EPOCHS,\n",
    "                    validation_data=test_set,\n",
    "                    callbacks=[early_stopping, checkpoint],\n",
    "                    validation_steps=len(test_set),\n",
    "                    workers=2,\n",
    "                    verbose=1)"
   ]
  },
  {
   "cell_type": "code",
   "execution_count": null,
   "metadata": {
    "ExecuteTime": {
     "end_time": "2021-07-23T02:33:06.855750Z",
     "start_time": "2021-07-23T02:33:06.843496Z"
    },
    "id": "6f3ec22a",
    "outputId": "56be1799-8e25-4d1c-80a5-e7154b64f1f1"
   },
   "outputs": [
    {
     "data": {
      "text/plain": [
       "dict_keys(['loss', 'accuracy', 'val_loss', 'val_accuracy'])"
      ]
     },
     "execution_count": 8,
     "metadata": {
      "tags": []
     },
     "output_type": "execute_result"
    }
   ],
   "source": [
    "history.history.keys()"
   ]
  },
  {
   "cell_type": "code",
   "execution_count": null,
   "metadata": {
    "ExecuteTime": {
     "end_time": "2021-07-23T02:33:07.912666Z",
     "start_time": "2021-07-23T02:33:07.771960Z"
    },
    "id": "291d23d8"
   },
   "outputs": [],
   "source": [
    "import matplotlib.pyplot as plt\n",
    "\n",
    "acc = history.history['accuracy']\n",
    "val_acc = history.history['val_accuracy']\n",
    "loss = history.history['loss']\n",
    "val_loss = history.history['val_loss']\n",
    "\n",
    "epochs = range(len(acc))"
   ]
  },
  {
   "cell_type": "code",
   "execution_count": null,
   "metadata": {
    "ExecuteTime": {
     "end_time": "2021-07-23T02:33:09.711546Z",
     "start_time": "2021-07-23T02:33:09.479451Z"
    },
    "id": "d526be23",
    "outputId": "627d38aa-11f4-4865-b154-ca3eaf5cf162",
    "scrolled": true
   },
   "outputs": [
    {
     "data": {
      "image/png": "[encoded data removed]",
      "text/plain": [
       "<Figure size 432x288 with 1 Axes>"
      ]
     },
     "metadata": {
      "needs_background": "light",
      "tags": []
     },
     "output_type": "display_data"
    },
    {
     "data": {
      "image/png": "[encoded data removed]",
      "text/plain": [
       "<Figure size 432x288 with 1 Axes>"
      ]
     },
     "metadata": {
      "needs_background": "light",
      "tags": []
     },
     "output_type": "display_data"
    }
   ],
   "source": [
    "plt.plot(epochs, acc, 'b', label='Training acc')\n",
    "plt.plot(epochs, val_acc, 'bo', label='Validation acc')\n",
    "plt.title('Training and validation accuracy')\n",
    "plt.legend()\n",
    "\n",
    "plt.figure()\n",
    "\n",
    "plt.plot(epochs, loss, 'r', label='Training loss')\n",
    "plt.plot(epochs, val_loss, 'ro', label='Validation loss')\n",
    "plt.title('Training and validation loss')\n",
    "plt.legend()\n",
    "\n",
    "plt.show()"
   ]
  },
  {
   "cell_type": "code",
   "execution_count": null,
   "metadata": {
    "ExecuteTime": {
     "end_time": "2021-07-23T02:40:38.528973Z",
     "start_time": "2021-07-23T02:40:38.514795Z"
    },
    "id": "573ffb1f",
    "outputId": "907cedc6-a47e-47e6-f632-87ebab6f4764",
    "scrolled": true
   },
   "outputs": [
    {
     "name": "stdout",
     "output_type": "stream",
     "text": [
      "Model: \"sequential_2\"\n",
      "_________________________________________________________________\n",
      "Layer (type)                 Output Shape              Param #   \n",
      "=================================================================\n",
      "conv2d_20 (Conv2D)           (None, 251, 128, 32)      896       \n",
      "_________________________________________________________________\n",
      "conv2d_21 (Conv2D)           (None, 251, 128, 32)      9248      \n",
      "_________________________________________________________________\n",
      "max_pooling2d_8 (MaxPooling2 (None, 125, 64, 32)       0         \n",
      "_________________________________________________________________\n",
      "dropout_8 (Dropout)          (None, 125, 64, 32)       0         \n",
      "_________________________________________________________________\n",
      "conv2d_22 (Conv2D)           (None, 123, 62, 64)       18496     \n",
      "_________________________________________________________________\n",
      "batch_normalization_7 (Batch (None, 123, 62, 64)       256       \n",
      "_________________________________________________________________\n",
      "conv2d_23 (Conv2D)           (None, 121, 60, 64)       36928     \n",
      "_________________________________________________________________\n",
      "batch_normalization_8 (Batch (None, 121, 60, 64)       256       \n",
      "_________________________________________________________________\n",
      "max_pooling2d_9 (MaxPooling2 (None, 60, 30, 64)        0         \n",
      "_________________________________________________________________\n",
      "dropout_9 (Dropout)          (None, 60, 30, 64)        0         \n",
      "_________________________________________________________________\n",
      "batch_normalization_9 (Batch (None, 60, 30, 64)        256       \n",
      "_________________________________________________________________\n",
      "conv2d_24 (Conv2D)           (None, 58, 28, 64)        36928     \n",
      "_________________________________________________________________\n",
      "batch_normalization_10 (Batc (None, 58, 28, 64)        256       \n",
      "_________________________________________________________________\n",
      "conv2d_25 (Conv2D)           (None, 56, 26, 64)        36928     \n",
      "_________________________________________________________________\n",
      "batch_normalization_11 (Batc (None, 56, 26, 64)        256       \n",
      "_________________________________________________________________\n",
      "max_pooling2d_10 (MaxPooling (None, 28, 13, 64)        0         \n",
      "_________________________________________________________________\n",
      "dropout_10 (Dropout)         (None, 28, 13, 64)        0         \n",
      "_________________________________________________________________\n",
      "batch_normalization_12 (Batc (None, 28, 13, 64)        256       \n",
      "_________________________________________________________________\n",
      "conv2d_26 (Conv2D)           (None, 26, 11, 256)       147712    \n",
      "_________________________________________________________________\n",
      "batch_normalization_13 (Batc (None, 26, 11, 256)       1024      \n",
      "_________________________________________________________________\n",
      "conv2d_27 (Conv2D)           (None, 24, 9, 256)        590080    \n",
      "_________________________________________________________________\n",
      "batch_normalization_14 (Batc (None, 24, 9, 256)        1024      \n",
      "_________________________________________________________________\n",
      "conv2d_28 (Conv2D)           (None, 22, 7, 256)        590080    \n",
      "_________________________________________________________________\n",
      "batch_normalization_15 (Batc (None, 22, 7, 256)        1024      \n",
      "_________________________________________________________________\n",
      "conv2d_29 (Conv2D)           (None, 20, 5, 256)        590080    \n",
      "_________________________________________________________________\n",
      "max_pooling2d_11 (MaxPooling (None, 10, 2, 256)        0         \n",
      "_________________________________________________________________\n",
      "dropout_11 (Dropout)         (None, 10, 2, 256)        0         \n",
      "_________________________________________________________________\n",
      "batch_normalization_16 (Batc (None, 10, 2, 256)        1024      \n",
      "_________________________________________________________________\n",
      "flatten (Flatten)            (None, 5120)              0         \n",
      "_________________________________________________________________\n",
      "dense (Dense)                (None, 512)               2621952   \n",
      "_________________________________________________________________\n",
      "dense_1 (Dense)              (None, 256)               131328    \n",
      "_________________________________________________________________\n",
      "dense_2 (Dense)              (None, 64)                16448     \n",
      "_________________________________________________________________\n",
      "dropout_12 (Dropout)         (None, 64)                0         \n",
      "_________________________________________________________________\n",
      "dense_3 (Dense)              (None, 3)                 195       \n",
      "=================================================================\n",
      "Total params: 4,832,931\n",
      "Trainable params: 4,830,115\n",
      "Non-trainable params: 2,816\n",
      "_________________________________________________________________\n"
     ]
    }
   ],
   "source": [
    "cnnspec.summary()"
   ]
  },
  {
   "cell_type": "code",
   "execution_count": 2,
   "metadata": {
    "colab": {
     "base_uri": "https://localhost:8080/"
    },
    "id": "FC2ZyI-qU-Dv",
    "outputId": "bd8a5341-aa6a-45a4-caa3-f264c064da66"
   },
   "outputs": [
    {
     "name": "stdout",
     "output_type": "stream",
     "text": [
      "2857/2857 [==============================] - 77s 38ms/step - loss: 0.8658 - accuracy: 0.5871\n"
     ]
    }
   ],
   "source": [
    "loss, accuracy = cnnspec.evaluate(test_set)"
   ]
  },
  {
   "cell_type": "code",
   "execution_count": null,
   "metadata": {
    "ExecuteTime": {
     "end_time": "2021-07-23T03:01:16.496795Z",
     "start_time": "2021-07-23T03:01:16.255826Z"
    },
    "id": "9797396e"
   },
   "outputs": [],
   "source": [
    "cnnspec.save('cnnspec_v1.h5')"
   ]
  },
  {
   "cell_type": "code",
   "execution_count": null,
   "metadata": {
    "ExecuteTime": {
     "end_time": "2021-07-23T09:33:08.602522Z",
     "start_time": "2021-07-23T06:14:27.542520Z"
    },
    "id": "443f01c9",
    "outputId": "63d14192-ca61-4d66-97cb-04747270ca94",
    "scrolled": true
   },
   "outputs": [
    {
     "name": "stderr",
     "output_type": "stream",
     "text": [
      "2021-07-22 23:14:27.561067: I tensorflow/stream_executor/platform/default/dso_loader.cc:53] Successfully opened dynamic library libcuda.so.1\n",
      "2021-07-22 23:14:27.598138: I tensorflow/stream_executor/cuda/cuda_gpu_executor.cc:937] successful NUMA node read from SysFS had negative value (-1), but there must be at least one NUMA node, so returning NUMA node zero\n",
      "2021-07-22 23:14:27.600202: I tensorflow/core/common_runtime/gpu/gpu_device.cc:1733] Found device 0 with properties: \n",
      "pciBusID: 0000:0e:00.0 name: RTX A6000 computeCapability: 8.6\n",
      "coreClock: 1.8GHz coreCount: 84 deviceMemorySize: 47.54GiB deviceMemoryBandwidth: 715.34GiB/s\n",
      "2021-07-22 23:14:27.600307: I tensorflow/stream_executor/cuda/cuda_gpu_executor.cc:937] successful NUMA node read from SysFS had negative value (-1), but there must be at least one NUMA node, so returning NUMA node zero\n",
      "2021-07-22 23:14:27.602461: I tensorflow/core/common_runtime/gpu/gpu_device.cc:1733] Found device 1 with properties: \n",
      "pciBusID: 0000:0f:00.0 name: RTX A6000 computeCapability: 8.6\n",
      "coreClock: 1.8GHz coreCount: 84 deviceMemorySize: 47.54GiB deviceMemoryBandwidth: 715.34GiB/s\n",
      "2021-07-22 23:14:27.602496: I tensorflow/stream_executor/platform/default/dso_loader.cc:53] Successfully opened dynamic library libcudart.so.11.0\n",
      "2021-07-22 23:14:27.605191: I tensorflow/stream_executor/platform/default/dso_loader.cc:53] Successfully opened dynamic library libcublas.so.11\n",
      "2021-07-22 23:14:27.605357: I tensorflow/stream_executor/platform/default/dso_loader.cc:53] Successfully opened dynamic library libcublasLt.so.11\n",
      "2021-07-22 23:14:27.606436: I tensorflow/stream_executor/platform/default/dso_loader.cc:53] Successfully opened dynamic library libcufft.so.10\n",
      "2021-07-22 23:14:27.606682: I tensorflow/stream_executor/platform/default/dso_loader.cc:53] Successfully opened dynamic library libcurand.so.10\n",
      "2021-07-22 23:14:27.609665: I tensorflow/stream_executor/platform/default/dso_loader.cc:53] Successfully opened dynamic library libcusolver.so.11\n",
      "2021-07-22 23:14:27.610298: I tensorflow/stream_executor/platform/default/dso_loader.cc:53] Successfully opened dynamic library libcusparse.so.11\n",
      "2021-07-22 23:14:27.610438: I tensorflow/stream_executor/platform/default/dso_loader.cc:53] Successfully opened dynamic library libcudnn.so.8\n",
      "2021-07-22 23:14:27.610607: I tensorflow/stream_executor/cuda/cuda_gpu_executor.cc:937] successful NUMA node read from SysFS had negative value (-1), but there must be at least one NUMA node, so returning NUMA node zero\n",
      "2021-07-22 23:14:27.612274: I tensorflow/stream_executor/cuda/cuda_gpu_executor.cc:937] successful NUMA node read from SysFS had negative value (-1), but there must be at least one NUMA node, so returning NUMA node zero\n",
      "2021-07-22 23:14:27.614008: I tensorflow/stream_executor/cuda/cuda_gpu_executor.cc:937] successful NUMA node read from SysFS had negative value (-1), but there must be at least one NUMA node, so returning NUMA node zero\n",
      "2021-07-22 23:14:27.615574: I tensorflow/stream_executor/cuda/cuda_gpu_executor.cc:937] successful NUMA node read from SysFS had negative value (-1), but there must be at least one NUMA node, so returning NUMA node zero\n",
      "2021-07-22 23:14:27.617179: I tensorflow/core/common_runtime/gpu/gpu_device.cc:1871] Adding visible gpu devices: 0, 1\n",
      "2021-07-22 23:14:27.617793: I tensorflow/core/platform/cpu_feature_guard.cc:142] This TensorFlow binary is optimized with oneAPI Deep Neural Network Library (oneDNN) to use the following CPU instructions in performance-critical operations:  AVX2 FMA\n",
      "To enable them in other operations, rebuild TensorFlow with the appropriate compiler flags.\n",
      "2021-07-22 23:14:27.902131: I tensorflow/stream_executor/cuda/cuda_gpu_executor.cc:937] successful NUMA node read from SysFS had negative value (-1), but there must be at least one NUMA node, so returning NUMA node zero\n",
      "2021-07-22 23:14:27.903870: I tensorflow/core/common_runtime/gpu/gpu_device.cc:1733] Found device 0 with properties: \n",
      "pciBusID: 0000:0e:00.0 name: RTX A6000 computeCapability: 8.6\n",
      "coreClock: 1.8GHz coreCount: 84 deviceMemorySize: 47.54GiB deviceMemoryBandwidth: 715.34GiB/s\n",
      "2021-07-22 23:14:27.904005: I tensorflow/stream_executor/cuda/cuda_gpu_executor.cc:937] successful NUMA node read from SysFS had negative value (-1), but there must be at least one NUMA node, so returning NUMA node zero\n",
      "2021-07-22 23:14:27.905658: I tensorflow/core/common_runtime/gpu/gpu_device.cc:1733] Found device 1 with properties: \n",
      "pciBusID: 0000:0f:00.0 name: RTX A6000 computeCapability: 8.6\n",
      "coreClock: 1.8GHz coreCount: 84 deviceMemorySize: 47.54GiB deviceMemoryBandwidth: 715.34GiB/s\n",
      "2021-07-22 23:14:27.905745: I tensorflow/stream_executor/cuda/cuda_gpu_executor.cc:937] successful NUMA node read from SysFS had negative value (-1), but there must be at least one NUMA node, so returning NUMA node zero\n",
      "2021-07-22 23:14:27.907253: I tensorflow/stream_executor/cuda/cuda_gpu_executor.cc:937] successful NUMA node read from SysFS had negative value (-1), but there must be at least one NUMA node, so returning NUMA node zero\n",
      "2021-07-22 23:14:27.908877: I tensorflow/stream_executor/cuda/cuda_gpu_executor.cc:937] successful NUMA node read from SysFS had negative value (-1), but there must be at least one NUMA node, so returning NUMA node zero\n",
      "2021-07-22 23:14:27.910561: I tensorflow/stream_executor/cuda/cuda_gpu_executor.cc:937] successful NUMA node read from SysFS had negative value (-1), but there must be at least one NUMA node, so returning NUMA node zero\n",
      "2021-07-22 23:14:27.912089: I tensorflow/core/common_runtime/gpu/gpu_device.cc:1871] Adding visible gpu devices: 0, 1\n",
      "2021-07-22 23:14:27.912162: I tensorflow/stream_executor/platform/default/dso_loader.cc:53] Successfully opened dynamic library libcudart.so.11.0\n",
      "2021-07-22 23:14:28.697578: I tensorflow/core/common_runtime/gpu/gpu_device.cc:1258] Device interconnect StreamExecutor with strength 1 edge matrix:\n",
      "2021-07-22 23:14:28.697643: I tensorflow/core/common_runtime/gpu/gpu_device.cc:1264]      0 1 \n",
      "2021-07-22 23:14:28.697655: I tensorflow/core/common_runtime/gpu/gpu_device.cc:1277] 0:   N Y \n",
      "2021-07-22 23:14:28.697663: I tensorflow/core/common_runtime/gpu/gpu_device.cc:1277] 1:   Y N \n",
      "2021-07-22 23:14:28.698026: I tensorflow/stream_executor/cuda/cuda_gpu_executor.cc:937] successful NUMA node read from SysFS had negative value (-1), but there must be at least one NUMA node, so returning NUMA node zero\n",
      "2021-07-22 23:14:28.699619: I tensorflow/stream_executor/cuda/cuda_gpu_executor.cc:937] successful NUMA node read from SysFS had negative value (-1), but there must be at least one NUMA node, so returning NUMA node zero\n",
      "2021-07-22 23:14:28.701205: I tensorflow/stream_executor/cuda/cuda_gpu_executor.cc:937] successful NUMA node read from SysFS had negative value (-1), but there must be at least one NUMA node, so returning NUMA node zero\n",
      "2021-07-22 23:14:28.702760: I tensorflow/stream_executor/cuda/cuda_gpu_executor.cc:937] successful NUMA node read from SysFS had negative value (-1), but there must be at least one NUMA node, so returning NUMA node zero\n",
      "2021-07-22 23:14:28.704322: I tensorflow/stream_executor/cuda/cuda_gpu_executor.cc:937] successful NUMA node read from SysFS had negative value (-1), but there must be at least one NUMA node, so returning NUMA node zero\n",
      "2021-07-22 23:14:28.705834: I tensorflow/core/common_runtime/gpu/gpu_device.cc:1418] Created TensorFlow device (/job:localhost/replica:0/task:0/device:GPU:0 with 43467 MB memory) -> physical GPU (device: 0, name: RTX A6000, pci bus id: 0000:0e:00.0, compute capability: 8.6)\n",
      "2021-07-22 23:14:28.706537: I tensorflow/stream_executor/cuda/cuda_gpu_executor.cc:937] successful NUMA node read from SysFS had negative value (-1), but there must be at least one NUMA node, so returning NUMA node zero\n",
      "2021-07-22 23:14:28.708080: I tensorflow/core/common_runtime/gpu/gpu_device.cc:1418] Created TensorFlow device (/job:localhost/replica:0/task:0/device:GPU:1 with 46726 MB memory) -> physical GPU (device: 1, name: RTX A6000, pci bus id: 0000:0f:00.0, compute capability: 8.6)\n",
      "2021-07-22 23:14:29.669740: I tensorflow/compiler/mlir/mlir_graph_optimization_pass.cc:176] None of the MLIR Optimization Passes are enabled (registered 2)\n",
      "2021-07-22 23:14:29.670525: I tensorflow/core/platform/profile_utils/cpu_utils.cc:114] CPU Frequency: 2499970000 Hz\n"
     ]
    },
    {
     "name": "stdout",
     "output_type": "stream",
     "text": [
      "Epoch 1/40\n"
     ]
    },
    {
     "name": "stderr",
     "output_type": "stream",
     "text": [
      "2021-07-22 23:14:36.315827: I tensorflow/stream_executor/platform/default/dso_loader.cc:53] Successfully opened dynamic library libcudnn.so.8\n",
      "2021-07-22 23:14:37.031363: I tensorflow/stream_executor/cuda/cuda_dnn.cc:359] Loaded cuDNN version 8101\n",
      "2021-07-22 23:14:37.885369: I tensorflow/stream_executor/platform/default/dso_loader.cc:53] Successfully opened dynamic library libcublas.so.11\n",
      "2021-07-22 23:14:38.492044: I tensorflow/stream_executor/platform/default/dso_loader.cc:53] Successfully opened dynamic library libcublasLt.so.11\n",
      "2021-07-22 23:14:39.304724: I tensorflow/stream_executor/cuda/cuda_blas.cc:1838] TensorFloat-32 will be used for the matrix multiplication. This will only be logged once.\n"
     ]
    },
    {
     "name": "stdout",
     "output_type": "stream",
     "text": [
      "1667/1667 [==============================] - 305s 177ms/step - loss: 1.0460 - accuracy: 0.4580 - val_loss: 1.3931 - val_accuracy: 0.4021\n",
      "Epoch 2/40\n",
      "1667/1667 [==============================] - 292s 175ms/step - loss: 0.9510 - accuracy: 0.5225 - val_loss: 1.0418 - val_accuracy: 0.4768\n",
      "Epoch 3/40\n",
      "1667/1667 [==============================] - 296s 178ms/step - loss: 0.9247 - accuracy: 0.5356 - val_loss: 0.9647 - val_accuracy: 0.5164\n",
      "Epoch 4/40\n",
      "1667/1667 [==============================] - 294s 176ms/step - loss: 0.9145 - accuracy: 0.5392 - val_loss: 0.9286 - val_accuracy: 0.5329\n",
      "Epoch 5/40\n",
      "1667/1667 [==============================] - 309s 185ms/step - loss: 0.9085 - accuracy: 0.5427 - val_loss: 0.9136 - val_accuracy: 0.5441\n",
      "Epoch 6/40\n",
      "1667/1667 [==============================] - 295s 177ms/step - loss: 0.9038 - accuracy: 0.5441 - val_loss: 0.9327 - val_accuracy: 0.5393\n",
      "Epoch 7/40\n",
      "1667/1667 [==============================] - 295s 177ms/step - loss: 0.9000 - accuracy: 0.5454 - val_loss: 0.9089 - val_accuracy: 0.5416\n",
      "Epoch 8/40\n",
      "1667/1667 [==============================] - 298s 179ms/step - loss: 0.8960 - accuracy: 0.5485 - val_loss: 0.9061 - val_accuracy: 0.5457\n",
      "Epoch 9/40\n",
      "1667/1667 [==============================] - 298s 179ms/step - loss: 0.8914 - accuracy: 0.5511 - val_loss: 0.8934 - val_accuracy: 0.5533\n",
      "Epoch 10/40\n",
      "1667/1667 [==============================] - 294s 176ms/step - loss: 0.8862 - accuracy: 0.5534 - val_loss: 0.8919 - val_accuracy: 0.5493\n",
      "Epoch 11/40\n",
      "1667/1667 [==============================] - 296s 178ms/step - loss: 0.8835 - accuracy: 0.5555 - val_loss: 0.8852 - val_accuracy: 0.5508\n",
      "Epoch 12/40\n",
      "1667/1667 [==============================] - 297s 178ms/step - loss: 0.8790 - accuracy: 0.5574 - val_loss: 0.9209 - val_accuracy: 0.5435\n",
      "Epoch 13/40\n",
      "1667/1667 [==============================] - 297s 178ms/step - loss: 0.8756 - accuracy: 0.5584 - val_loss: 0.8801 - val_accuracy: 0.5578\n",
      "Epoch 14/40\n",
      "1667/1667 [==============================] - 295s 177ms/step - loss: 0.8730 - accuracy: 0.5592 - val_loss: 0.9084 - val_accuracy: 0.5481\n",
      "Epoch 15/40\n",
      "1667/1667 [==============================] - 310s 186ms/step - loss: 0.8707 - accuracy: 0.5613 - val_loss: 0.8937 - val_accuracy: 0.5530\n",
      "Epoch 16/40\n",
      "1667/1667 [==============================] - 310s 186ms/step - loss: 0.8668 - accuracy: 0.5633 - val_loss: 0.8810 - val_accuracy: 0.5613\n",
      "Epoch 17/40\n",
      "1667/1667 [==============================] - 295s 177ms/step - loss: 0.8526 - accuracy: 0.5709 - val_loss: 0.8675 - val_accuracy: 0.5648\n",
      "Epoch 18/40\n",
      "1667/1667 [==============================] - 298s 178ms/step - loss: 0.8476 - accuracy: 0.5735 - val_loss: 0.8708 - val_accuracy: 0.5683\n",
      "Epoch 19/40\n",
      "1667/1667 [==============================] - 297s 178ms/step - loss: 0.8441 - accuracy: 0.5769 - val_loss: 0.8752 - val_accuracy: 0.5692\n",
      "Epoch 20/40\n",
      "1667/1667 [==============================] - 296s 177ms/step - loss: 0.8418 - accuracy: 0.5775 - val_loss: 0.8900 - val_accuracy: 0.5606\n",
      "Epoch 21/40\n",
      "1667/1667 [==============================] - 296s 178ms/step - loss: 0.8365 - accuracy: 0.5810 - val_loss: 0.8667 - val_accuracy: 0.5698\n",
      "Epoch 22/40\n",
      "1667/1667 [==============================] - 294s 176ms/step - loss: 0.8358 - accuracy: 0.5811 - val_loss: 0.8714 - val_accuracy: 0.5673\n",
      "Epoch 23/40\n",
      "1667/1667 [==============================] - 293s 176ms/step - loss: 0.8324 - accuracy: 0.5840 - val_loss: 0.8703 - val_accuracy: 0.5700\n",
      "Epoch 24/40\n",
      "1667/1667 [==============================] - 295s 177ms/step - loss: 0.8312 - accuracy: 0.5852 - val_loss: 0.8658 - val_accuracy: 0.5732\n",
      "Epoch 25/40\n",
      "1667/1667 [==============================] - 295s 177ms/step - loss: 0.8288 - accuracy: 0.5845 - val_loss: 0.8685 - val_accuracy: 0.5705\n",
      "Epoch 26/40\n",
      "1667/1667 [==============================] - 293s 176ms/step - loss: 0.8276 - accuracy: 0.5856 - val_loss: 0.8668 - val_accuracy: 0.5696\n",
      "Epoch 27/40\n",
      "1667/1667 [==============================] - 298s 178ms/step - loss: 0.8265 - accuracy: 0.5876 - val_loss: 0.8595 - val_accuracy: 0.5754\n",
      "Epoch 28/40\n",
      "1667/1667 [==============================] - 296s 178ms/step - loss: 0.8243 - accuracy: 0.5896 - val_loss: 0.8616 - val_accuracy: 0.5730\n",
      "Epoch 29/40\n",
      "1667/1667 [==============================] - 296s 177ms/step - loss: 0.8230 - accuracy: 0.5896 - val_loss: 0.8624 - val_accuracy: 0.5745\n",
      "Epoch 30/40\n",
      "1667/1667 [==============================] - 297s 178ms/step - loss: 0.8210 - accuracy: 0.5918 - val_loss: 0.8722 - val_accuracy: 0.5724\n",
      "Epoch 31/40\n",
      "1667/1667 [==============================] - 297s 178ms/step - loss: 0.8187 - accuracy: 0.5923 - val_loss: 0.8639 - val_accuracy: 0.5731\n",
      "Epoch 32/40\n",
      "1667/1667 [==============================] - 295s 177ms/step - loss: 0.8167 - accuracy: 0.5930 - val_loss: 0.8644 - val_accuracy: 0.5753\n",
      "Epoch 33/40\n",
      "1667/1667 [==============================] - 295s 177ms/step - loss: 0.8141 - accuracy: 0.5954 - val_loss: 0.8626 - val_accuracy: 0.5748\n",
      "Epoch 34/40\n",
      "1667/1667 [==============================] - 298s 178ms/step - loss: 0.8128 - accuracy: 0.5979 - val_loss: 0.8618 - val_accuracy: 0.5757\n",
      "Epoch 35/40\n",
      "1667/1667 [==============================] - 295s 177ms/step - loss: 0.8096 - accuracy: 0.5976 - val_loss: 0.8642 - val_accuracy: 0.5746\n",
      "Epoch 36/40\n",
      "1667/1667 [==============================] - 297s 178ms/step - loss: 0.8081 - accuracy: 0.5981 - val_loss: 0.8685 - val_accuracy: 0.5752\n",
      "Epoch 37/40\n",
      "1667/1667 [==============================] - 298s 179ms/step - loss: 0.8063 - accuracy: 0.5992 - val_loss: 0.8711 - val_accuracy: 0.5745\n",
      "Epoch 38/40\n",
      "1667/1667 [==============================] - 294s 176ms/step - loss: 0.8031 - accuracy: 0.6024 - val_loss: 0.8686 - val_accuracy: 0.5735\n",
      "Epoch 39/40\n",
      "1667/1667 [==============================] - 299s 179ms/step - loss: 0.7999 - accuracy: 0.6027 - val_loss: 0.8701 - val_accuracy: 0.5761\n",
      "Epoch 40/40\n",
      "1667/1667 [==============================] - 299s 179ms/step - loss: 0.7991 - accuracy: 0.6039 - val_loss: 0.8722 - val_accuracy: 0.5744\n"
     ]
    }
   ],
   "source": [
    "# Same model as 1st, includes dropout layers though.\n",
    "\n",
    "NUM_CLASSES = 3\n",
    "INPUT_SHAPE = (128, 251, 3)\n",
    "\n",
    "N_EPOCHS = 40\n",
    "OPTIMIZER = Ranger(learning_rate=0.001, beta_1=0.9, beta_2=0.999, epsilon=1e-7, weight_decay=0.01, amsgrad=False)\n",
    "\n",
    "cnnspec = Sequential()\n",
    "\n",
    "# Block 1 Conv2D\n",
    "cnnspec.add(Conv2D(32, (3,3), padding='same', input_shape=INPUT_SHAPE, activation='relu'))\n",
    "cnnspec.add(Conv2D(32, (3,3), padding='same', activation='relu'))\n",
    "cnnspec.add(MaxPooling2D(pool_size=(2,2)))\n",
    "cnnspec.add(Dropout(0.4))\n",
    "\n",
    "# Block 2 Conv2D\n",
    "cnnspec.add(Conv2D(64, (3,3), padding='valid', activation='relu'))\n",
    "cnnspec.add(BatchNormalization())\n",
    "cnnspec.add(Conv2D(64, (3,3), padding='valid', activation='relu'))\n",
    "cnnspec.add(BatchNormalization())\n",
    "cnnspec.add(MaxPooling2D(pool_size=(2,2)))\n",
    "cnnspec.add(Dropout(0.4))\n",
    "cnnspec.add(BatchNormalization())\n",
    "\n",
    "# Block 3 Conv2D\n",
    "cnnspec.add(Conv2D(64, (3,3), padding='valid', activation='relu'))\n",
    "cnnspec.add(BatchNormalization())\n",
    "cnnspec.add(Conv2D(64, (3,3), padding='valid', activation='relu'))\n",
    "cnnspec.add(BatchNormalization())\n",
    "cnnspec.add(MaxPooling2D(pool_size=(2,2)))\n",
    "cnnspec.add(Dropout(0.4))\n",
    "cnnspec.add(BatchNormalization())\n",
    "\n",
    "# Block 4 Conv2D\n",
    "cnnspec.add(Conv2D(256, (3,3), padding='valid', activation='relu'))\n",
    "cnnspec.add(BatchNormalization())\n",
    "cnnspec.add(Conv2D(256, (3,3), padding='valid', activation='relu'))\n",
    "cnnspec.add(BatchNormalization())\n",
    "cnnspec.add(Conv2D(256, (3,3), padding='valid', activation='relu'))\n",
    "cnnspec.add(BatchNormalization())\n",
    "cnnspec.add(Conv2D(256, (3,3), padding='valid', activation='relu'))\n",
    "cnnspec.add(MaxPooling2D(pool_size=(2,2)))\n",
    "cnnspec.add(Dropout(0.4))\n",
    "cnnspec.add(BatchNormalization())\n",
    "\n",
    "# Fully Connected\n",
    "cnnspec.add(Flatten())\n",
    "cnnspec.add(Dense(512, activation='relu'))\n",
    "cnnspec.add(Dense(256, activation='relu'))\n",
    "cnnspec.add(Dense(64, activation='relu'))\n",
    "cnnspec.add(Dropout(0.5))\n",
    "cnnspec.add(Dense(NUM_CLASSES, activation='softmax'))\n",
    "\n",
    "\n",
    "early_stopping = EarlyStopping(monitor='loss', patience=1)\n",
    "checkpoint = ModelCheckpoint(filepath=\"SN.h5\",\n",
    "                             monitor=\"val_accuracy\",\n",
    "                             mode=\"max\", \n",
    "                             save_best_only=True)\n",
    "\n",
    "reduce_lr = ReduceLROnPlateau(monitor='val_loss', factor=0.2, patience=3, min_lr=0.0001)\n",
    "\n",
    "cnnspec.compile(optimizer=OPTIMIZER,\n",
    "               loss='categorical_crossentropy', \n",
    "               metrics=['accuracy'])\n",
    "    \n",
    "\n",
    "history = cnnspec.fit_generator(training_set,\n",
    "                    steps_per_epoch=len(training_set),\n",
    "                    epochs=N_EPOCHS,\n",
    "                    validation_data=test_set,\n",
    "                    callbacks=[early_stopping, checkpoint, reduce_lr],\n",
    "                    validation_steps=len(test_set),\n",
    "                    workers=2,\n",
    "                    verbose=1)"
   ]
  },
  {
   "cell_type": "code",
   "execution_count": null,
   "metadata": {
    "ExecuteTime": {
     "end_time": "2021-07-23T15:55:34.450766Z",
     "start_time": "2021-07-23T15:55:34.297845Z"
    },
    "id": "77aca175"
   },
   "outputs": [],
   "source": [
    "import matplotlib.pyplot as plt\n",
    "\n",
    "acc = history.history['accuracy']\n",
    "val_acc = history.history['val_accuracy']\n",
    "loss = history.history['loss']\n",
    "val_loss = history.history['val_loss']\n",
    "\n",
    "epochs = range(len(acc))"
   ]
  },
  {
   "cell_type": "code",
   "execution_count": null,
   "metadata": {
    "ExecuteTime": {
     "end_time": "2021-07-23T15:55:38.806861Z",
     "start_time": "2021-07-23T15:55:38.556729Z"
    },
    "id": "acab106f",
    "outputId": "8511dfb9-7e49-44a0-f3bc-dc750af71a60",
    "scrolled": true
   },
   "outputs": [
    {
     "data": {
      "image/png": "[encoded data removed]",
      "text/plain": [
       "<Figure size 432x288 with 1 Axes>"
      ]
     },
     "metadata": {
      "needs_background": "light",
      "tags": []
     },
     "output_type": "display_data"
    },
    {
     "data": {
      "image/png": "[encoded data removed]",
      "text/plain": [
       "<Figure size 432x288 with 1 Axes>"
      ]
     },
     "metadata": {
      "needs_background": "light",
      "tags": []
     },
     "output_type": "display_data"
    }
   ],
   "source": [
    "plt.plot(epochs, acc, 'b', label='Training acc')\n",
    "plt.plot(epochs, val_acc, 'bo', label='Validation acc')\n",
    "plt.title('Training and validation accuracy')\n",
    "plt.legend()\n",
    "\n",
    "plt.figure()\n",
    "\n",
    "plt.plot(epochs, loss, 'r', label='Training loss')\n",
    "plt.plot(epochs, val_loss, 'ro', label='Validation loss')\n",
    "plt.title('Training and validation loss')\n",
    "plt.legend()\n",
    "\n",
    "plt.show()"
   ]
  },
  {
   "cell_type": "code",
   "execution_count": null,
   "metadata": {
    "ExecuteTime": {
     "end_time": "2021-07-23T17:43:27.245633Z",
     "start_time": "2021-07-23T17:43:27.227137Z"
    },
    "id": "d036b4e2",
    "outputId": "bb67a206-b6a6-4353-eb1a-4a02a755c76a",
    "scrolled": false
   },
   "outputs": [
    {
     "name": "stdout",
     "output_type": "stream",
     "text": [
      "Model: \"sequential\"\n",
      "_________________________________________________________________\n",
      "Layer (type)                 Output Shape              Param #   \n",
      "=================================================================\n",
      "conv2d (Conv2D)              (None, 251, 128, 32)      896       \n",
      "_________________________________________________________________\n",
      "conv2d_1 (Conv2D)            (None, 251, 128, 32)      9248      \n",
      "_________________________________________________________________\n",
      "max_pooling2d (MaxPooling2D) (None, 125, 64, 32)       0         \n",
      "_________________________________________________________________\n",
      "dropout (Dropout)            (None, 125, 64, 32)       0         \n",
      "_________________________________________________________________\n",
      "conv2d_2 (Conv2D)            (None, 123, 62, 64)       18496     \n",
      "_________________________________________________________________\n",
      "batch_normalization (BatchNo (None, 123, 62, 64)       256       \n",
      "_________________________________________________________________\n",
      "conv2d_3 (Conv2D)            (None, 121, 60, 64)       36928     \n",
      "_________________________________________________________________\n",
      "batch_normalization_1 (Batch (None, 121, 60, 64)       256       \n",
      "_________________________________________________________________\n",
      "max_pooling2d_1 (MaxPooling2 (None, 60, 30, 64)        0         \n",
      "_________________________________________________________________\n",
      "dropout_1 (Dropout)          (None, 60, 30, 64)        0         \n",
      "_________________________________________________________________\n",
      "batch_normalization_2 (Batch (None, 60, 30, 64)        256       \n",
      "_________________________________________________________________\n",
      "conv2d_4 (Conv2D)            (None, 58, 28, 64)        36928     \n",
      "_________________________________________________________________\n",
      "batch_normalization_3 (Batch (None, 58, 28, 64)        256       \n",
      "_________________________________________________________________\n",
      "conv2d_5 (Conv2D)            (None, 56, 26, 64)        36928     \n",
      "_________________________________________________________________\n",
      "batch_normalization_4 (Batch (None, 56, 26, 64)        256       \n",
      "_________________________________________________________________\n",
      "max_pooling2d_2 (MaxPooling2 (None, 28, 13, 64)        0         \n",
      "_________________________________________________________________\n",
      "dropout_2 (Dropout)          (None, 28, 13, 64)        0         \n",
      "_________________________________________________________________\n",
      "batch_normalization_5 (Batch (None, 28, 13, 64)        256       \n",
      "_________________________________________________________________\n",
      "conv2d_6 (Conv2D)            (None, 26, 11, 256)       147712    \n",
      "_________________________________________________________________\n",
      "batch_normalization_6 (Batch (None, 26, 11, 256)       1024      \n",
      "_________________________________________________________________\n",
      "conv2d_7 (Conv2D)            (None, 24, 9, 256)        590080    \n",
      "_________________________________________________________________\n",
      "batch_normalization_7 (Batch (None, 24, 9, 256)        1024      \n",
      "_________________________________________________________________\n",
      "conv2d_8 (Conv2D)            (None, 22, 7, 256)        590080    \n",
      "_________________________________________________________________\n",
      "batch_normalization_8 (Batch (None, 22, 7, 256)        1024      \n",
      "_________________________________________________________________\n",
      "conv2d_9 (Conv2D)            (None, 20, 5, 256)        590080    \n",
      "_________________________________________________________________\n",
      "max_pooling2d_3 (MaxPooling2 (None, 10, 2, 256)        0         \n",
      "_________________________________________________________________\n",
      "dropout_3 (Dropout)          (None, 10, 2, 256)        0         \n",
      "_________________________________________________________________\n",
      "batch_normalization_9 (Batch (None, 10, 2, 256)        1024      \n",
      "_________________________________________________________________\n",
      "flatten (Flatten)            (None, 5120)              0         \n",
      "_________________________________________________________________\n",
      "dense (Dense)                (None, 512)               2621952   \n",
      "_________________________________________________________________\n",
      "dense_1 (Dense)              (None, 256)               131328    \n",
      "_________________________________________________________________\n",
      "dense_2 (Dense)              (None, 64)                16448     \n",
      "_________________________________________________________________\n",
      "dropout_4 (Dropout)          (None, 64)                0         \n",
      "_________________________________________________________________\n",
      "dense_3 (Dense)              (None, 3)                 195       \n",
      "=================================================================\n",
      "Total params: 4,832,931\n",
      "Trainable params: 4,830,115\n",
      "Non-trainable params: 2,816\n",
      "_________________________________________________________________\n"
     ]
    }
   ],
   "source": [
    "cnnspec.summary()"
   ]
  },
  {
   "cell_type": "code",
   "execution_count": 7,
   "metadata": {},
   "outputs": [
    {
     "name": "stdout",
     "output_type": "stream",
     "text": [
      "2857/2857 [==============================] - 68s 42ms/step - loss: 0.8323 - accuracy: 0.6192\n"
     ]
    }
   ],
   "source": [
    "loss, accuracy = cnnspec.evaluate(test_set)"
   ]
  },
  {
   "cell_type": "code",
   "execution_count": null,
   "metadata": {
    "ExecuteTime": {
     "end_time": "2021-07-23T17:44:53.078695Z",
     "start_time": "2021-07-23T17:44:52.842697Z"
    },
    "id": "29cac38b"
   },
   "outputs": [],
   "source": [
    "cnnspec.save('cnnspec_v2.h5')"
   ]
  },
  {
   "cell_type": "code",
   "execution_count": null,
   "metadata": {
    "ExecuteTime": {
     "end_time": "2021-07-24T00:36:36.349977Z",
     "start_time": "2021-07-23T21:18:20.757148Z"
    },
    "id": "93970560",
    "outputId": "5350e04a-acfa-496a-d5b3-ea94191919b2"
   },
   "outputs": [
    {
     "name": "stderr",
     "output_type": "stream",
     "text": [
      "2021-07-23 14:18:20.790471: I tensorflow/stream_executor/platform/default/dso_loader.cc:53] Successfully opened dynamic library libcuda.so.1\n",
      "2021-07-23 14:18:20.822591: I tensorflow/stream_executor/cuda/cuda_gpu_executor.cc:937] successful NUMA node read from SysFS had negative value (-1), but there must be at least one NUMA node, so returning NUMA node zero\n",
      "2021-07-23 14:18:20.824164: I tensorflow/core/common_runtime/gpu/gpu_device.cc:1733] Found device 0 with properties: \n",
      "pciBusID: 0000:0e:00.0 name: RTX A6000 computeCapability: 8.6\n",
      "coreClock: 1.8GHz coreCount: 84 deviceMemorySize: 47.54GiB deviceMemoryBandwidth: 715.34GiB/s\n",
      "2021-07-23 14:18:20.824231: I tensorflow/stream_executor/cuda/cuda_gpu_executor.cc:937] successful NUMA node read from SysFS had negative value (-1), but there must be at least one NUMA node, so returning NUMA node zero\n",
      "2021-07-23 14:18:20.825844: I tensorflow/core/common_runtime/gpu/gpu_device.cc:1733] Found device 1 with properties: \n",
      "pciBusID: 0000:0f:00.0 name: RTX A6000 computeCapability: 8.6\n",
      "coreClock: 1.8GHz coreCount: 84 deviceMemorySize: 47.54GiB deviceMemoryBandwidth: 715.34GiB/s\n",
      "2021-07-23 14:18:20.825868: I tensorflow/stream_executor/platform/default/dso_loader.cc:53] Successfully opened dynamic library libcudart.so.11.0\n",
      "2021-07-23 14:18:20.827789: I tensorflow/stream_executor/platform/default/dso_loader.cc:53] Successfully opened dynamic library libcublas.so.11\n",
      "2021-07-23 14:18:20.827836: I tensorflow/stream_executor/platform/default/dso_loader.cc:53] Successfully opened dynamic library libcublasLt.so.11\n",
      "2021-07-23 14:18:20.828730: I tensorflow/stream_executor/platform/default/dso_loader.cc:53] Successfully opened dynamic library libcufft.so.10\n",
      "2021-07-23 14:18:20.828933: I tensorflow/stream_executor/platform/default/dso_loader.cc:53] Successfully opened dynamic library libcurand.so.10\n",
      "2021-07-23 14:18:20.831419: I tensorflow/stream_executor/platform/default/dso_loader.cc:53] Successfully opened dynamic library libcusolver.so.11\n",
      "2021-07-23 14:18:20.831912: I tensorflow/stream_executor/platform/default/dso_loader.cc:53] Successfully opened dynamic library libcusparse.so.11\n",
      "2021-07-23 14:18:20.832076: I tensorflow/stream_executor/platform/default/dso_loader.cc:53] Successfully opened dynamic library libcudnn.so.8\n",
      "2021-07-23 14:18:20.832198: I tensorflow/stream_executor/cuda/cuda_gpu_executor.cc:937] successful NUMA node read from SysFS had negative value (-1), but there must be at least one NUMA node, so returning NUMA node zero\n",
      "2021-07-23 14:18:20.833856: I tensorflow/stream_executor/cuda/cuda_gpu_executor.cc:937] successful NUMA node read from SysFS had negative value (-1), but there must be at least one NUMA node, so returning NUMA node zero\n",
      "2021-07-23 14:18:20.835484: I tensorflow/stream_executor/cuda/cuda_gpu_executor.cc:937] successful NUMA node read from SysFS had negative value (-1), but there must be at least one NUMA node, so returning NUMA node zero\n",
      "2021-07-23 14:18:20.837035: I tensorflow/stream_executor/cuda/cuda_gpu_executor.cc:937] successful NUMA node read from SysFS had negative value (-1), but there must be at least one NUMA node, so returning NUMA node zero\n",
      "2021-07-23 14:18:20.838643: I tensorflow/core/common_runtime/gpu/gpu_device.cc:1871] Adding visible gpu devices: 0, 1\n",
      "2021-07-23 14:18:20.839444: I tensorflow/core/platform/cpu_feature_guard.cc:142] This TensorFlow binary is optimized with oneAPI Deep Neural Network Library (oneDNN) to use the following CPU instructions in performance-critical operations:  AVX2 FMA\n",
      "To enable them in other operations, rebuild TensorFlow with the appropriate compiler flags.\n",
      "2021-07-23 14:18:21.063324: I tensorflow/stream_executor/cuda/cuda_gpu_executor.cc:937] successful NUMA node read from SysFS had negative value (-1), but there must be at least one NUMA node, so returning NUMA node zero\n",
      "2021-07-23 14:18:21.064870: I tensorflow/core/common_runtime/gpu/gpu_device.cc:1733] Found device 0 with properties: \n",
      "pciBusID: 0000:0e:00.0 name: RTX A6000 computeCapability: 8.6\n",
      "coreClock: 1.8GHz coreCount: 84 deviceMemorySize: 47.54GiB deviceMemoryBandwidth: 715.34GiB/s\n",
      "2021-07-23 14:18:21.064936: I tensorflow/stream_executor/cuda/cuda_gpu_executor.cc:937] successful NUMA node read from SysFS had negative value (-1), but there must be at least one NUMA node, so returning NUMA node zero\n",
      "2021-07-23 14:18:21.066521: I tensorflow/core/common_runtime/gpu/gpu_device.cc:1733] Found device 1 with properties: \n",
      "pciBusID: 0000:0f:00.0 name: RTX A6000 computeCapability: 8.6\n",
      "coreClock: 1.8GHz coreCount: 84 deviceMemorySize: 47.54GiB deviceMemoryBandwidth: 715.34GiB/s\n",
      "2021-07-23 14:18:21.066587: I tensorflow/stream_executor/cuda/cuda_gpu_executor.cc:937] successful NUMA node read from SysFS had negative value (-1), but there must be at least one NUMA node, so returning NUMA node zero\n",
      "2021-07-23 14:18:21.068095: I tensorflow/stream_executor/cuda/cuda_gpu_executor.cc:937] successful NUMA node read from SysFS had negative value (-1), but there must be at least one NUMA node, so returning NUMA node zero\n",
      "2021-07-23 14:18:21.070045: I tensorflow/stream_executor/cuda/cuda_gpu_executor.cc:937] successful NUMA node read from SysFS had negative value (-1), but there must be at least one NUMA node, so returning NUMA node zero\n",
      "2021-07-23 14:18:21.071618: I tensorflow/stream_executor/cuda/cuda_gpu_executor.cc:937] successful NUMA node read from SysFS had negative value (-1), but there must be at least one NUMA node, so returning NUMA node zero\n",
      "2021-07-23 14:18:21.073151: I tensorflow/core/common_runtime/gpu/gpu_device.cc:1871] Adding visible gpu devices: 0, 1\n",
      "2021-07-23 14:18:21.073215: I tensorflow/stream_executor/platform/default/dso_loader.cc:53] Successfully opened dynamic library libcudart.so.11.0\n",
      "2021-07-23 14:18:21.809834: I tensorflow/core/common_runtime/gpu/gpu_device.cc:1258] Device interconnect StreamExecutor with strength 1 edge matrix:\n",
      "2021-07-23 14:18:21.809890: I tensorflow/core/common_runtime/gpu/gpu_device.cc:1264]      0 1 \n",
      "2021-07-23 14:18:21.809903: I tensorflow/core/common_runtime/gpu/gpu_device.cc:1277] 0:   N Y \n",
      "2021-07-23 14:18:21.809912: I tensorflow/core/common_runtime/gpu/gpu_device.cc:1277] 1:   Y N \n",
      "2021-07-23 14:18:21.810230: I tensorflow/stream_executor/cuda/cuda_gpu_executor.cc:937] successful NUMA node read from SysFS had negative value (-1), but there must be at least one NUMA node, so returning NUMA node zero\n",
      "2021-07-23 14:18:21.811809: I tensorflow/stream_executor/cuda/cuda_gpu_executor.cc:937] successful NUMA node read from SysFS had negative value (-1), but there must be at least one NUMA node, so returning NUMA node zero\n",
      "2021-07-23 14:18:21.813488: I tensorflow/stream_executor/cuda/cuda_gpu_executor.cc:937] successful NUMA node read from SysFS had negative value (-1), but there must be at least one NUMA node, so returning NUMA node zero\n",
      "2021-07-23 14:18:21.814987: I tensorflow/stream_executor/cuda/cuda_gpu_executor.cc:937] successful NUMA node read from SysFS had negative value (-1), but there must be at least one NUMA node, so returning NUMA node zero\n",
      "2021-07-23 14:18:21.816617: I tensorflow/stream_executor/cuda/cuda_gpu_executor.cc:937] successful NUMA node read from SysFS had negative value (-1), but there must be at least one NUMA node, so returning NUMA node zero\n",
      "2021-07-23 14:18:21.818133: I tensorflow/core/common_runtime/gpu/gpu_device.cc:1418] Created TensorFlow device (/job:localhost/replica:0/task:0/device:GPU:0 with 43467 MB memory) -> physical GPU (device: 0, name: RTX A6000, pci bus id: 0000:0e:00.0, compute capability: 8.6)\n",
      "2021-07-23 14:18:21.818809: I tensorflow/stream_executor/cuda/cuda_gpu_executor.cc:937] successful NUMA node read from SysFS had negative value (-1), but there must be at least one NUMA node, so returning NUMA node zero\n",
      "2021-07-23 14:18:21.820399: I tensorflow/core/common_runtime/gpu/gpu_device.cc:1418] Created TensorFlow device (/job:localhost/replica:0/task:0/device:GPU:1 with 46726 MB memory) -> physical GPU (device: 1, name: RTX A6000, pci bus id: 0000:0f:00.0, compute capability: 8.6)\n",
      "2021-07-23 14:18:22.781780: I tensorflow/compiler/mlir/mlir_graph_optimization_pass.cc:176] None of the MLIR Optimization Passes are enabled (registered 2)\n",
      "2021-07-23 14:18:22.783042: I tensorflow/core/platform/profile_utils/cpu_utils.cc:114] CPU Frequency: 2499970000 Hz\n"
     ]
    },
    {
     "name": "stdout",
     "output_type": "stream",
     "text": [
      "Epoch 1/40\n"
     ]
    },
    {
     "name": "stderr",
     "output_type": "stream",
     "text": [
      "2021-07-23 14:18:29.352949: I tensorflow/stream_executor/platform/default/dso_loader.cc:53] Successfully opened dynamic library libcudnn.so.8\n",
      "2021-07-23 14:18:30.059280: I tensorflow/stream_executor/cuda/cuda_dnn.cc:359] Loaded cuDNN version 8101\n",
      "2021-07-23 14:18:30.906663: I tensorflow/stream_executor/platform/default/dso_loader.cc:53] Successfully opened dynamic library libcublas.so.11\n",
      "2021-07-23 14:18:31.529172: I tensorflow/stream_executor/platform/default/dso_loader.cc:53] Successfully opened dynamic library libcublasLt.so.11\n",
      "2021-07-23 14:18:32.342201: I tensorflow/stream_executor/cuda/cuda_blas.cc:1838] TensorFloat-32 will be used for the matrix multiplication. This will only be logged once.\n"
     ]
    },
    {
     "name": "stdout",
     "output_type": "stream",
     "text": [
      "1667/1667 [==============================] - 307s 178ms/step - loss: 1.0100 - accuracy: 0.4769 - val_loss: 1.6762 - val_accuracy: 0.4021\n",
      "Epoch 2/40\n",
      "1667/1667 [==============================] - 294s 176ms/step - loss: 0.9221 - accuracy: 0.5354 - val_loss: 0.9740 - val_accuracy: 0.5242\n",
      "Epoch 3/40\n",
      "1667/1667 [==============================] - 296s 177ms/step - loss: 0.9055 - accuracy: 0.5430 - val_loss: 0.9596 - val_accuracy: 0.5376\n",
      "Epoch 4/40\n",
      "1667/1667 [==============================] - 294s 177ms/step - loss: 0.8987 - accuracy: 0.5464 - val_loss: 1.0589 - val_accuracy: 0.4586\n",
      "Epoch 5/40\n",
      "1667/1667 [==============================] - 293s 176ms/step - loss: 0.8949 - accuracy: 0.5495 - val_loss: 0.9160 - val_accuracy: 0.5397\n",
      "Epoch 6/40\n",
      "1667/1667 [==============================] - 296s 178ms/step - loss: 0.8908 - accuracy: 0.5517 - val_loss: 0.9843 - val_accuracy: 0.4900\n",
      "Epoch 7/40\n",
      "1667/1667 [==============================] - 298s 179ms/step - loss: 0.8866 - accuracy: 0.5548 - val_loss: 0.8955 - val_accuracy: 0.5524\n",
      "Epoch 8/40\n",
      "1667/1667 [==============================] - 292s 175ms/step - loss: 0.8820 - accuracy: 0.5581 - val_loss: 0.9005 - val_accuracy: 0.5432\n",
      "Epoch 9/40\n",
      "1667/1667 [==============================] - 296s 178ms/step - loss: 0.8775 - accuracy: 0.5616 - val_loss: 0.9185 - val_accuracy: 0.5456\n",
      "Epoch 10/40\n",
      "1667/1667 [==============================] - 297s 178ms/step - loss: 0.8720 - accuracy: 0.5648 - val_loss: 0.9794 - val_accuracy: 0.5451\n",
      "Epoch 11/40\n",
      "1667/1667 [==============================] - 295s 177ms/step - loss: 0.8682 - accuracy: 0.5668 - val_loss: 0.9173 - val_accuracy: 0.5517\n",
      "Epoch 12/40\n",
      "1667/1667 [==============================] - 297s 178ms/step - loss: 0.8627 - accuracy: 0.5711 - val_loss: 0.8731 - val_accuracy: 0.5684\n",
      "Epoch 13/40\n",
      "1667/1667 [==============================] - 294s 176ms/step - loss: 0.8577 - accuracy: 0.5743 - val_loss: 0.8737 - val_accuracy: 0.5656\n",
      "Epoch 14/40\n",
      "1667/1667 [==============================] - 295s 177ms/step - loss: 0.8526 - accuracy: 0.5776 - val_loss: 0.8773 - val_accuracy: 0.5694\n",
      "Epoch 15/40\n",
      "1667/1667 [==============================] - 292s 175ms/step - loss: 0.8473 - accuracy: 0.5814 - val_loss: 0.8835 - val_accuracy: 0.5663\n",
      "Epoch 16/40\n",
      "1667/1667 [==============================] - 296s 177ms/step - loss: 0.8401 - accuracy: 0.5860 - val_loss: 0.8617 - val_accuracy: 0.5770\n",
      "Epoch 17/40\n",
      "1667/1667 [==============================] - 295s 177ms/step - loss: 0.8327 - accuracy: 0.5913 - val_loss: 0.8684 - val_accuracy: 0.5678\n",
      "Epoch 18/40\n",
      "1667/1667 [==============================] - 295s 177ms/step - loss: 0.8237 - accuracy: 0.5982 - val_loss: 0.8740 - val_accuracy: 0.5703\n",
      "Epoch 19/40\n",
      "1667/1667 [==============================] - 293s 176ms/step - loss: 0.8123 - accuracy: 0.6064 - val_loss: 0.8681 - val_accuracy: 0.5781\n",
      "Epoch 20/40\n",
      "1667/1667 [==============================] - 296s 178ms/step - loss: 0.8001 - accuracy: 0.6146 - val_loss: 0.8561 - val_accuracy: 0.5835\n",
      "Epoch 21/40\n",
      "1667/1667 [==============================] - 295s 177ms/step - loss: 0.7852 - accuracy: 0.6231 - val_loss: 0.8676 - val_accuracy: 0.5826\n",
      "Epoch 22/40\n",
      "1667/1667 [==============================] - 300s 180ms/step - loss: 0.7666 - accuracy: 0.6357 - val_loss: 0.8465 - val_accuracy: 0.5925\n",
      "Epoch 23/40\n",
      "1667/1667 [==============================] - 293s 176ms/step - loss: 0.7478 - accuracy: 0.6474 - val_loss: 0.8485 - val_accuracy: 0.5998\n",
      "Epoch 24/40\n",
      "1667/1667 [==============================] - 298s 178ms/step - loss: 0.7260 - accuracy: 0.6589 - val_loss: 0.8381 - val_accuracy: 0.6084\n",
      "Epoch 25/40\n",
      "1667/1667 [==============================] - 296s 177ms/step - loss: 0.7016 - accuracy: 0.6749 - val_loss: 0.8482 - val_accuracy: 0.5991\n",
      "Epoch 26/40\n",
      "1667/1667 [==============================] - 297s 178ms/step - loss: 0.6770 - accuracy: 0.6882 - val_loss: 0.8390 - val_accuracy: 0.6141\n",
      "Epoch 27/40\n",
      "1667/1667 [==============================] - 295s 177ms/step - loss: 0.6535 - accuracy: 0.6999 - val_loss: 0.8243 - val_accuracy: 0.6184\n",
      "Epoch 28/40\n",
      "1667/1667 [==============================] - 296s 178ms/step - loss: 0.6296 - accuracy: 0.7135 - val_loss: 0.8783 - val_accuracy: 0.6054\n",
      "Epoch 29/40\n",
      "1667/1667 [==============================] - 294s 176ms/step - loss: 0.5879 - accuracy: 0.7344 - val_loss: 0.8238 - val_accuracy: 0.6314\n",
      "Epoch 31/40\n",
      "1667/1667 [==============================] - 298s 179ms/step - loss: 0.5655 - accuracy: 0.7459 - val_loss: 0.8671 - val_accuracy: 0.6126\n",
      "Epoch 32/40\n",
      "1667/1667 [==============================] - 300s 180ms/step - loss: 0.5455 - accuracy: 0.7567 - val_loss: 0.8625 - val_accuracy: 0.6266\n",
      "Epoch 33/40\n",
      "1667/1667 [==============================] - 299s 179ms/step - loss: 0.5287 - accuracy: 0.7644 - val_loss: 0.8494 - val_accuracy: 0.6401\n",
      "Epoch 34/40\n",
      "1667/1667 [==============================] - 300s 180ms/step - loss: 0.5122 - accuracy: 0.7721 - val_loss: 0.8443 - val_accuracy: 0.6403\n",
      "Epoch 35/40\n",
      "1667/1667 [==============================] - 298s 179ms/step - loss: 0.4943 - accuracy: 0.7819 - val_loss: 0.8592 - val_accuracy: 0.6360\n",
      "Epoch 36/40\n",
      "1667/1667 [==============================] - 312s 187ms/step - loss: 0.4786 - accuracy: 0.7883 - val_loss: 0.8515 - val_accuracy: 0.6483\n",
      "Epoch 37/40\n",
      "1667/1667 [==============================] - 298s 179ms/step - loss: 0.4658 - accuracy: 0.7953 - val_loss: 0.8976 - val_accuracy: 0.6499\n",
      "Epoch 38/40\n",
      "1667/1667 [==============================] - 299s 179ms/step - loss: 0.4519 - accuracy: 0.8026 - val_loss: 0.8798 - val_accuracy: 0.6530\n",
      "Epoch 39/40\n",
      "1667/1667 [==============================] - 298s 179ms/step - loss: 0.4395 - accuracy: 0.8078 - val_loss: 0.8624 - val_accuracy: 0.6596\n",
      "Epoch 40/40\n",
      "1667/1667 [==============================] - 299s 179ms/step - loss: 0.4295 - accuracy: 0.8134 - val_loss: 0.8620 - val_accuracy: 0.6505\n"
     ]
    }
   ],
   "source": [
    "# Removed dropout in fully connected layer\n",
    "\n",
    "NUM_CLASSES = 3\n",
    "INPUT_SHAPE = (251, 128, 3)\n",
    "\n",
    "N_EPOCHS = 40\n",
    "OPTIMIZER = Ranger(learning_rate=0.001, beta_1=0.9, beta_2=0.999, epsilon=1e-7, weight_decay=0.01, amsgrad=False)\n",
    "\n",
    "cnnspec = Sequential()\n",
    "\n",
    "# Block 1 Conv2D\n",
    "cnnspec.add(Conv2D(32, (3,3), padding='same', input_shape=INPUT_SHAPE, activation='relu'))\n",
    "cnnspec.add(Conv2D(32, (3,3), padding='same', activation='relu'))\n",
    "cnnspec.add(MaxPooling2D(pool_size=(2,2)))\n",
    "cnnspec.add(Dropout(0.4))\n",
    "\n",
    "# Block 2 Conv2D\n",
    "cnnspec.add(Conv2D(64, (3,3), padding='valid', activation='relu'))\n",
    "cnnspec.add(BatchNormalization())\n",
    "cnnspec.add(Conv2D(64, (3,3), padding='valid', activation='relu'))\n",
    "cnnspec.add(BatchNormalization())\n",
    "cnnspec.add(MaxPooling2D(pool_size=(2,2)))\n",
    "cnnspec.add(Dropout(0.4))\n",
    "cnnspec.add(BatchNormalization())\n",
    "\n",
    "# Block 3 Conv2D\n",
    "cnnspec.add(Conv2D(64, (3,3), padding='valid', activation='relu'))\n",
    "cnnspec.add(BatchNormalization())\n",
    "cnnspec.add(Conv2D(64, (3,3), padding='valid', activation='relu'))\n",
    "cnnspec.add(BatchNormalization())\n",
    "cnnspec.add(MaxPooling2D(pool_size=(2,2)))\n",
    "cnnspec.add(Dropout(0.4))\n",
    "cnnspec.add(BatchNormalization())\n",
    "\n",
    "# Block 4 Conv2D\n",
    "cnnspec.add(Conv2D(256, (3,3), padding='valid', activation='relu'))\n",
    "cnnspec.add(BatchNormalization())\n",
    "cnnspec.add(Conv2D(256, (3,3), padding='valid', activation='relu'))\n",
    "cnnspec.add(BatchNormalization())\n",
    "cnnspec.add(Conv2D(256, (3,3), padding='valid', activation='relu'))\n",
    "cnnspec.add(BatchNormalization())\n",
    "cnnspec.add(Conv2D(256, (3,3), padding='valid', activation='relu'))\n",
    "cnnspec.add(MaxPooling2D(pool_size=(2,2)))\n",
    "cnnspec.add(Dropout(0.4))\n",
    "cnnspec.add(BatchNormalization())\n",
    "\n",
    "# Fully Connected\n",
    "cnnspec.add(Flatten())\n",
    "cnnspec.add(Dense(512, activation='relu'))\n",
    "cnnspec.add(Dense(256, activation='relu'))\n",
    "cnnspec.add(Dense(64, activation='relu'))\n",
    "#cnnspec.add(Dropout(0.2))\n",
    "cnnspec.add(Dense(NUM_CLASSES, activation='softmax'))\n",
    "\n",
    "\n",
    "early_stopping = EarlyStopping(monitor='loss', patience=1)\n",
    "checkpoint = ModelCheckpoint(filepath=\"SN.h5\",\n",
    "                             monitor=\"val_accuracy\",\n",
    "                             mode=\"max\", \n",
    "                             save_best_only=True)\n",
    "\n",
    "reduce_lr = ReduceLROnPlateau(monitor='val_loss', factor=0.2, patience=1, min_lr=0.0001)\n",
    "\n",
    "cnnspec.compile(optimizer=OPTIMIZER,\n",
    "               loss='categorical_crossentropy', \n",
    "               metrics=['accuracy'])\n",
    "    \n",
    "history = cnnspec.fit_generator(training_set,\n",
    "                    steps_per_epoch=len(training_set),\n",
    "                    epochs=N_EPOCHS,\n",
    "                    validation_data=test_set,\n",
    "                    callbacks=[early_stopping, checkpoint],\n",
    "                    validation_steps=len(test_set),\n",
    "                    workers=2,\n",
    "                    verbose=1)"
   ]
  },
  {
   "cell_type": "code",
   "execution_count": null,
   "metadata": {
    "ExecuteTime": {
     "end_time": "2021-07-24T01:09:32.409520Z",
     "start_time": "2021-07-24T01:09:32.248548Z"
    },
    "id": "506713a9"
   },
   "outputs": [],
   "source": [
    "import matplotlib.pyplot as plt\n",
    "\n",
    "acc = history.history['accuracy']\n",
    "val_acc = history.history['val_accuracy']\n",
    "loss = history.history['loss']\n",
    "val_loss = history.history['val_loss']\n",
    "\n",
    "epochs = range(len(acc))"
   ]
  },
  {
   "cell_type": "code",
   "execution_count": null,
   "metadata": {
    "ExecuteTime": {
     "end_time": "2021-07-24T01:09:34.439485Z",
     "start_time": "2021-07-24T01:09:34.204736Z"
    },
    "id": "b404a78a",
    "outputId": "d789199c-ebc1-4141-b3a3-14ecf6ae4a86",
    "scrolled": false
   },
   "outputs": [
    {
     "data": {
      "image/png": "[encoded data removed]",
      "text/plain": [
       "<Figure size 432x288 with 1 Axes>"
      ]
     },
     "metadata": {
      "needs_background": "light",
      "tags": []
     },
     "output_type": "display_data"
    },
    {
     "data": {
      "image/png": "[encoded data removed]",
      "text/plain": [
       "<Figure size 432x288 with 1 Axes>"
      ]
     },
     "metadata": {
      "needs_background": "light",
      "tags": []
     },
     "output_type": "display_data"
    }
   ],
   "source": [
    "plt.plot(epochs, acc, 'b', label='Training acc')\n",
    "plt.plot(epochs, val_acc, 'bo', label='Validation acc')\n",
    "plt.title('Training and validation accuracy')\n",
    "plt.legend()\n",
    "\n",
    "plt.figure()\n",
    "\n",
    "plt.plot(epochs, loss, 'r', label='Training loss')\n",
    "plt.plot(epochs, val_loss, 'ro', label='Validation loss')\n",
    "plt.title('Training and validation loss')\n",
    "plt.legend()\n",
    "\n",
    "plt.show()"
   ]
  },
  {
   "cell_type": "code",
   "execution_count": 5,
   "metadata": {},
   "outputs": [
    {
     "name": "stdout",
     "output_type": "stream",
     "text": [
      "2857/2857 [==============================] - 89s 32ms/step - loss: 0.8134 - accuracy: 0.6345\n"
     ]
    }
   ],
   "source": [
    "loss, accuracy = cnnspec.evaluate(test_set)"
   ]
  },
  {
   "cell_type": "code",
   "execution_count": null,
   "metadata": {
    "ExecuteTime": {
     "end_time": "2021-07-24T01:14:46.546901Z",
     "start_time": "2021-07-24T01:14:46.316041Z"
    },
    "id": "90a6a690"
   },
   "outputs": [],
   "source": [
    "cnnspec.save('cnnspec_v3.h5')"
   ]
  },
  {
   "cell_type": "markdown",
   "metadata": {
    "id": "b65fe227"
   },
   "source": [
    "## Conclusion and Findings\n",
    "\n",
    "Overall, we built 4 unique models using the CNN framework. Based on our initial test from our first rendition we received results that were clearly overfit around epoch 15. In order to remedy this we first tried to tune its hyperparameters using the \"RandomSearch\" method of \"KerasTuner.\" We attempted to modify parameters like learning rate and the \"Dropout\" amount. However, there was not much change in model outcome...overfitting was still extremely present. After trying those different possibilities we then decided to try different model archetectures.\n",
    "\n",
    "Out of the 3 experimental architectures, we found that overfitting was still a problem, although it was best mitigated in \"v2\". Where the overfitting doesn't start until reaching epoch 20 or so. Even though we were able to attain slightly better results with the newer versions, our loss was consistently flat-lining after x amount of epochs. Because this was a constant throughout our experimentation we might conclude that our model was not learning from our data at all or that the data could possibly be too complex. If the data was to complex we might be required to increase layers and network depth to extract features that are more unique to the 3 classes we have, requiring more training time and resources which would be rather expensive in the long run. \n",
    "\n",
    "However, working within the constraints of time and resources we tested the majority of potential architectures and frameworks and could not break above 70% accuracy without heavy overfitting/underfitting. The final conclusion we came to is that our original dataset needs to be reworked in a way that is better able to be processed by a neural net. Whether that means a re-balancing, using images in a different color mode or a new type of augmentation technique, it will be reserved for future work. \n",
    "\n",
    "### Possible Issues:\n",
    "- Models not learning, only memorizing\n",
    "- Data problems\n",
    "    - Unbalanced\n",
    "    - Too complex for architecture?"
   ]
  }
 ],
 "metadata": {
  "accelerator": "GPU",
  "colab": {
   "name": "extended_modeling(deep learning).ipynb",
   "provenance": []
  },
  "kernelspec": {
   "display_name": "Python 3",
   "language": "python",
   "name": "python3"
  },
  "language_info": {
   "codemirror_mode": {
    "name": "ipython",
    "version": 3
   },
   "file_extension": ".py",
   "mimetype": "text/x-python",
   "name": "python",
   "nbconvert_exporter": "python",
   "pygments_lexer": "ipython3",
   "version": "3.8.5"
  }
 },
 "nbformat": 4,
 "nbformat_minor": 5
}
