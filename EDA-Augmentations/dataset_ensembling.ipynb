{
 "cells": [
  {
   "attachments": {},
   "cell_type": "markdown",
   "metadata": {},
   "source": [
    "# Dataset Ensembling \n",
    "<br></br>\n",
    "In this notebook you will find the final steps completed during the entire ensembling process. \n",
    "\n",
    "These steps include, segmenting each individual audio by sentence using timestamps and cleaning audio segment labels for correct .wav filename exporting. The timestamps for each sentence found within each audio were derived from the forced alignment synchronization map operation performed using the \"aeneas\" CLI. Each audio segment (sentence) was provided a label using NLP (natural-language-processing) by the means of transformer (finBERT). \n",
    "\n",
    "\n",
    "<br></br>\n",
    "<img src=\"dataset_ensembling_workflow2.png\" alt=\"workflow\" style=\"width:60%\">\n",
    "<br></br>\n",
    "<br></br>\n",
    "\n",
    "### Data totals:\n",
    "- Scraped videos: 11,525\n",
    "    - 23 unique search queries (financial market related)\n",
    "- Successful transcriptions: 11,235\n",
    "    - .JSON format\n",
    "    - 1 file per audio -> \"display\" form\n",
    "        - Punctuation and capitalization\n",
    "- Successful audios processed by \"finBERT\": 10,548\n",
    "    - Sentences labeled by sentiment\n",
    "        - Negative, neutral, positive = bearish, neutral, bullish respectively \n",
    "\n",
    "<br></br>\n",
    "#### **Final dataset (total audio segments):** 176,432\n",
    "    \n",
    "\n",
    "\n",
    "\n",
    "\n",
    "\n",
    "    \n",
    "\n"
   ]
  },
  {
   "cell_type": "code",
   "execution_count": 1,
   "metadata": {},
   "outputs": [],
   "source": [
    "from pydub import AudioSegment\n",
    "\n",
    "import pandas as pd\n",
    "import numpy as np\n",
    "\n",
    "import glob\n",
    "import os"
   ]
  },
  {
   "cell_type": "code",
   "execution_count": 12,
   "metadata": {},
   "outputs": [],
   "source": [
    "def read_data(df_files):\n",
    "\n",
    "    # Read segment csv file, count columns for each line -fixes uneven amount of columns when should be same\n",
    "    segments_list = []\n",
    "    for csv in df_files:\n",
    "        with open(csv, 'r') as temp_f:\n",
    "            # Get n columns in each line\n",
    "            col_count = [len(l.split(\",\")) for l in temp_f.readlines()]\n",
    "        column_names = [i for i in range(0, max(col_count))]\n",
    "        df = pd.read_csv(csv, header=None, delimiter=\",\", names=column_names)\n",
    "        segments_list.append(df)\n",
    "\n",
    "    # Select the first 4 columns for each segment df\n",
    "    new_segment_list = []\n",
    "    for i in segments_list:\n",
    "        i = i.iloc[:, 0:4]\n",
    "        new_segment_list.append(i)\n",
    "\n",
    "    # Clean label names for smooth export of .wavs\n",
    "    final_segment_list = []\n",
    "    for sl in new_segment_list:\n",
    "        sl[0] = sl[0].astype(str)\n",
    "        sl[0] = sl[0].str.replace('\\d+', '')\n",
    "        final_segment_list.append(sl)\n",
    "\n",
    "    return final_segment_list\n",
    "\n",
    "\n",
    "# Extract segments of each audio file parallel to segment df\n",
    "def extract_segments(wavobj, seg_df):\n",
    "\n",
    "    # Get start time for each segment of each file\n",
    "    starts = []\n",
    "    for seg_start in seg_df[1]:\n",
    "        starts.append(\n",
    "            seg_start *\n",
    "            1000)  # Multiply by 1000 for miliseconds for \"AudioSegment\"\n",
    "\n",
    "    # Get end time for each segment of each file\n",
    "    ends = []\n",
    "    for seg_end in seg_df[2]:\n",
    "        ends.append(seg_end * 1000)\n",
    "\n",
    "    # Export segmented files\n",
    "    i = 0\n",
    "    for start, end in zip(starts, ends):\n",
    "        audio_seg = wavobj[start:end]\n",
    "        print('Extracting audio segment:', len(audio_seg), 'Samples')\n",
    "\n",
    "        new_index = len(\n",
    "            os.listdir('F://audioSegments_labeled2//')\n",
    "        )  # Use previous file export as index to write next file\n",
    "        file_name = str(seg_df[0][i][0:]) + \"_\" + str(new_index) + \".wav\"\n",
    "\n",
    "        audio_seg.export(file_name, format='wav')  # Export each .wav\n",
    "        i += 1"
   ]
  },
  {
   "cell_type": "code",
   "execution_count": 3,
   "metadata": {
    "scrolled": true
   },
   "outputs": [],
   "source": [
    "# Import segment files\n",
    "\n",
    "df_files = glob.glob(\n",
    "    './capstone3_data/labeledSegments_audios/labeledSegments_timestamps/*.csv',\n",
    "    recursive=True)\n",
    "#print(df_files)"
   ]
  },
  {
   "cell_type": "code",
   "execution_count": 4,
   "metadata": {},
   "outputs": [
    {
     "data": {
      "text/plain": [
       "10548"
      ]
     },
     "execution_count": 4,
     "metadata": {},
     "output_type": "execute_result"
    }
   ],
   "source": [
    "segment_dfs = read_data(df_files)  # Read data from each .csv\n",
    "len(segment_dfs)"
   ]
  },
  {
   "cell_type": "code",
   "execution_count": 5,
   "metadata": {},
   "outputs": [],
   "source": [
    "# Import .wav audio files\n",
    "\n",
    "wavs = glob.glob('./audio_wavFiles/*.wav', recursive=True)\n",
    "#print(wavs)"
   ]
  },
  {
   "cell_type": "code",
   "execution_count": 6,
   "metadata": {},
   "outputs": [],
   "source": [
    "# Load each .wav file with AudioSegment and convert to \"wav object\", create new list of objects\n",
    "\n",
    "wavobjs = []\n",
    "\n",
    "for i in wavs:\n",
    "    f = AudioSegment.from_wav(i)\n",
    "    wavobjs.append(f)"
   ]
  },
  {
   "cell_type": "code",
   "execution_count": 15,
   "metadata": {},
   "outputs": [
    {
     "data": {
      "text/html": [
       "<div>\n",
       "<style scoped>\n",
       "    .dataframe tbody tr th:only-of-type {\n",
       "        vertical-align: middle;\n",
       "    }\n",
       "\n",
       "    .dataframe tbody tr th {\n",
       "        vertical-align: top;\n",
       "    }\n",
       "\n",
       "    .dataframe thead th {\n",
       "        text-align: right;\n",
       "    }\n",
       "</style>\n",
       "<table border=\"1\" class=\"dataframe\">\n",
       "  <thead>\n",
       "    <tr style=\"text-align: right;\">\n",
       "      <th></th>\n",
       "      <th>0</th>\n",
       "      <th>1</th>\n",
       "      <th>2</th>\n",
       "      <th>3</th>\n",
       "    </tr>\n",
       "  </thead>\n",
       "  <tbody>\n",
       "    <tr>\n",
       "      <th>0</th>\n",
       "      <td>NEUT</td>\n",
       "      <td>0.00</td>\n",
       "      <td>16.32</td>\n",
       "      <td>\"Diabulus I would like to take you through wit...</td>\n",
       "    </tr>\n",
       "    <tr>\n",
       "      <th>1</th>\n",
       "      <td>NEUT</td>\n",
       "      <td>16.32</td>\n",
       "      <td>20.52</td>\n",
       "      <td>That we have adopted in the new normal.</td>\n",
       "    </tr>\n",
       "    <tr>\n",
       "      <th>2</th>\n",
       "      <td>NEUT</td>\n",
       "      <td>20.52</td>\n",
       "      <td>23.76</td>\n",
       "      <td>A few key points to be kept in mind.</td>\n",
       "    </tr>\n",
       "    <tr>\n",
       "      <th>3</th>\n",
       "      <td>NEUT</td>\n",
       "      <td>23.76</td>\n",
       "      <td>26.44</td>\n",
       "      <td>While drafting the communication.</td>\n",
       "    </tr>\n",
       "    <tr>\n",
       "      <th>4</th>\n",
       "      <td>NEUT</td>\n",
       "      <td>26.44</td>\n",
       "      <td>29.36</td>\n",
       "      <td>As brands return to business as usual.</td>\n",
       "    </tr>\n",
       "  </tbody>\n",
       "</table>\n",
       "</div>"
      ],
      "text/plain": [
       "      0      1      2                                                  3\n",
       "0  NEUT   0.00  16.32  \"Diabulus I would like to take you through wit...\n",
       "1  NEUT  16.32  20.52            That we have adopted in the new normal.\n",
       "2  NEUT  20.52  23.76               A few key points to be kept in mind.\n",
       "3  NEUT  23.76  26.44                  While drafting the communication.\n",
       "4  NEUT  26.44  29.36             As brands return to business as usual."
      ]
     },
     "execution_count": 15,
     "metadata": {},
     "output_type": "execute_result"
    }
   ],
   "source": [
    "segment_dfs[0].head()  # Check if first segment df of segment df list matches original"
   ]
  },
  {
   "cell_type": "code",
   "execution_count": 8,
   "metadata": {},
   "outputs": [
    {
     "name": "stdout",
     "output_type": "stream",
     "text": [
      "(<pydub.audio_segment.AudioSegment object at 0x0000021946CC63A0>,        0       1       2                                                  3\n",
      "0   NEUT    0.00   16.32  \"Diabulus I would like to take you through wit...\n",
      "1   NEUT   16.32   20.52            That we have adopted in the new normal.\n",
      "2   NEUT   20.52   23.76               A few key points to be kept in mind.\n",
      "3   NEUT   23.76   26.44                  While drafting the communication.\n",
      "4   NEUT   26.44   29.36             As brands return to business as usual.\n",
      "5   NEUT   29.36   30.92                                        What I saw.\n",
      "6   NEUT   30.92   32.76                                                 1.\n",
      "7   NEUT   32.76   38.44  With changing times consumer behavior and need...\n",
      "8   NEUT   38.44   45.76  Branch should anticipate the change in pattern...\n",
      "9   NEUT   45.76   50.00  And feel the messaging around what consumers c...\n",
      "10  NEUT   50.00   52.44                                                 2.\n",
      "11  NEUT   52.44   60.64  We should totally avoid advertising, only appr...\n",
      "12  NEUT   60.64   64.08                To come out as a responsible brand.\n",
      "13  NEUT   64.08   69.00  Rampage combined with the public service message.\n",
      "14  NEUT   69.00   74.24  Is the sense for advertisers in the current ti...\n",
      "15  NEUT   74.24   78.16  Dual purpose campaigns are the need of the pre...\n",
      "16  NEUT   78.16   79.72                                                 3.\n",
      "17  NEUT   79.72   85.32  Brand should bring in key social messages in t...\n",
      "18  NEUT   85.32   90.64  An initiate relevant conversations in the onli...\n",
      "19  NEUT   90.64   92.48                                        But he was.\n",
      "20  NEUT   92.48   97.08   You can participate and feed a part of the plan.\n",
      "21  NEUT   97.08   98.48                                                 4.\n",
      "22  NEUT   98.48  102.88  Brand should create better breaking campaigns ...\n",
      "23  BULL  102.88  109.48  To keep the consumers engaged and produce grea...\n",
      "24  BULL  109.48  117.52  And to all the market years together we can an...\n",
      "25  BULL  117.52  122.80                                 Hope it works.\"\"\"\")\n"
     ]
    }
   ],
   "source": [
    "# Create list of tuples for each audio and its matching segments\n",
    "\n",
    "obj_seg_pair = list(zip(wavobjs, segment_dfs))\n",
    "print(obj_seg_pair[0])"
   ]
  },
  {
   "cell_type": "code",
   "execution_count": 10,
   "metadata": {},
   "outputs": [
    {
     "data": {
      "text/plain": [
       "'F:\\\\audioSegments_labeled2'"
      ]
     },
     "execution_count": 10,
     "metadata": {},
     "output_type": "execute_result"
    }
   ],
   "source": [
    "os.chdir('F://audioSegments_labeled2//')\n",
    "os.getcwd()"
   ]
  },
  {
   "cell_type": "code",
   "execution_count": 14,
   "metadata": {},
   "outputs": [],
   "source": [
    "# Loop through wav objects/segment pairs and extract audio segments\n",
    "\n",
    "for wavobj, seg_df in obj_seg_pair:\n",
    "    extract_segments(wavobj, seg_df)"
   ]
  }
 ],
 "metadata": {
  "kernelspec": {
   "display_name": "Python 3",
   "language": "python",
   "name": "python3"
  },
  "language_info": {
   "codemirror_mode": {
    "name": "ipython",
    "version": 3
   },
   "file_extension": ".py",
   "mimetype": "text/x-python",
   "name": "python",
   "nbconvert_exporter": "python",
   "pygments_lexer": "ipython3",
   "version": "3.8.5"
  },
  "latex_envs": {
   "LaTeX_envs_menu_present": true,
   "autoclose": false,
   "autocomplete": true,
   "bibliofile": "biblio.bib",
   "cite_by": "apalike",
   "current_citInitial": 1,
   "eqLabelWithNumbers": true,
   "eqNumInitial": 1,
   "hotkeys": {
    "equation": "Ctrl-E",
    "itemize": "Ctrl-I"
   },
   "labels_anchors": false,
   "latex_user_defs": false,
   "report_style_numbering": false,
   "user_envs_cfg": false
  }
 },
 "nbformat": 4,
 "nbformat_minor": 5
}
