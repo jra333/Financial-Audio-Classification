{
 "cells": [
  {
   "cell_type": "markdown",
   "metadata": {
    "id": "gnKRZr761Jx_"
   },
   "source": [
    "# Feature Engineering and Baseline Modeling\n",
    "<br>\n",
    "\n",
    "During this phase, we extract features from our audio signals and run baseline model tests using our oversampled dataset as the train and validation inputs. To get the features, as mel-spectrograms, we used NVIDIAs data loading library, \"DALI\". Using the processing operators provided by DALI we were able to extract the spectrograms at a fraction of the time it would take using \"librosa\" because the library is accelerated via GPU. DALI produced identical mel-spectrograms in comparison to librosa, giving us an array output size of 251x128 for each of the 304,675 audios. The total spectrograms were split using a stratified K-fold split of 80/20.  \n",
    "\n",
    "With our X/y, train/test we performed various transformations in order to compress the data to fit our models and perform under limited computing conditions. Principal component analysis (PCA) of .95 was used to reduce the datasets dimensions and MinMaxScaler() with a feature range of 0,1 was used to scale each float making up the unique spectrogram of each individual audio. Once all transformations and scaling was completed we were then able to construct our baseline models. \n",
    "\n",
    "\n",
    "### Models:\n",
    "- Logistic regression\n",
    "- Two support vector classifiers (SVC) \n",
    "    - One utilizing Sklearns library\n",
    "        - Long training times \n",
    "    - One utilizing RAPIDS (cuML) library\n",
    "        - Accelerated for performance\n",
    "- XGBoost \n",
    "\n",
    "<br>\n",
    "Each of the models were tuned and fit using GridSearchCV() with 10 folds, allowing us to find the best hyperparameters for each respective model. Using the \"best-estimator\" method we conducted our predictions with X_test. The only model that did not utilize the GridSearch method was XGBoost, as we used their internal documentation to build it.\n",
    "\n",
    "A summary of each model can be found at the beginning of its predictions, and our findings are located at the very end of the notebook. "
   ]
  },
  {
   "cell_type": "code",
   "execution_count": null,
   "metadata": {
    "colab": {
     "base_uri": "https://localhost:8080/"
    },
    "id": "LCGQweFx1UFH",
    "outputId": "3e372707-4de6-464b-b0e9-fe1aa1c687cc"
   },
   "outputs": [
    {
     "name": "stdout",
     "output_type": "stream",
     "text": [
      "Collecting xgboost==1.4.0-SNAPSHOT+bec2b4f0945cb7700da15c62a56a37a6d45cf846\n",
      "  Downloading https://s3-us-west-2.amazonaws.com/xgboost-nightly-builds/xgboost-1.4.0_SNAPSHOT%2Bbec2b4f0945cb7700da15c62a56a37a6d45cf846-py3-none-manylinux2010_x86_64.whl (166.7 MB)\n",
      "\u001b[K     |████████████████████████████████| 166.7 MB 19 kB/s \n",
      "\u001b[?25hRequirement already satisfied: numpy in /usr/local/lib/python3.7/dist-packages (from xgboost==1.4.0-SNAPSHOT+bec2b4f0945cb7700da15c62a56a37a6d45cf846) (1.19.5)\n",
      "Requirement already satisfied: scipy in /usr/local/lib/python3.7/dist-packages (from xgboost==1.4.0-SNAPSHOT+bec2b4f0945cb7700da15c62a56a37a6d45cf846) (1.4.1)\n",
      "Installing collected packages: xgboost\n",
      "  Attempting uninstall: xgboost\n",
      "    Found existing installation: xgboost 0.90\n",
      "    Uninstalling xgboost-0.90:\n",
      "      Successfully uninstalled xgboost-0.90\n",
      "Successfully installed xgboost-1.4.0-SNAPSHOT\n"
     ]
    }
   ],
   "source": [
    "!pip install https://s3-us-west-2.amazonaws.com/xgboost-nightly-builds/xgboost-1.4.0_SNAPSHOT%2Bbec2b4f0945cb7700da15c62a56a37a6d45cf846-py3-none-manylinux2010_x86_64.whl"
   ]
  },
  {
   "cell_type": "code",
   "execution_count": null,
   "metadata": {
    "ExecuteTime": {
     "end_time": "2021-07-27T21:43:47.411050Z",
     "start_time": "2021-07-27T21:43:44.498729Z"
    },
    "id": "PY761siz1JyA"
   },
   "outputs": [],
   "source": [
    "#from sklearnex import patch_sklearn\n",
    "#patch_sklearn()\n",
    "\n",
    "from sklearn.decomposition import PCA\n",
    "from sklearn.preprocessing import LabelEncoder, MinMaxScaler\n",
    "from sklearn.model_selection import GridSearchCV\n",
    "from sklearn.linear_model import LogisticRegression\n",
    "from sklearn.metrics import classification_report, confusion_matrix\n",
    "from sklearn.svm import SVC as skSVC\n",
    "\n",
    "#from cuml.svm import SVC as cumlSVC\n",
    "\n",
    "from xgboost import XGBClassifier\n",
    "import xgboost as xgb\n",
    "\n",
    "import os\n",
    "#import cuml\n",
    "import pandas as pd\n",
    "import numpy as np\n",
    "#import subprocess\n",
    "\n",
    "import matplotlib.pyplot as plt\n",
    "import matplotlib\n",
    "\n",
    "%matplotlib inline\n",
    "matplotlib.rc({\"figure.dpi\": 300, 'savefig.dpi': 300})\n",
    "#sns.set_style(\"ticks\")\n",
    "#sns.set_theme(style=\"darkgrid\")\n",
    "new_style = {'grid': False}\n",
    "matplotlib.rc('axes', **new_style)"
   ]
  },
  {
   "cell_type": "code",
   "execution_count": null,
   "metadata": {
    "ExecuteTime": {
     "end_time": "2021-07-12T04:40:24.509443Z",
     "start_time": "2021-07-12T04:40:24.105897Z"
    },
    "id": "ZFYlZDyn1JyB",
    "outputId": "d92f8f4e-d2a1-429c-a7d3-2f5e434d7fc0"
   },
   "outputs": [
    {
     "name": "stdout",
     "output_type": "stream",
     "text": [
      "<class 'pandas.core.frame.DataFrame'>\n",
      "RangeIndex: 304675 entries, 0 to 304674\n",
      "Data columns (total 2 columns):\n",
      " #   Column      Non-Null Count   Dtype \n",
      "---  ------      --------------   ----- \n",
      " 0   audio_file  304675 non-null  object\n",
      " 1   label       304675 non-null  object\n",
      "dtypes: object(2)\n",
      "memory usage: 4.6+ MB\n"
     ]
    }
   ],
   "source": [
    "# Load data\n",
    "\n",
    "train_OS = pd.read_csv('./capstone-project-3/data/train_OS.csv')\n",
    "train_OS.info()"
   ]
  },
  {
   "cell_type": "code",
   "execution_count": null,
   "metadata": {
    "ExecuteTime": {
     "end_time": "2021-07-12T04:40:26.006624Z",
     "start_time": "2021-07-12T04:40:25.954289Z"
    },
    "id": "Pc50Pb851JyC"
   },
   "outputs": [],
   "source": [
    "# Assigning numerical values and storing in another column\n",
    "\n",
    "labelencoder = LabelEncoder()\n",
    "train_OS['label_encoded'] = labelencoder.fit_transform(train_OS['label'])"
   ]
  },
  {
   "cell_type": "code",
   "execution_count": null,
   "metadata": {
    "ExecuteTime": {
     "end_time": "2021-07-12T04:40:31.592795Z",
     "start_time": "2021-07-12T04:40:31.026417Z"
    },
    "id": "rVVOu0LO1JyC"
   },
   "outputs": [],
   "source": [
    "from nvidia.dali import pipeline_def, Pipeline\n",
    "import nvidia.dali.fn as fn\n",
    "import nvidia.dali.types as types\n",
    "import cupy as cp \n",
    "\n",
    "cp.cuda.set_allocator(cp.cuda.MemoryPool(cp.cuda.malloc_managed).malloc) # GPU memory management"
   ]
  },
  {
   "cell_type": "code",
   "execution_count": null,
   "metadata": {
    "ExecuteTime": {
     "end_time": "2021-07-12T04:40:33.499003Z",
     "start_time": "2021-07-12T04:40:33.450098Z"
    },
    "id": "t18OBXEM1JyC"
   },
   "outputs": [],
   "source": [
    "audio_files = list(train_OS['audio_file']) # .wav inputs\n",
    "audio_labels = list(train_OS['label_encoded']) # label inputs"
   ]
  },
  {
   "cell_type": "code",
   "execution_count": null,
   "metadata": {
    "ExecuteTime": {
     "end_time": "2021-07-12T04:44:00.782257Z",
     "start_time": "2021-07-12T04:44:00.654535Z"
    },
    "id": "W-xr7_eJ1JyD"
   },
   "outputs": [],
   "source": [
    "batch_size = 1\n",
    "n_iter = int(len(audio_files) / batch_size) # One iteration for each audio\n",
    "n_fft = 2048 \n",
    "hop_length = 512\n",
    "\n",
    "# Initiate processing pipeline\n",
    "pipe = Pipeline(batch_size=batch_size,\n",
    "                num_threads=15,\n",
    "                device_id=0,\n",
    "                enable_memory_stats=True,\n",
    "                exec_pipelined=False,\n",
    "                exec_async=False,\n",
    "                py_num_workers=15)\n",
    "\n",
    "# Actions to perform with pipeline \n",
    "with pipe:\n",
    "    encoded, _ = fn.readers.file(files=audio_files) # Read .wav\n",
    "    audio, sr = fn.decoders.audio(encoded, dtype=types.FLOAT) # Decode .wav, get signal and sample rate\n",
    "    \n",
    "    # Get signal spectrogram\n",
    "    spectrogram = fn.spectrogram(audio.gpu(),\n",
    "                                 nfft=n_fft,\n",
    "                                 window_length=n_fft,\n",
    "                                 window_step=hop_length)\n",
    "    \n",
    "    # Get mel-power spectrogram features\n",
    "    mel_spectrogram = fn.mel_filter_bank(spectrogram.gpu(),\n",
    "                                         sample_rate=16000,\n",
    "                                         nfilter=128,\n",
    "                                         freq_high=8000.0,\n",
    "                                         bytes_per_sample_hint=128512)\n",
    "    \n",
    "    # Convert array spectrograms to decibels\n",
    "    mel_spectrogram_dB = fn.to_decibels(mel_spectrogram,\n",
    "                                        multiplier=10.0,\n",
    "                                        cutoff_db=-80,\n",
    "                                        bytes_per_sample_hint=128512)\n",
    "    \n",
    "    # Set outputs and reshape dimensions (1 row per label)\n",
    "    pipe.set_outputs(fn.reshape(mel_spectrogram_dB, shape=[1, 128*251])) \n",
    "\n",
    "pipe.build()"
   ]
  },
  {
   "cell_type": "code",
   "execution_count": null,
   "metadata": {
    "ExecuteTime": {
     "end_time": "2021-07-12T04:52:36.237436Z",
     "start_time": "2021-07-12T04:44:03.734997Z"
    },
    "id": "K1cFCYyz1JyD",
    "outputId": "02c69916-569a-493a-b6e1-2949feb5ca99",
    "scrolled": false
   },
   "outputs": [
    {
     "name": "stdout",
     "output_type": "stream",
     "text": [
      "Percent complete: 100.0 %  "
     ]
    }
   ],
   "source": [
    "# Iterate over length of number of audios per class to perform pipeline operations\n",
    "\n",
    "X_spec = []\n",
    "\n",
    "for i in range(n_iter):\n",
    "    pipe_out = pipe.run()\n",
    "    spec = cp.array(pipe_out[0][0])\n",
    "    X_spec.append(spec)\n",
    "\n",
    "    percent = i / len(train_OS) * 100\n",
    "    print(\"\", end=f\"\\rPercent complete: {round(percent, 2)} %  \")\n",
    "    \n",
    "X_v = cp.vstack(X_spec) # VStack arrays to match y shape"
   ]
  },
  {
   "cell_type": "code",
   "execution_count": null,
   "metadata": {
    "ExecuteTime": {
     "end_time": "2021-07-12T05:01:36.629763Z",
     "start_time": "2021-07-12T05:01:36.622830Z"
    },
    "id": "I03V6snk1JyE",
    "outputId": "a76a622b-84b1-462c-84f1-c4c474698e4c"
   },
   "outputs": [
    {
     "data": {
      "text/plain": [
       "(304675, 32128)"
      ]
     },
     "execution_count": 16,
     "metadata": {
      "tags": []
     },
     "output_type": "execute_result"
    }
   ],
   "source": [
    "X = cp.asnumpy(X_v)\n",
    "X.shape"
   ]
  },
  {
   "cell_type": "code",
   "execution_count": null,
   "metadata": {
    "ExecuteTime": {
     "end_time": "2021-07-12T05:04:19.562413Z",
     "start_time": "2021-07-12T05:04:19.555900Z"
    },
    "id": "0X05ENjk1JyF",
    "outputId": "5c4a92a8-b4f3-43fb-da71-5853c6e5617b"
   },
   "outputs": [
    {
     "data": {
      "text/plain": [
       "(304675, 1)"
      ]
     },
     "execution_count": 19,
     "metadata": {
      "tags": []
     },
     "output_type": "execute_result"
    }
   ],
   "source": [
    "del X_spec # Uses over 150 GB of RAM\n",
    "\n",
    "y = np.vstack(audio_labels) # VStack labels for matching X shapes\n",
    "y.shape"
   ]
  },
  {
   "cell_type": "code",
   "execution_count": null,
   "metadata": {
    "ExecuteTime": {
     "end_time": "2021-07-12T05:07:08.677416Z",
     "start_time": "2021-07-12T05:07:08.669470Z"
    },
    "id": "Fg3WLyZ71JyF"
   },
   "outputs": [],
   "source": [
    "np.save('X_specs', X)\n",
    "np.save('y_labels', y)"
   ]
  },
  {
   "cell_type": "code",
   "execution_count": null,
   "metadata": {
    "ExecuteTime": {
     "end_time": "2021-07-12T05:08:30.436480Z",
     "start_time": "2021-07-12T05:08:30.429387Z"
    },
    "id": "GwZVzkIW1JyF",
    "outputId": "9c5db39c-be37-4148-dff0-df8dcb3745d8"
   },
   "outputs": [
    {
     "name": "stdout",
     "output_type": "stream",
     "text": [
      "StratifiedKFold(n_splits=10, random_state=None, shuffle=False)\n"
     ]
    }
   ],
   "source": [
    "# Initiate stratified KFold train/test split \n",
    "\n",
    "skf = StratifiedKFold(n_splits=10)\n",
    "skf.get_n_splits(X, y)\n",
    "\n",
    "print(skf)"
   ]
  },
  {
   "cell_type": "code",
   "execution_count": null,
   "metadata": {
    "ExecuteTime": {
     "end_time": "2021-07-12T05:10:00.183225Z",
     "start_time": "2021-07-12T05:08:41.153342Z"
    },
    "id": "fstHfs1N1JyF",
    "outputId": "b280ee81-e1b2-4ac1-f017-35f370962de0"
   },
   "outputs": [
    {
     "name": "stdout",
     "output_type": "stream",
     "text": [
      "TRAIN: [ 16523  16524  16525 ... 304672 304673 304674] TEST: [    0     1     2 ... 70486 70496 70497]\n",
      "TRAIN: [     0      1      2 ... 304672 304673 304674] TEST: [ 16523  16524  16525 ... 141142 141143 141146]\n",
      "TRAIN: [     0      1      2 ... 304672 304673 304674] TEST: [ 33210  33211  33212 ... 159359 159360 159362]\n",
      "TRAIN: [     0      1      2 ... 304672 304673 304674] TEST: [ 49726  49731  49733 ... 177575 177576 177577]\n",
      "TRAIN: [     0      1      2 ... 304672 304673 304674] TEST: [ 66228  66229  66230 ... 195792 195793 203978]\n",
      "TRAIN: [     0      1      2 ... 304672 304673 304674] TEST: [ 82806  82807  82808 ... 214008 214009 222194]\n",
      "TRAIN: [     0      1      2 ... 304672 304673 304674] TEST: [ 99237  99238  99239 ... 232224 232225 240410]\n",
      "TRAIN: [     0      1      2 ... 304672 304673 304674] TEST: [115640 115641 115642 ... 250440 250441 266809]\n",
      "TRAIN: [     0      1      2 ... 304672 304673 304674] TEST: [132178 132179 132180 ... 292421 292422 292423]\n",
      "TRAIN: [     0      1      2 ... 292421 292422 292423] TEST: [258625 258626 258627 ... 304672 304673 304674]\n"
     ]
    }
   ],
   "source": [
    "# Splitting X and y -> X_train, y_train, X_test, y_test (80/20)\n",
    "\n",
    "for train_index, test_index in skf.split(X, y):\n",
    "    print(\"TRAIN:\", train_index, \"TEST:\", test_index)\n",
    "    X_train, X_test = X[train_index], X[test_index]\n",
    "    y_train, y_test = y[train_index], y[test_index]\n",
    "    \n",
    "print(X_train.shape, X_test.shape, y_train.shape, y_test.shape)"
   ]
  },
  {
   "cell_type": "code",
   "execution_count": null,
   "metadata": {
    "ExecuteTime": {
     "end_time": "2021-07-12T05:16:12.320493Z",
     "start_time": "2021-07-12T05:15:45.909038Z"
    },
    "id": "TfaVEVju1JyG"
   },
   "outputs": [],
   "source": [
    "np.save('X_train', X_train)\n",
    "np.save('y_train', y_train)\n",
    "np.save('X_test', X_test)\n",
    "np.save('y_test', y_test)"
   ]
  },
  {
   "cell_type": "code",
   "execution_count": null,
   "metadata": {
    "ExecuteTime": {
     "end_time": "2021-07-12T05:20:17.953071Z",
     "start_time": "2021-07-12T05:20:17.949337Z"
    },
    "id": "CvLLwxt71JyG"
   },
   "outputs": [],
   "source": [
    "# Clean and free RAM\n",
    "\n",
    "del X_v\n",
    "del X\n",
    "\n",
    "del mel_spectrogram\n",
    "del mel_spectrogram_dB\n",
    "\n",
    "del spectrogram\n",
    "del pipe\n",
    "del pipe_out"
   ]
  },
  {
   "cell_type": "code",
   "execution_count": null,
   "metadata": {
    "ExecuteTime": {
     "end_time": "2021-07-16T10:07:20.607226Z",
     "start_time": "2021-07-16T10:07:20.603645Z"
    },
    "id": "mZSbXu2l1JyG"
   },
   "outputs": [],
   "source": [
    "X_train = np.load('X_train.npy')\n",
    "y_train = np.load('y_train.npy')\n",
    "X_test = np.load('X_test.npy')\n",
    "y_test = np.load('y_test.npy')"
   ]
  },
  {
   "cell_type": "code",
   "execution_count": null,
   "metadata": {
    "ExecuteTime": {
     "end_time": "2021-07-13T03:58:35.641103Z",
     "start_time": "2021-07-13T03:58:21.070733Z"
    },
    "id": "XA4tCVNs1JyH",
    "outputId": "930fca49-2328-4908-87b5-cd094ce85eb5"
   },
   "outputs": [
    {
     "data": {
      "text/plain": [
       "MinMaxScaler()"
      ]
     },
     "execution_count": 6,
     "metadata": {
      "tags": []
     },
     "output_type": "execute_result"
    }
   ],
   "source": [
    "# Scale features\n",
    "\n",
    "scaler = MinMaxScaler(feature_range=(0,1))\n",
    "scaler.fit(X_train)"
   ]
  },
  {
   "cell_type": "code",
   "execution_count": null,
   "metadata": {
    "ExecuteTime": {
     "end_time": "2021-07-13T03:58:51.724875Z",
     "start_time": "2021-07-13T03:58:51.719092Z"
    },
    "id": "REcOoGza1JyH",
    "outputId": "4ef955b1-9df4-4cda-8c7e-f1e0fa846b76"
   },
   "outputs": [
    {
     "name": "stdout",
     "output_type": "stream",
     "text": [
      "(274208, 32128) (30467, 32128) (274208,) (30467, 1)\n"
     ]
    }
   ],
   "source": [
    "# Apply scale\n",
    "\n",
    "X_train = scaler.transform(X_train)\n",
    "X_test = scaler.transform(X_test)\n",
    "y_train = np.ravel(y_train)\n",
    "\n",
    "print(X_train.shape, X_test.shape, y_train.shape, y_test.shape)"
   ]
  },
  {
   "cell_type": "code",
   "execution_count": null,
   "metadata": {
    "ExecuteTime": {
     "start_time": "2021-07-13T03:59:05.833Z"
    },
    "id": "h357JOrl1JyH"
   },
   "outputs": [],
   "source": [
    "# Reduce dimensionality of features\n",
    "\n",
    "pca = PCA(.95)\n",
    "pca.fit(X_train)"
   ]
  },
  {
   "cell_type": "code",
   "execution_count": null,
   "metadata": {
    "ExecuteTime": {
     "end_time": "2021-07-12T14:22:34.965635Z",
     "start_time": "2021-07-12T14:22:24.275236Z"
    },
    "id": "evbFJSW71JyH"
   },
   "outputs": [],
   "source": [
    "# Apply PCA reduction\n",
    "\n",
    "X_train = pca.transform(X_train)\n",
    "X_test = pca.transform(X_test)"
   ]
  },
  {
   "cell_type": "code",
   "execution_count": null,
   "metadata": {
    "ExecuteTime": {
     "end_time": "2021-07-12T14:27:10.409977Z",
     "start_time": "2021-07-12T14:27:10.402650Z"
    },
    "id": "L2ZsqamU1JyI",
    "outputId": "43a4d274-78a8-42c3-f0b4-b79295011d25"
   },
   "outputs": [
    {
     "name": "stdout",
     "output_type": "stream",
     "text": [
      "(274208, 742) (30467, 742) (274208,) (30467, 1)\n"
     ]
    }
   ],
   "source": [
    "print(X_train.shape, X_test.shape, y_train.shape, y_test.shape)"
   ]
  },
  {
   "cell_type": "code",
   "execution_count": null,
   "metadata": {
    "ExecuteTime": {
     "end_time": "2021-07-12T14:28:30.567589Z",
     "start_time": "2021-07-12T14:28:30.066191Z"
    },
    "id": "GPrwX1nS1JyI"
   },
   "outputs": [],
   "source": [
    "np.save('tX_train.npy', X_train)\n",
    "np.save('ty_train.npy', y_train)\n",
    "np.save('tX_test.npy', X_test)\n",
    "np.save('ty_test.npy', y_train)"
   ]
  },
  {
   "cell_type": "code",
   "execution_count": null,
   "metadata": {
    "ExecuteTime": {
     "end_time": "2021-07-27T21:44:03.701646Z",
     "start_time": "2021-07-27T21:44:03.469095Z"
    },
    "id": "7cMUK-Vw1JyI"
   },
   "outputs": [],
   "source": [
    "X_train = np.load('tX_train.npy')\n",
    "y_train = np.load('ty_train.npy')\n",
    "X_test = np.load('tX_test.npy')\n",
    "y_test = np.load('ty_test.npy')"
   ]
  },
  {
   "cell_type": "code",
   "execution_count": null,
   "metadata": {
    "ExecuteTime": {
     "end_time": "2021-07-27T05:32:57.314862Z",
     "start_time": "2021-07-27T05:32:57.306440Z"
    },
    "id": "vIYyGiDm1JyI",
    "outputId": "056f92a4-1477-496b-d931-8d9abc94fb5c"
   },
   "outputs": [
    {
     "name": "stdout",
     "output_type": "stream",
     "text": [
      "(274208, 742) (30467, 742) (274208,) (30467, 1)\n"
     ]
    }
   ],
   "source": [
    "print(X_train.shape, X_test.shape, y_train.shape, y_test.shape)"
   ]
  },
  {
   "cell_type": "code",
   "execution_count": null,
   "metadata": {
    "ExecuteTime": {
     "end_time": "2021-07-27T23:35:16.375235Z",
     "start_time": "2021-07-27T21:44:09.003483Z"
    },
    "id": "fOxf1Ae21JyJ",
    "outputId": "50586da9-afe3-49ac-e282-cb5b6d428b87"
   },
   "outputs": [
    {
     "name": "stdout",
     "output_type": "stream",
     "text": [
      "Fitting 5 folds for each of 8 candidates, totalling 40 fits\n",
      "[CV 1/5] END ...............C=0.001, penalty=l2;, score=0.540 total time=  12.9s\n",
      "[CV 2/5] END ...............C=0.001, penalty=l2;, score=0.706 total time=  12.2s\n",
      "[CV 3/5] END ...............C=0.001, penalty=l2;, score=0.673 total time=  11.5s\n",
      "[CV 4/5] END ...............C=0.001, penalty=l2;, score=0.743 total time=  11.6s\n",
      "[CV 5/5] END ...............C=0.001, penalty=l2;, score=0.757 total time=  13.1s\n",
      "[CV 1/5] END ...............C=0.009, penalty=l2;, score=0.538 total time=  22.0s\n",
      "[CV 2/5] END ...............C=0.009, penalty=l2;, score=0.707 total time=  22.0s\n",
      "[CV 3/5] END ...............C=0.009, penalty=l2;, score=0.675 total time=  21.3s\n",
      "[CV 4/5] END ...............C=0.009, penalty=l2;, score=0.743 total time=  22.9s\n",
      "[CV 5/5] END ...............C=0.009, penalty=l2;, score=0.758 total time=  26.7s\n",
      "[CV 1/5] END ................C=0.01, penalty=l2;, score=0.538 total time=  26.0s\n",
      "[CV 2/5] END ................C=0.01, penalty=l2;, score=0.707 total time=  21.6s\n",
      "[CV 3/5] END ................C=0.01, penalty=l2;, score=0.676 total time=  21.0s\n",
      "[CV 4/5] END ................C=0.01, penalty=l2;, score=0.743 total time=  21.8s\n",
      "[CV 5/5] END ................C=0.01, penalty=l2;, score=0.758 total time=  28.8s\n",
      "[CV 1/5] END ................C=0.09, penalty=l2;, score=0.538 total time=  43.0s\n",
      "[CV 2/5] END ................C=0.09, penalty=l2;, score=0.707 total time=  48.1s\n",
      "[CV 3/5] END ................C=0.09, penalty=l2;, score=0.676 total time=  53.0s\n",
      "[CV 4/5] END ................C=0.09, penalty=l2;, score=0.743 total time=  41.5s\n",
      "[CV 5/5] END ................C=0.09, penalty=l2;, score=0.758 total time= 1.0min\n",
      "[CV 1/5] END ...................C=1, penalty=l2;, score=0.538 total time= 1.2min\n",
      "[CV 2/5] END ...................C=1, penalty=l2;, score=0.707 total time=  51.1s\n",
      "[CV 3/5] END ...................C=1, penalty=l2;, score=0.676 total time= 1.1min\n",
      "[CV 4/5] END ...................C=1, penalty=l2;, score=0.742 total time= 1.0min\n",
      "[CV 5/5] END ...................C=1, penalty=l2;, score=0.758 total time= 1.2min\n",
      "[CV 1/5] END ...................C=5, penalty=l2;, score=0.538 total time= 1.4min\n",
      "[CV 2/5] END ...................C=5, penalty=l2;, score=0.707 total time= 1.5min\n",
      "[CV 3/5] END ...................C=5, penalty=l2;, score=0.676 total time= 1.1min\n",
      "[CV 4/5] END ...................C=5, penalty=l2;, score=0.742 total time=  54.0s\n",
      "[CV 5/5] END ...................C=5, penalty=l2;, score=0.758 total time= 1.8min\n"
     ]
    },
    {
     "name": "stderr",
     "output_type": "stream",
     "text": [
      "/home/ubuntu/anaconda3/envs/rapids-21.06/lib/python3.8/site-packages/daal4py/sklearn/linear_model/logistic_path.py:432: ConvergenceWarning: lbfgs failed to converge (status=1):\n",
      "STOP: TOTAL NO. of ITERATIONS REACHED LIMIT.\n",
      "\n",
      "Increase the number of iterations (max_iter) or scale the data as shown in:\n",
      "    https://scikit-learn.org/stable/modules/preprocessing.html\n",
      "Please also refer to the documentation for alternative solver options:\n",
      "    https://scikit-learn.org/stable/modules/linear_model.html#logistic-regression\n",
      "  n_iter_i = _check_optimize_result(\n"
     ]
    },
    {
     "name": "stdout",
     "output_type": "stream",
     "text": [
      "[CV 1/5] END ..................C=10, penalty=l2;, score=0.538 total time= 1.9min\n"
     ]
    },
    {
     "name": "stderr",
     "output_type": "stream",
     "text": [
      "/home/ubuntu/anaconda3/envs/rapids-21.06/lib/python3.8/site-packages/daal4py/sklearn/linear_model/logistic_path.py:432: ConvergenceWarning: lbfgs failed to converge (status=1):\n",
      "STOP: TOTAL NO. of ITERATIONS REACHED LIMIT.\n",
      "\n",
      "Increase the number of iterations (max_iter) or scale the data as shown in:\n",
      "    https://scikit-learn.org/stable/modules/preprocessing.html\n",
      "Please also refer to the documentation for alternative solver options:\n",
      "    https://scikit-learn.org/stable/modules/linear_model.html#logistic-regression\n",
      "  n_iter_i = _check_optimize_result(\n"
     ]
    },
    {
     "name": "stdout",
     "output_type": "stream",
     "text": [
      "[CV 2/5] END ..................C=10, penalty=l2;, score=0.707 total time= 2.0min\n",
      "[CV 3/5] END ..................C=10, penalty=l2;, score=0.676 total time= 1.6min\n",
      "[CV 4/5] END ..................C=10, penalty=l2;, score=0.742 total time= 1.0min\n",
      "[CV 5/5] END ..................C=10, penalty=l2;, score=0.758 total time= 1.8min\n",
      "[CV 1/5] END ..................C=25, penalty=l2;, score=0.538 total time= 1.5min\n",
      "[CV 2/5] END ..................C=25, penalty=l2;, score=0.707 total time= 1.0min\n",
      "[CV 3/5] END ..................C=25, penalty=l2;, score=0.676 total time= 1.4min\n",
      "[CV 4/5] END ..................C=25, penalty=l2;, score=0.742 total time=  57.8s\n",
      "[CV 5/5] END ..................C=25, penalty=l2;, score=0.758 total time= 1.8min\n",
      "Fitting 5 folds for each of 4 candidates, totalling 20 fits\n",
      "[CV 1/5] END ......C=10, gamma=0.01, kernel=rbf;, score=0.680 total time= 1.4min\n",
      "[CV 2/5] END ......C=10, gamma=0.01, kernel=rbf;, score=0.738 total time= 1.4min\n",
      "[CV 3/5] END ......C=10, gamma=0.01, kernel=rbf;, score=0.674 total time= 1.3min\n",
      "[CV 4/5] END ......C=10, gamma=0.01, kernel=rbf;, score=0.641 total time= 1.4min\n",
      "[CV 5/5] END ......C=10, gamma=0.01, kernel=rbf;, score=0.748 total time= 1.4min\n",
      "[CV 1/5] END .....C=10, gamma=0.001, kernel=rbf;, score=0.601 total time= 2.7min\n",
      "[CV 2/5] END .....C=10, gamma=0.001, kernel=rbf;, score=0.803 total time= 3.5min\n",
      "[CV 3/5] END .....C=10, gamma=0.001, kernel=rbf;, score=0.719 total time= 3.5min\n",
      "[CV 4/5] END .....C=10, gamma=0.001, kernel=rbf;, score=0.667 total time= 3.5min\n",
      "[CV 5/5] END .....C=10, gamma=0.001, kernel=rbf;, score=0.769 total time= 3.4min\n",
      "[CV 1/5] END .....C=100, gamma=0.01, kernel=rbf;, score=0.680 total time= 1.4min\n",
      "[CV 2/5] END .....C=100, gamma=0.01, kernel=rbf;, score=0.737 total time= 1.4min\n",
      "[CV 3/5] END .....C=100, gamma=0.01, kernel=rbf;, score=0.673 total time= 1.4min\n",
      "[CV 4/5] END .....C=100, gamma=0.01, kernel=rbf;, score=0.641 total time= 1.4min\n",
      "[CV 5/5] END .....C=100, gamma=0.01, kernel=rbf;, score=0.748 total time= 1.4min\n",
      "[CV 1/5] END ....C=100, gamma=0.001, kernel=rbf;, score=0.658 total time= 5.2min\n",
      "[CV 2/5] END ....C=100, gamma=0.001, kernel=rbf;, score=0.811 total time= 7.0min\n",
      "[CV 3/5] END ....C=100, gamma=0.001, kernel=rbf;, score=0.752 total time= 6.6min\n",
      "[CV 4/5] END ....C=100, gamma=0.001, kernel=rbf;, score=0.669 total time= 6.8min\n",
      "[CV 5/5] END ....C=100, gamma=0.001, kernel=rbf;, score=0.778 total time= 6.7min\n"
     ]
    }
   ],
   "source": [
    "# SVC and LOG Gridsearch Pipeline \n",
    "\n",
    "logr_params = {\n",
    "    'penalty': ['l2'],\n",
    "    'C':[0.001,.009,0.01,.09,1,5,10,25]\n",
    "}\n",
    "cumlSVC_params = {\n",
    "    'C': [10, 100], \n",
    "    'gamma': [0.01, 0.001],\n",
    "    'kernel': ['rbf']\n",
    "}\n",
    "\n",
    "\n",
    "models = {\n",
    "    'LOGR':\n",
    "    GridSearchCV(LogisticRegression(multi_class='multinomial', max_iter=5000), \n",
    "                                    param_grid=logr_params, scoring= 'roc_auc_ovo_weighted', \n",
    "                                    verbose=3).fit(X_train, y_train).best_estimator_,\n",
    "    'cumlSVC':\n",
    "    GridSearchCV(cumlSVC(cache_size=8000, verbose=3), \n",
    "                         param_grid=cumlSVC_params, refit=True, \n",
    "                         verbose=3).fit(X_train, y_train).best_estimator_,\n",
    "}"
   ]
  },
  {
   "cell_type": "markdown",
   "metadata": {
    "id": "gYFB1S_C1JyJ"
   },
   "source": [
    "## Logistic Regression (Scikit-learn)\n",
    "\n",
    "**Parameters:**\n",
    "\n",
    "    - C: 0.09\n",
    "    - solver: lbfgs\n",
    "    - max_iter: 5000\n",
    "    - penalty: l2\n",
    "    - tol: 0.0001\n",
    "\n",
    "- **Best val-acurracy:** 0.43\n",
    "- **Best val-precision:** 0.43\n",
    "- **Best val-recall:** 0.43\n",
    "- **Best val-f1:** 0.42\n",
    "<br>\n",
    "\n",
    "- **Highest class precision:** 2 (bullish)\n",
    "- **Highest class recall:** 2 (bullish)\n",
    "- **Highest class f1:** 2 (bullish)"
   ]
  },
  {
   "cell_type": "code",
   "execution_count": null,
   "metadata": {
    "ExecuteTime": {
     "end_time": "2021-07-28T01:42:03.637964Z",
     "start_time": "2021-07-28T01:42:03.630367Z"
    },
    "id": "jlIiQLdp1JyJ",
    "outputId": "a2bca8ae-4874-44b0-a2b0-84ff28e1cb9a"
   },
   "outputs": [
    {
     "data": {
      "text/plain": [
       "{'C': 0.09,\n",
       " 'class_weight': None,\n",
       " 'dual': False,\n",
       " 'fit_intercept': True,\n",
       " 'intercept_scaling': 1,\n",
       " 'l1_ratio': None,\n",
       " 'max_iter': 5000,\n",
       " 'multi_class': 'multinomial',\n",
       " 'n_jobs': None,\n",
       " 'penalty': 'l2',\n",
       " 'random_state': None,\n",
       " 'solver': 'lbfgs',\n",
       " 'tol': 0.0001,\n",
       " 'verbose': 0,\n",
       " 'warm_start': False}"
      ]
     },
     "execution_count": 8,
     "metadata": {
      "tags": []
     },
     "output_type": "execute_result"
    }
   ],
   "source": [
    "models['LOGR'].get_params()"
   ]
  },
  {
   "cell_type": "code",
   "execution_count": null,
   "metadata": {
    "ExecuteTime": {
     "end_time": "2021-07-28T01:41:24.438909Z",
     "start_time": "2021-07-28T01:41:24.408185Z"
    },
    "id": "-GpzNc5O1JyJ"
   },
   "outputs": [],
   "source": [
    "logr_pred = models['LOGR'].predict(X_test)"
   ]
  },
  {
   "cell_type": "code",
   "execution_count": null,
   "metadata": {
    "ExecuteTime": {
     "end_time": "2021-07-28T01:42:45.909704Z",
     "start_time": "2021-07-28T01:42:45.871476Z"
    },
    "id": "rqjcVkJD1JyJ",
    "outputId": "f7945a8c-7149-4fec-fa2e-785d54920c1c"
   },
   "outputs": [
    {
     "name": "stdout",
     "output_type": "stream",
     "text": [
      "              precision    recall  f1-score   support\n",
      "\n",
      "           0       0.40      0.27      0.32      8184\n",
      "           1       0.38      0.45      0.41     10032\n",
      "           2       0.48      0.51      0.50     12251\n",
      "\n",
      "    accuracy                           0.43     30467\n",
      "   macro avg       0.42      0.41      0.41     30467\n",
      "weighted avg       0.43      0.43      0.42     30467\n",
      "\n"
     ]
    }
   ],
   "source": [
    "print(classification_report(y_test, logr_pred))"
   ]
  },
  {
   "cell_type": "markdown",
   "metadata": {
    "id": "sHbKGjI31JyK"
   },
   "source": [
    "## Accelerated SVC (RAPIDS - cuML)\n",
    "\n",
    "**Parameters:**\n",
    "\n",
    "    - C: 100\n",
    "    - kernel: rbf\n",
    "    - degree: 3\n",
    "    - gamma: 0.001\n",
    "    - multiclass_strategy: ovo\n",
    "\n",
    "- **Best val-acurracy:** 0.92\n",
    "- **Best val-precision:** 0.92\n",
    "- **Best val-recall:** 0.92\n",
    "- **Best val-f1:** 0.92\n",
    "<br>\n",
    "\n",
    "- **Highest class precision:** 0 (neutral)\n",
    "- **Highest class recall:** 0 (neutral)\n",
    "- **Highest class f1:** 0 (neutral)"
   ]
  },
  {
   "cell_type": "code",
   "execution_count": null,
   "metadata": {
    "ExecuteTime": {
     "end_time": "2021-07-28T01:43:25.986846Z",
     "start_time": "2021-07-28T01:43:21.300177Z"
    },
    "id": "lnVcyWzo1JyK"
   },
   "outputs": [],
   "source": [
    "cumlSVC_pred = models['cumlSVC'].predict(X_test)"
   ]
  },
  {
   "cell_type": "code",
   "execution_count": null,
   "metadata": {
    "ExecuteTime": {
     "end_time": "2021-07-28T01:44:24.872806Z",
     "start_time": "2021-07-28T01:44:24.866362Z"
    },
    "id": "vj2uB1Vw1JyK",
    "outputId": "5c10fe65-94de-49d5-bd2b-1270e7f04091"
   },
   "outputs": [
    {
     "data": {
      "text/plain": [
       "{'handle': <cuml.raft.common.handle.Handle at 0x7f84d10f30b0>,\n",
       " 'verbose': 3,\n",
       " 'output_type': 'input',\n",
       " 'C': 100,\n",
       " 'kernel': 'rbf',\n",
       " 'degree': 3,\n",
       " 'gamma': 0.001,\n",
       " 'coef0': 0.0,\n",
       " 'tol': 0.001,\n",
       " 'cache_size': 8000,\n",
       " 'max_iter': -1,\n",
       " 'nochange_steps': 1000,\n",
       " 'probability': False,\n",
       " 'random_state': None,\n",
       " 'class_weight': None,\n",
       " 'multiclass_strategy': 'ovo'}"
      ]
     },
     "execution_count": 12,
     "metadata": {
      "tags": []
     },
     "output_type": "execute_result"
    }
   ],
   "source": [
    "models['cumlSVC'].get_params()"
   ]
  },
  {
   "cell_type": "code",
   "execution_count": null,
   "metadata": {
    "ExecuteTime": {
     "end_time": "2021-07-28T01:43:45.462607Z",
     "start_time": "2021-07-28T01:43:45.435426Z"
    },
    "id": "QSUE5_mP1JyK",
    "outputId": "bc42cc44-cc6f-4b54-fd4a-a9a3035f1af9"
   },
   "outputs": [
    {
     "name": "stdout",
     "output_type": "stream",
     "text": [
      "              precision    recall  f1-score   support\n",
      "\n",
      "           0       0.94      0.95      0.94      8184\n",
      "           1       0.90      0.93      0.91     10032\n",
      "           2       0.92      0.89      0.90     12251\n",
      "\n",
      "    accuracy                           0.92     30467\n",
      "   macro avg       0.92      0.92      0.92     30467\n",
      "weighted avg       0.92      0.92      0.92     30467\n",
      "\n"
     ]
    }
   ],
   "source": [
    "print(classification_report(y_test, cumlSVC_pred))"
   ]
  },
  {
   "cell_type": "markdown",
   "metadata": {
    "id": "JtDuWQlE1JyL"
   },
   "source": [
    "## Non-accelerated SVC (Scikit-learn)\n",
    "\n",
    "Same parameters as RAPIDS accelerated SVC\n",
    "\n",
    "- **Best val-acurracy:** 0.91\n",
    "- **Best val-precision:** 0.91\n",
    "- **Best val-recall:** 0.91\n",
    "- **Best val-f1:** 0.91\n",
    "<br>\n",
    "\n",
    "- **Highest class precision:** 0 (neutral) and 2 (bullish)\n",
    "- **Highest class recall:** 0 (neutral)\n",
    "- **Highest class f1:** 0 (neutral)"
   ]
  },
  {
   "cell_type": "code",
   "execution_count": null,
   "metadata": {
    "ExecuteTime": {
     "end_time": "2021-07-12T23:43:16.658579Z",
     "start_time": "2021-07-12T14:35:14.169956Z"
    },
    "id": "6KgOO5Os1JyL",
    "outputId": "8ff6ab23-b567-4f1a-8ece-d4d2abe97bca",
    "scrolled": true
   },
   "outputs": [
    {
     "name": "stdout",
     "output_type": "stream",
     "text": [
      "Fitting 5 folds for each of 25 candidates, totalling 125 fits\n",
      "[CV 1/5] END ........C=0.1, gamma=1, kernel=rbf;, score=0.402 total time=  45.1s\n",
      "[CV 2/5] END ........C=0.1, gamma=1, kernel=rbf;, score=0.402 total time=  45.4s\n",
      "[CV 3/5] END ........C=0.1, gamma=1, kernel=rbf;, score=0.402 total time=  44.9s\n",
      "[CV 4/5] END ........C=0.1, gamma=1, kernel=rbf;, score=0.401 total time=  44.5s\n",
      "[CV 5/5] END ........C=0.1, gamma=1, kernel=rbf;, score=0.401 total time=  44.7s\n",
      "[CV 1/5] END ......C=0.1, gamma=0.1, kernel=rbf;, score=0.289 total time=  25.7s\n",
      "[CV 2/5] END ......C=0.1, gamma=0.1, kernel=rbf;, score=0.335 total time=  10.2s\n",
      "[CV 3/5] END ......C=0.1, gamma=0.1, kernel=rbf;, score=0.442 total time=  21.4s\n",
      "[CV 4/5] END ......C=0.1, gamma=0.1, kernel=rbf;, score=0.434 total time=  24.4s\n",
      "[CV 5/5] END ......C=0.1, gamma=0.1, kernel=rbf;, score=0.485 total time=  24.9s\n",
      "[CV 1/5] END .....C=0.1, gamma=0.01, kernel=rbf;, score=0.425 total time=  17.0s\n",
      "[CV 2/5] END .....C=0.1, gamma=0.01, kernel=rbf;, score=0.403 total time=  18.1s\n",
      "[CV 3/5] END .....C=0.1, gamma=0.01, kernel=rbf;, score=0.455 total time=  21.0s\n",
      "[CV 4/5] END .....C=0.1, gamma=0.01, kernel=rbf;, score=0.373 total time=  22.6s\n",
      "[CV 5/5] END .....C=0.1, gamma=0.01, kernel=rbf;, score=0.483 total time=  18.7s\n",
      "[CV 1/5] END ....C=0.1, gamma=0.001, kernel=rbf;, score=0.414 total time= 1.2min\n",
      "[CV 2/5] END ....C=0.1, gamma=0.001, kernel=rbf;, score=0.539 total time= 1.3min\n",
      "[CV 3/5] END ....C=0.1, gamma=0.001, kernel=rbf;, score=0.537 total time= 1.3min\n",
      "[CV 4/5] END ....C=0.1, gamma=0.001, kernel=rbf;, score=0.628 total time= 1.4min\n",
      "[CV 5/5] END ....C=0.1, gamma=0.001, kernel=rbf;, score=0.568 total time= 1.3min\n",
      "[CV 1/5] END ...C=0.1, gamma=0.0001, kernel=rbf;, score=0.408 total time= 1.2min\n",
      "[CV 2/5] END ...C=0.1, gamma=0.0001, kernel=rbf;, score=0.482 total time= 1.2min\n",
      "[CV 3/5] END ...C=0.1, gamma=0.0001, kernel=rbf;, score=0.499 total time= 1.2min\n",
      "[CV 4/5] END ...C=0.1, gamma=0.0001, kernel=rbf;, score=0.615 total time= 1.3min\n",
      "[CV 5/5] END ...C=0.1, gamma=0.0001, kernel=rbf;, score=0.546 total time= 1.2min\n",
      "[CV 1/5] END ..........C=1, gamma=1, kernel=rbf;, score=0.489 total time= 2.8min\n",
      "[CV 2/5] END ..........C=1, gamma=1, kernel=rbf;, score=0.429 total time= 3.0min\n",
      "[CV 3/5] END ..........C=1, gamma=1, kernel=rbf;, score=0.482 total time= 2.5min\n",
      "[CV 4/5] END ..........C=1, gamma=1, kernel=rbf;, score=0.451 total time= 3.1min\n",
      "[CV 5/5] END ..........C=1, gamma=1, kernel=rbf;, score=0.449 total time= 3.0min\n",
      "[CV 1/5] END ........C=1, gamma=0.1, kernel=rbf;, score=0.298 total time=  14.0s\n",
      "[CV 2/5] END ........C=1, gamma=0.1, kernel=rbf;, score=0.299 total time=  17.4s\n",
      "[CV 3/5] END ........C=1, gamma=0.1, kernel=rbf;, score=0.296 total time=  15.8s\n",
      "[CV 4/5] END ........C=1, gamma=0.1, kernel=rbf;, score=0.300 total time=  16.6s\n",
      "[CV 5/5] END ........C=1, gamma=0.1, kernel=rbf;, score=0.298 total time=  15.8s\n",
      "[CV 1/5] END .......C=1, gamma=0.01, kernel=rbf;, score=0.632 total time= 2.8min\n",
      "[CV 2/5] END .......C=1, gamma=0.01, kernel=rbf;, score=0.709 total time= 2.9min\n",
      "[CV 3/5] END .......C=1, gamma=0.01, kernel=rbf;, score=0.641 total time= 2.9min\n",
      "[CV 4/5] END .......C=1, gamma=0.01, kernel=rbf;, score=0.628 total time= 2.9min\n",
      "[CV 5/5] END .......C=1, gamma=0.01, kernel=rbf;, score=0.726 total time= 2.9min\n",
      "[CV 1/5] END ......C=1, gamma=0.001, kernel=rbf;, score=0.446 total time= 1.8min\n",
      "[CV 2/5] END ......C=1, gamma=0.001, kernel=rbf;, score=0.672 total time= 2.1min\n",
      "[CV 3/5] END ......C=1, gamma=0.001, kernel=rbf;, score=0.613 total time= 2.1min\n",
      "[CV 4/5] END ......C=1, gamma=0.001, kernel=rbf;, score=0.653 total time= 2.0min\n",
      "[CV 5/5] END ......C=1, gamma=0.001, kernel=rbf;, score=0.665 total time= 2.0min\n",
      "[CV 1/5] END .....C=1, gamma=0.0001, kernel=rbf;, score=0.409 total time= 1.3min\n",
      "[CV 2/5] END .....C=1, gamma=0.0001, kernel=rbf;, score=0.527 total time= 1.5min\n",
      "[CV 3/5] END .....C=1, gamma=0.0001, kernel=rbf;, score=0.529 total time= 1.5min\n",
      "[CV 4/5] END .....C=1, gamma=0.0001, kernel=rbf;, score=0.630 total time= 1.5min\n",
      "[CV 5/5] END .....C=1, gamma=0.0001, kernel=rbf;, score=0.575 total time= 1.5min\n",
      "[CV 1/5] END .........C=10, gamma=1, kernel=rbf;, score=0.491 total time= 1.8min\n",
      "[CV 2/5] END .........C=10, gamma=1, kernel=rbf;, score=0.431 total time= 2.7min\n",
      "[CV 3/5] END .........C=10, gamma=1, kernel=rbf;, score=0.484 total time= 2.4min\n",
      "[CV 4/5] END .........C=10, gamma=1, kernel=rbf;, score=0.451 total time= 2.3min\n",
      "[CV 5/5] END .........C=10, gamma=1, kernel=rbf;, score=0.450 total time= 2.1min\n",
      "[CV 1/5] END .......C=10, gamma=0.1, kernel=rbf;, score=0.318 total time=  17.5s\n",
      "[CV 2/5] END .......C=10, gamma=0.1, kernel=rbf;, score=0.299 total time=  19.3s\n",
      "[CV 3/5] END .......C=10, gamma=0.1, kernel=rbf;, score=0.300 total time=  17.6s\n",
      "[CV 4/5] END .......C=10, gamma=0.1, kernel=rbf;, score=0.303 total time=  18.4s\n",
      "[CV 5/5] END .......C=10, gamma=0.1, kernel=rbf;, score=0.297 total time=  11.9s\n",
      "[CV 1/5] END ......C=10, gamma=0.01, kernel=rbf;, score=0.680 total time= 3.7min\n",
      "[CV 2/5] END ......C=10, gamma=0.01, kernel=rbf;, score=0.738 total time= 3.7min\n",
      "[CV 3/5] END ......C=10, gamma=0.01, kernel=rbf;, score=0.674 total time= 3.6min\n",
      "[CV 4/5] END ......C=10, gamma=0.01, kernel=rbf;, score=0.641 total time= 3.7min\n",
      "[CV 5/5] END ......C=10, gamma=0.01, kernel=rbf;, score=0.748 total time= 3.7min\n",
      "[CV 1/5] END .....C=10, gamma=0.001, kernel=rbf;, score=0.600 total time= 5.9min\n",
      "[CV 2/5] END .....C=10, gamma=0.001, kernel=rbf;, score=0.801 total time= 7.2min\n",
      "[CV 3/5] END .....C=10, gamma=0.001, kernel=rbf;, score=0.718 total time= 7.1min\n",
      "[CV 4/5] END .....C=10, gamma=0.001, kernel=rbf;, score=0.665 total time= 7.0min\n",
      "[CV 5/5] END .....C=10, gamma=0.001, kernel=rbf;, score=0.767 total time= 7.0min\n",
      "[CV 1/5] END ....C=10, gamma=0.0001, kernel=rbf;, score=0.417 total time= 1.7min\n",
      "[CV 2/5] END ....C=10, gamma=0.0001, kernel=rbf;, score=0.590 total time= 1.9min\n",
      "[CV 3/5] END ....C=10, gamma=0.0001, kernel=rbf;, score=0.564 total time= 1.9min\n",
      "[CV 4/5] END ....C=10, gamma=0.0001, kernel=rbf;, score=0.637 total time= 1.9min\n",
      "[CV 5/5] END ....C=10, gamma=0.0001, kernel=rbf;, score=0.602 total time= 1.9min\n",
      "[CV 1/5] END ........C=100, gamma=1, kernel=rbf;, score=0.492 total time= 2.3min\n",
      "[CV 2/5] END ........C=100, gamma=1, kernel=rbf;, score=0.431 total time= 3.4min\n",
      "[CV 3/5] END ........C=100, gamma=1, kernel=rbf;, score=0.484 total time= 2.3min\n",
      "[CV 4/5] END ........C=100, gamma=1, kernel=rbf;, score=0.451 total time= 2.2min\n",
      "[CV 5/5] END ........C=100, gamma=1, kernel=rbf;, score=0.450 total time= 2.8min\n",
      "[CV 1/5] END ......C=100, gamma=0.1, kernel=rbf;, score=0.315 total time=  18.8s\n",
      "[CV 2/5] END ......C=100, gamma=0.1, kernel=rbf;, score=0.300 total time=  20.3s\n",
      "[CV 3/5] END ......C=100, gamma=0.1, kernel=rbf;, score=0.301 total time=  17.2s\n",
      "[CV 4/5] END ......C=100, gamma=0.1, kernel=rbf;, score=0.304 total time=  18.7s\n",
      "[CV 5/5] END ......C=100, gamma=0.1, kernel=rbf;, score=0.302 total time=  14.4s\n",
      "[CV 1/5] END .....C=100, gamma=0.01, kernel=rbf;, score=0.680 total time= 3.7min\n",
      "[CV 2/5] END .....C=100, gamma=0.01, kernel=rbf;, score=0.737 total time= 3.8min\n",
      "[CV 3/5] END .....C=100, gamma=0.01, kernel=rbf;, score=0.673 total time= 3.7min\n",
      "[CV 4/5] END .....C=100, gamma=0.01, kernel=rbf;, score=0.641 total time= 3.6min\n",
      "[CV 5/5] END .....C=100, gamma=0.01, kernel=rbf;, score=0.747 total time= 3.8min\n",
      "[CV 1/5] END ....C=100, gamma=0.001, kernel=rbf;, score=0.657 total time= 9.9min\n",
      "[CV 2/5] END ....C=100, gamma=0.001, kernel=rbf;, score=0.808 total time=12.5min\n",
      "[CV 3/5] END ....C=100, gamma=0.001, kernel=rbf;, score=0.748 total time=11.9min\n",
      "[CV 4/5] END ....C=100, gamma=0.001, kernel=rbf;, score=0.667 total time=12.3min\n",
      "[CV 5/5] END ....C=100, gamma=0.001, kernel=rbf;, score=0.774 total time=12.2min\n",
      "[CV 1/5] END ...C=100, gamma=0.0001, kernel=rbf;, score=0.434 total time= 5.9min\n",
      "[CV 2/5] END ...C=100, gamma=0.0001, kernel=rbf;, score=0.524 total time= 6.8min\n",
      "[CV 3/5] END ...C=100, gamma=0.0001, kernel=rbf;, score=0.501 total time= 6.8min\n",
      "[CV 4/5] END ...C=100, gamma=0.0001, kernel=rbf;, score=0.515 total time= 6.6min\n",
      "[CV 5/5] END ...C=100, gamma=0.0001, kernel=rbf;, score=0.521 total time= 6.6min\n",
      "[CV 1/5] END .......C=1000, gamma=1, kernel=rbf;, score=0.491 total time= 1.9min\n"
     ]
    },
    {
     "name": "stdout",
     "output_type": "stream",
     "text": [
      "[CV 2/5] END .......C=1000, gamma=1, kernel=rbf;, score=0.431 total time= 2.9min\n",
      "[CV 3/5] END .......C=1000, gamma=1, kernel=rbf;, score=0.484 total time= 2.3min\n",
      "[CV 4/5] END .......C=1000, gamma=1, kernel=rbf;, score=0.451 total time= 2.6min\n",
      "[CV 5/5] END .......C=1000, gamma=1, kernel=rbf;, score=0.450 total time= 2.3min\n",
      "[CV 1/5] END .....C=1000, gamma=0.1, kernel=rbf;, score=0.304 total time=  13.4s\n",
      "[CV 2/5] END .....C=1000, gamma=0.1, kernel=rbf;, score=0.300 total time=  19.5s\n",
      "[CV 3/5] END .....C=1000, gamma=0.1, kernel=rbf;, score=0.300 total time=  17.5s\n",
      "[CV 4/5] END .....C=1000, gamma=0.1, kernel=rbf;, score=0.301 total time=  21.2s\n",
      "[CV 5/5] END .....C=1000, gamma=0.1, kernel=rbf;, score=0.306 total time=  20.8s\n",
      "[CV 1/5] END ....C=1000, gamma=0.01, kernel=rbf;, score=0.680 total time= 3.7min\n",
      "[CV 2/5] END ....C=1000, gamma=0.01, kernel=rbf;, score=0.737 total time= 3.8min\n",
      "[CV 3/5] END ....C=1000, gamma=0.01, kernel=rbf;, score=0.673 total time= 3.8min\n",
      "[CV 4/5] END ....C=1000, gamma=0.01, kernel=rbf;, score=0.641 total time= 3.7min\n",
      "[CV 5/5] END ....C=1000, gamma=0.01, kernel=rbf;, score=0.747 total time= 3.8min\n",
      "[CV 1/5] END ...C=1000, gamma=0.001, kernel=rbf;, score=0.656 total time=11.6min\n",
      "[CV 2/5] END ...C=1000, gamma=0.001, kernel=rbf;, score=0.789 total time=15.1min\n",
      "[CV 3/5] END ...C=1000, gamma=0.001, kernel=rbf;, score=0.740 total time=13.9min\n",
      "[CV 4/5] END ...C=1000, gamma=0.001, kernel=rbf;, score=0.651 total time=14.7min\n",
      "[CV 5/5] END ...C=1000, gamma=0.001, kernel=rbf;, score=0.760 total time=14.9min\n",
      "[CV 1/5] END ..C=1000, gamma=0.0001, kernel=rbf;, score=0.364 total time=31.3min\n",
      "[CV 2/5] END ..C=1000, gamma=0.0001, kernel=rbf;, score=0.370 total time=25.8min\n",
      "[CV 3/5] END ..C=1000, gamma=0.0001, kernel=rbf;, score=0.370 total time=35.3min\n",
      "[CV 4/5] END ..C=1000, gamma=0.0001, kernel=rbf;, score=0.393 total time=33.0min\n",
      "[CV 5/5] END ..C=1000, gamma=0.0001, kernel=rbf;, score=0.392 total time=34.0min\n"
     ]
    },
    {
     "data": {
      "text/plain": [
       "GridSearchCV(estimator=SVC(),\n",
       "             param_grid={'C': [0.1, 1, 10, 100, 1000],\n",
       "                         'gamma': [1, 0.1, 0.01, 0.001, 0.0001],\n",
       "                         'kernel': ['rbf']},\n",
       "             verbose=3)"
      ]
     },
     "execution_count": 22,
     "metadata": {
      "tags": []
     },
     "output_type": "execute_result"
    }
   ],
   "source": [
    "skSVC_grid = GridSearchCV(SVC(), param_grid=skSVC_params, refit = True, verbose = 3)\n",
    "skSVC_grid.fit(X_train, y_train)"
   ]
  },
  {
   "cell_type": "code",
   "execution_count": null,
   "metadata": {
    "ExecuteTime": {
     "end_time": "2021-07-13T00:15:10.803222Z",
     "start_time": "2021-07-13T00:15:10.796655Z"
    },
    "id": "yrIApMC61JyL",
    "outputId": "0100c72a-9fb5-44af-ff94-c82f8e996a2f"
   },
   "outputs": [
    {
     "name": "stdout",
     "output_type": "stream",
     "text": [
      "{'C': 100, 'gamma': 0.001, 'kernel': 'rbf'}\n",
      "SVC(C=100, gamma=0.001)\n"
     ]
    }
   ],
   "source": [
    "print(skSVC_grid.best_params_)\n",
    "print(skSVC_grid.best_estimator_)"
   ]
  },
  {
   "cell_type": "code",
   "execution_count": null,
   "metadata": {
    "ExecuteTime": {
     "end_time": "2021-07-13T00:15:24.875941Z",
     "start_time": "2021-07-13T00:15:15.481651Z"
    },
    "id": "v5jfx6_n1JyL",
    "outputId": "4696b317-0995-4054-9256-7a80f146da5c"
   },
   "outputs": [
    {
     "name": "stdout",
     "output_type": "stream",
     "text": [
      "              precision    recall  f1-score   support\n",
      "\n",
      "           0       0.92      0.95      0.93      8184\n",
      "           1       0.90      0.93      0.92     10032\n",
      "           2       0.92      0.88      0.90     12251\n",
      "\n",
      "    accuracy                           0.91     30467\n",
      "   macro avg       0.91      0.92      0.92     30467\n",
      "weighted avg       0.91      0.91      0.91     30467\n",
      "\n"
     ]
    }
   ],
   "source": [
    "skSVC_grid_pred = skSVC_grid.predict(X_test)\n",
    "  \n",
    "# Classification report\n",
    "print(classification_report(y_test, skSVC_grid_pred))"
   ]
  },
  {
   "cell_type": "markdown",
   "metadata": {
    "id": "blGR1uIJ1JyM"
   },
   "source": [
    "## XGBoost \n",
    "\n",
    "**Parameters:**\n",
    "\n",
    "    - Accelerated\n",
    "    - Subsample: 0.8\n",
    "    - Tree method: GPU_hist\n",
    "    - Sampling method: Gradient based\n",
    "    - Evaluation metrics: mlogloss\n",
    "    - Objective: Multi-softprob\n",
    "    - Estimators: 100\n",
    "    - Max depth: 12\n",
    "    - Gamma: 5\n",
    "    - Col sample by tree: 0.3\n",
    "    - 3 classes\n",
    "    - Learning rate: 0.006\n",
    "    \n",
    "<br>\n",
    "\n",
    "- **Best train score:** 0.685\n",
    "- **Best test accuracy:** 0.47"
   ]
  },
  {
   "cell_type": "code",
   "execution_count": 9,
   "metadata": {
    "id": "cj2aGFS_W6CT"
   },
   "outputs": [],
   "source": [
    "xgb_params = {\"subsample\":[0.8],\n",
    "              'max_depth': [12],\n",
    "              'n_estimators': [100],\n",
    "              'learning_rate': [0.006],\n",
    "              'num_classes': [3],\n",
    "              'colsample_bytree': [0.3],\n",
    "              'gamma': [5]}"
   ]
  },
  {
   "cell_type": "code",
   "execution_count": 10,
   "metadata": {
    "colab": {
     "base_uri": "https://localhost:8080/"
    },
    "id": "qdLp3hmUW3DU",
    "outputId": "6197433a-f457-494e-ba50-3a47a8fca63e"
   },
   "outputs": [
    {
     "name": "stdout",
     "output_type": "stream",
     "text": [
      "Fitting 10 folds for each of 1 candidates, totalling 10 fits\n",
      "[CV] colsample_bytree=0.3, gamma=5, learning_rate=0.006, max_depth=12, n_estimators=100, num_classes=3, subsample=0.8 \n"
     ]
    },
    {
     "name": "stderr",
     "output_type": "stream",
     "text": [
      "[Parallel(n_jobs=1)]: Using backend SequentialBackend with 1 concurrent workers.\n"
     ]
    },
    {
     "name": "stdout",
     "output_type": "stream",
     "text": [
      "[CV]  colsample_bytree=0.3, gamma=5, learning_rate=0.006, max_depth=12, n_estimators=100, num_classes=3, subsample=0.8, score=0.427, total= 2.2min\n",
      "[CV] colsample_bytree=0.3, gamma=5, learning_rate=0.006, max_depth=12, n_estimators=100, num_classes=3, subsample=0.8 \n"
     ]
    },
    {
     "name": "stderr",
     "output_type": "stream",
     "text": [
      "[Parallel(n_jobs=1)]: Done   1 out of   1 | elapsed:  2.2min remaining:    0.0s\n"
     ]
    },
    {
     "name": "stdout",
     "output_type": "stream",
     "text": [
      "[CV]  colsample_bytree=0.3, gamma=5, learning_rate=0.006, max_depth=12, n_estimators=100, num_classes=3, subsample=0.8, score=0.427, total= 2.1min\n",
      "[CV] colsample_bytree=0.3, gamma=5, learning_rate=0.006, max_depth=12, n_estimators=100, num_classes=3, subsample=0.8 \n"
     ]
    },
    {
     "name": "stderr",
     "output_type": "stream",
     "text": [
      "[Parallel(n_jobs=1)]: Done   2 out of   2 | elapsed:  4.3min remaining:    0.0s\n"
     ]
    },
    {
     "name": "stdout",
     "output_type": "stream",
     "text": [
      "[CV]  colsample_bytree=0.3, gamma=5, learning_rate=0.006, max_depth=12, n_estimators=100, num_classes=3, subsample=0.8, score=0.575, total= 2.1min\n",
      "[CV] colsample_bytree=0.3, gamma=5, learning_rate=0.006, max_depth=12, n_estimators=100, num_classes=3, subsample=0.8 \n",
      "[CV]  colsample_bytree=0.3, gamma=5, learning_rate=0.006, max_depth=12, n_estimators=100, num_classes=3, subsample=0.8, score=0.582, total= 2.1min\n",
      "[CV] colsample_bytree=0.3, gamma=5, learning_rate=0.006, max_depth=12, n_estimators=100, num_classes=3, subsample=0.8 \n",
      "[CV]  colsample_bytree=0.3, gamma=5, learning_rate=0.006, max_depth=12, n_estimators=100, num_classes=3, subsample=0.8, score=0.561, total= 2.1min\n",
      "[CV] colsample_bytree=0.3, gamma=5, learning_rate=0.006, max_depth=12, n_estimators=100, num_classes=3, subsample=0.8 \n",
      "[CV]  colsample_bytree=0.3, gamma=5, learning_rate=0.006, max_depth=12, n_estimators=100, num_classes=3, subsample=0.8, score=0.514, total= 2.1min\n",
      "[CV] colsample_bytree=0.3, gamma=5, learning_rate=0.006, max_depth=12, n_estimators=100, num_classes=3, subsample=0.8 \n",
      "[CV]  colsample_bytree=0.3, gamma=5, learning_rate=0.006, max_depth=12, n_estimators=100, num_classes=3, subsample=0.8, score=0.568, total= 2.1min\n",
      "[CV] colsample_bytree=0.3, gamma=5, learning_rate=0.006, max_depth=12, n_estimators=100, num_classes=3, subsample=0.8 \n",
      "[CV]  colsample_bytree=0.3, gamma=5, learning_rate=0.006, max_depth=12, n_estimators=100, num_classes=3, subsample=0.8, score=0.685, total= 2.1min\n",
      "[CV] colsample_bytree=0.3, gamma=5, learning_rate=0.006, max_depth=12, n_estimators=100, num_classes=3, subsample=0.8 \n",
      "[CV]  colsample_bytree=0.3, gamma=5, learning_rate=0.006, max_depth=12, n_estimators=100, num_classes=3, subsample=0.8, score=0.669, total= 2.1min\n",
      "[CV] colsample_bytree=0.3, gamma=5, learning_rate=0.006, max_depth=12, n_estimators=100, num_classes=3, subsample=0.8 \n",
      "[CV]  colsample_bytree=0.3, gamma=5, learning_rate=0.006, max_depth=12, n_estimators=100, num_classes=3, subsample=0.8, score=0.466, total= 2.1min\n"
     ]
    },
    {
     "name": "stderr",
     "output_type": "stream",
     "text": [
      "[Parallel(n_jobs=1)]: Done  10 out of  10 | elapsed: 21.2min finished\n"
     ]
    }
   ],
   "source": [
    "xgb_grid = GridSearchCV(XGBClassifier(objective='multi:softprob', num_classes=3,\n",
    "                        tree_method='gpu_hist', sampling_method='gradient_based',\n",
    "                        eval_metric=['mlogloss'], gpu_id=0, use_label_encoder=False,verbosity=0), \n",
    "                        param_grid=xgb_params, cv=10, verbose=3).fit(X_train, y_train).best_estimator_\n"
   ]
  },
  {
   "cell_type": "code",
   "execution_count": 11,
   "metadata": {
    "id": "_u-Z22JUwwXY"
   },
   "outputs": [],
   "source": [
    "xgb_pred = xgb_grid.predict(X_test)"
   ]
  },
  {
   "cell_type": "code",
   "execution_count": 12,
   "metadata": {
    "colab": {
     "base_uri": "https://localhost:8080/"
    },
    "id": "xhUdvDXGxLrS",
    "outputId": "03f488d1-d8e8-4d2b-804b-c66292094c5c"
   },
   "outputs": [
    {
     "name": "stdout",
     "output_type": "stream",
     "text": [
      "              precision    recall  f1-score   support\n",
      "\n",
      "           0       0.70      0.16      0.26      8184\n",
      "           1       0.56      0.20      0.29     10032\n",
      "           2       0.44      0.89      0.58     12251\n",
      "\n",
      "    accuracy                           0.47     30467\n",
      "   macro avg       0.56      0.42      0.38     30467\n",
      "weighted avg       0.55      0.47      0.40     30467\n",
      "\n"
     ]
    }
   ],
   "source": [
    "print(classification_report(y_test, xgb_pred))"
   ]
  },
  {
   "cell_type": "markdown",
   "metadata": {
    "id": "L28I5iJh1JyP"
   },
   "source": [
    "## Conclusion\n",
    "<br>\n",
    "Out of the four baseline models, support vector classifiers (SVC) performed the best with the GPU accelerated version performing slightly better than Sklearns by only a few decimels. GridSearch over Sklearns SVC took approx. 9 hours to complete whereas cuMLs version only took 1 hour. The difference in performance can not be recognized as a result of differing parameters, as both instances of GridSearch deemed \"C: 100\", \"gamma: 0.001\" and \"kernel: rbf\" to be the best fit for our dataset.  \n",
    "\n",
    "The logistic regression model performed the worst only generating a weighted F1 score of about 0.42 and an accuracy of 0.43. This can be a result of our fairly unbalanced dataset. We attempted to solve the problem via oversampling and splitting the original train and augmenting that data however it did not seem to help in regards to logistic regression. Further, we saw something similar with XGBoost, where that model performed above logistic regressions ability but still failed to generalize properly towards unseen data during testing by viewing its classification report. We were only able to achieve an accuracy of 0.47 after an extensive Grid Search during hyper parameter tuning.\n",
    "\n",
    "Overall these 3 distinct algorithims provided us with a benchmark level of performance for our next phase, extended modeling where will utilize deep learning through the use of CNNs. "
   ]
  }
 ],
 "metadata": {
  "accelerator": "GPU",
  "colab": {
   "collapsed_sections": [
    "L28I5iJh1JyP"
   ],
   "name": "features_baseline_modeling_Copy1.ipynb",
   "provenance": []
  },
  "kernelspec": {
   "display_name": "Python 3",
   "language": "python",
   "name": "python3"
  },
  "language_info": {
   "codemirror_mode": {
    "name": "ipython",
    "version": 3
   },
   "file_extension": ".py",
   "mimetype": "text/x-python",
   "name": "python",
   "nbconvert_exporter": "python",
   "pygments_lexer": "ipython3",
   "version": "3.8.5"
  }
 },
 "nbformat": 4,
 "nbformat_minor": 5
}
