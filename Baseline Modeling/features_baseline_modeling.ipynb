{
 "cells": [
  {
   "cell_type": "markdown",
   "id": "c7ab2c22",
   "metadata": {},
   "source": [
    "# Feature Engineering and Baseline Modeling\n",
    "<br>\n",
    "\n",
    "During this phase, we extract features from our audio signals and run baseline model tests using our oversampled dataset as the train and validation inputs. To get the features, as mel-spectrograms, we used NVIDIAs data loading library, \"DALI\". Using the processing operators provided by DALI we were able to extract the spectrograms at a fraction of the time it would take using \"librosa\" because the library is accelerated via GPU. DALI produced identical mel-spectrograms in comparison to librosa, giving us an array output size of 251x128 for each of the 304,675 audios. The total spectrograms were split using a stratified K-fold split of 80/20.  \n",
    "\n",
    "With our X/y, train/test we performed various transformations in order to compress the data to fit our models and perform under limited computing conditions. Principal component analysis (PCA) of .95 was used to reduce the datasets dimensions and MinMaxScaler() with a feature range of 0,1 was used to scale each float making up the unique spectrogram of each individual audio. Once all transformations and scaling was completed we were then able to construct our baseline models. \n",
    "\n",
    "### Models:\n",
    "- Logistic regression\n",
    "- Two support vector classifiers (SVC) \n",
    "    - One utilizing Sklearns library\n",
    "        - Long training times \n",
    "    - One utilizing RAPIDS (cuML) library\n",
    "        - Accelerated for performance\n",
    "- XGBoost \n",
    "\n",
    "<br>\n",
    "Each of the models were tuned and fit using GridSearchCV() with 10 folds, allowing us to find the best hyperparameters for each respective model. Using the \"best-estimator\" method we conducted our predictions with X_test. The only model that did not utilize the GridSearch method was XGBoost, as we used their internal documentation to build it.\n",
    "\n",
    "A summary of each model can be found at the beginning of its predictions, and our findings are located at the very end of the notebook. "
   ]
  },
  {
   "cell_type": "code",
   "execution_count": 1,
   "id": "cbca43bc",
   "metadata": {
    "ExecuteTime": {
     "end_time": "2021-07-27T21:43:47.411050Z",
     "start_time": "2021-07-27T21:43:44.498729Z"
    }
   },
   "outputs": [
    {
     "name": "stderr",
     "output_type": "stream",
     "text": [
      "Intel(R) Extension for Scikit-learn* enabled (https://github.com/intel/scikit-learn-intelex)\n"
     ]
    }
   ],
   "source": [
    "from sklearnex import patch_sklearn\n",
    "patch_sklearn()\n",
    "\n",
    "from sklearn.decomposition import PCA\n",
    "from sklearn.preprocessing import LabelEncoder, MinMaxScaler\n",
    "from sklearn.model_selection import GridSearchCV\n",
    "from sklearn.linear_model import LogisticRegression\n",
    "from sklearn.metrics import classification_report, confusion_matrix\n",
    "from sklearn.svm import SVC as skSVC\n",
    "\n",
    "from cuml.svm import SVC as cumlSVC\n",
    "\n",
    "from xgboost import XGBClassifier\n",
    "import xgboost as xgb\n",
    "\n",
    "import os\n",
    "import cuml\n",
    "import pandas as pd\n",
    "import numpy as np\n",
    "import subprocess\n",
    "\n",
    "import matplotlib.pyplot as plt\n",
    "import matplotlib\n",
    "\n",
    "%matplotlib inline\n",
    "matplotlib.rc({\"figure.dpi\": 300, 'savefig.dpi': 300})\n",
    "#sns.set_style(\"ticks\")\n",
    "#sns.set_theme(style=\"darkgrid\")\n",
    "new_style = {'grid': False}\n",
    "matplotlib.rc('axes', **new_style)"
   ]
  },
  {
   "cell_type": "code",
   "execution_count": 2,
   "id": "3e3b4e93",
   "metadata": {
    "ExecuteTime": {
     "end_time": "2021-07-12T04:40:24.509443Z",
     "start_time": "2021-07-12T04:40:24.105897Z"
    }
   },
   "outputs": [
    {
     "name": "stdout",
     "output_type": "stream",
     "text": [
      "<class 'pandas.core.frame.DataFrame'>\n",
      "RangeIndex: 304675 entries, 0 to 304674\n",
      "Data columns (total 2 columns):\n",
      " #   Column      Non-Null Count   Dtype \n",
      "---  ------      --------------   ----- \n",
      " 0   audio_file  304675 non-null  object\n",
      " 1   label       304675 non-null  object\n",
      "dtypes: object(2)\n",
      "memory usage: 4.6+ MB\n"
     ]
    }
   ],
   "source": [
    "# Load data\n",
    "\n",
    "train_OS = pd.read_csv('./capstone-project-3/data/train_OS.csv')\n",
    "train_OS.info()"
   ]
  },
  {
   "cell_type": "code",
   "execution_count": 3,
   "id": "c8c5d1d4",
   "metadata": {
    "ExecuteTime": {
     "end_time": "2021-07-12T04:40:26.006624Z",
     "start_time": "2021-07-12T04:40:25.954289Z"
    }
   },
   "outputs": [],
   "source": [
    "# Assigning numerical values and storing in another column\n",
    "\n",
    "labelencoder = LabelEncoder()\n",
    "train_OS['label_encoded'] = labelencoder.fit_transform(train_OS['label'])"
   ]
  },
  {
   "cell_type": "code",
   "execution_count": 4,
   "id": "37817135",
   "metadata": {
    "ExecuteTime": {
     "end_time": "2021-07-12T04:40:31.592795Z",
     "start_time": "2021-07-12T04:40:31.026417Z"
    }
   },
   "outputs": [],
   "source": [
    "from nvidia.dali import pipeline_def, Pipeline\n",
    "import nvidia.dali.fn as fn\n",
    "import nvidia.dali.types as types\n",
    "import cupy as cp \n",
    "\n",
    "cp.cuda.set_allocator(cp.cuda.MemoryPool(cp.cuda.malloc_managed).malloc) # GPU memory management"
   ]
  },
  {
   "cell_type": "code",
   "execution_count": 5,
   "id": "61347f7f",
   "metadata": {
    "ExecuteTime": {
     "end_time": "2021-07-12T04:40:33.499003Z",
     "start_time": "2021-07-12T04:40:33.450098Z"
    }
   },
   "outputs": [],
   "source": [
    "audio_files = list(train_OS['audio_file']) # .wav inputs\n",
    "audio_labels = list(train_OS['label_encoded']) # label inputs"
   ]
  },
  {
   "cell_type": "code",
   "execution_count": 9,
   "id": "9a5b16cf",
   "metadata": {
    "ExecuteTime": {
     "end_time": "2021-07-12T04:44:00.782257Z",
     "start_time": "2021-07-12T04:44:00.654535Z"
    }
   },
   "outputs": [],
   "source": [
    "batch_size = 1\n",
    "n_iter = int(len(audio_files) / batch_size) # One iteration for each audio\n",
    "n_fft = 2048 \n",
    "hop_length = 512\n",
    "\n",
    "# Initiate processing pipeline\n",
    "pipe = Pipeline(batch_size=batch_size,\n",
    "                num_threads=15,\n",
    "                device_id=0,\n",
    "                enable_memory_stats=True,\n",
    "                exec_pipelined=False,\n",
    "                exec_async=False,\n",
    "                py_num_workers=15)\n",
    "\n",
    "# Actions to perform with pipeline \n",
    "with pipe:\n",
    "    encoded, _ = fn.readers.file(files=audio_files) # Read .wav\n",
    "    audio, sr = fn.decoders.audio(encoded, dtype=types.FLOAT) # Decode .wav, get signal and sample rate\n",
    "    \n",
    "    # Get signal spectrogram\n",
    "    spectrogram = fn.spectrogram(audio.gpu(),\n",
    "                                 nfft=n_fft,\n",
    "                                 window_length=n_fft,\n",
    "                                 window_step=hop_length)\n",
    "    \n",
    "    # Get mel-power spectrogram features\n",
    "    mel_spectrogram = fn.mel_filter_bank(spectrogram.gpu(),\n",
    "                                         sample_rate=16000,\n",
    "                                         nfilter=128,\n",
    "                                         freq_high=8000.0,\n",
    "                                         bytes_per_sample_hint=128512)\n",
    "    \n",
    "    # Convert array spectrograms to decibels\n",
    "    mel_spectrogram_dB = fn.to_decibels(mel_spectrogram,\n",
    "                                        multiplier=10.0,\n",
    "                                        cutoff_db=-80,\n",
    "                                        bytes_per_sample_hint=128512)\n",
    "    \n",
    "    # Set outputs and reshape dimensions (1 row per label)\n",
    "    pipe.set_outputs(fn.reshape(mel_spectrogram_dB, shape=[1, 128*251])) \n",
    "\n",
    "pipe.build()"
   ]
  },
  {
   "cell_type": "code",
   "execution_count": 10,
   "id": "f2f7e5d3",
   "metadata": {
    "ExecuteTime": {
     "end_time": "2021-07-12T04:52:36.237436Z",
     "start_time": "2021-07-12T04:44:03.734997Z"
    },
    "scrolled": false
   },
   "outputs": [
    {
     "name": "stdout",
     "output_type": "stream",
     "text": [
      "Percent complete: 100.0 %  "
     ]
    }
   ],
   "source": [
    "# Iterate over length of number of audios per class to perform pipeline operations\n",
    "\n",
    "X_spec = []\n",
    "\n",
    "for i in range(n_iter):\n",
    "    pipe_out = pipe.run()\n",
    "    spec = cp.array(pipe_out[0][0])\n",
    "    X_spec.append(spec)\n",
    "\n",
    "    percent = i / len(train_OS) * 100\n",
    "    print(\"\", end=f\"\\rPercent complete: {round(percent, 2)} %  \")\n",
    "    \n",
    "X_v = cp.vstack(X_spec) # VStack arrays to match y shape"
   ]
  },
  {
   "cell_type": "code",
   "execution_count": 16,
   "id": "a7b30b05",
   "metadata": {
    "ExecuteTime": {
     "end_time": "2021-07-12T05:01:36.629763Z",
     "start_time": "2021-07-12T05:01:36.622830Z"
    }
   },
   "outputs": [
    {
     "data": {
      "text/plain": [
       "(304675, 32128)"
      ]
     },
     "execution_count": 16,
     "metadata": {},
     "output_type": "execute_result"
    }
   ],
   "source": [
    "X = cp.asnumpy(X_v)\n",
    "X.shape"
   ]
  },
  {
   "cell_type": "code",
   "execution_count": 19,
   "id": "3ae98d4a",
   "metadata": {
    "ExecuteTime": {
     "end_time": "2021-07-12T05:04:19.562413Z",
     "start_time": "2021-07-12T05:04:19.555900Z"
    }
   },
   "outputs": [
    {
     "data": {
      "text/plain": [
       "(304675, 1)"
      ]
     },
     "execution_count": 19,
     "metadata": {},
     "output_type": "execute_result"
    }
   ],
   "source": [
    "del X_spec # Uses over 150 GB of RAM\n",
    "\n",
    "y = np.vstack(audio_labels) # VStack labels for matching X shapes\n",
    "y.shape"
   ]
  },
  {
   "cell_type": "code",
   "execution_count": 22,
   "id": "f65f7aca",
   "metadata": {
    "ExecuteTime": {
     "end_time": "2021-07-12T05:07:08.677416Z",
     "start_time": "2021-07-12T05:07:08.669470Z"
    }
   },
   "outputs": [],
   "source": [
    "np.save('X_specs', X)\n",
    "np.save('y_labels', y)"
   ]
  },
  {
   "cell_type": "code",
   "execution_count": 25,
   "id": "72be026d",
   "metadata": {
    "ExecuteTime": {
     "end_time": "2021-07-12T05:08:30.436480Z",
     "start_time": "2021-07-12T05:08:30.429387Z"
    }
   },
   "outputs": [
    {
     "name": "stdout",
     "output_type": "stream",
     "text": [
      "StratifiedKFold(n_splits=10, random_state=None, shuffle=False)\n"
     ]
    }
   ],
   "source": [
    "# Initiate stratified KFold train/test split \n",
    "\n",
    "skf = StratifiedKFold(n_splits=10)\n",
    "skf.get_n_splits(X, y)\n",
    "\n",
    "print(skf)"
   ]
  },
  {
   "cell_type": "code",
   "execution_count": 26,
   "id": "7f098270",
   "metadata": {
    "ExecuteTime": {
     "end_time": "2021-07-12T05:10:00.183225Z",
     "start_time": "2021-07-12T05:08:41.153342Z"
    }
   },
   "outputs": [
    {
     "name": "stdout",
     "output_type": "stream",
     "text": [
      "TRAIN: [ 16523  16524  16525 ... 304672 304673 304674] TEST: [    0     1     2 ... 70486 70496 70497]\n",
      "TRAIN: [     0      1      2 ... 304672 304673 304674] TEST: [ 16523  16524  16525 ... 141142 141143 141146]\n",
      "TRAIN: [     0      1      2 ... 304672 304673 304674] TEST: [ 33210  33211  33212 ... 159359 159360 159362]\n",
      "TRAIN: [     0      1      2 ... 304672 304673 304674] TEST: [ 49726  49731  49733 ... 177575 177576 177577]\n",
      "TRAIN: [     0      1      2 ... 304672 304673 304674] TEST: [ 66228  66229  66230 ... 195792 195793 203978]\n",
      "TRAIN: [     0      1      2 ... 304672 304673 304674] TEST: [ 82806  82807  82808 ... 214008 214009 222194]\n",
      "TRAIN: [     0      1      2 ... 304672 304673 304674] TEST: [ 99237  99238  99239 ... 232224 232225 240410]\n",
      "TRAIN: [     0      1      2 ... 304672 304673 304674] TEST: [115640 115641 115642 ... 250440 250441 266809]\n",
      "TRAIN: [     0      1      2 ... 304672 304673 304674] TEST: [132178 132179 132180 ... 292421 292422 292423]\n",
      "TRAIN: [     0      1      2 ... 292421 292422 292423] TEST: [258625 258626 258627 ... 304672 304673 304674]\n"
     ]
    }
   ],
   "source": [
    "# Splitting X and y -> X_train, y_train, X_test, y_test (80/20)\n",
    "\n",
    "for train_index, test_index in skf.split(X, y):\n",
    "    print(\"TRAIN:\", train_index, \"TEST:\", test_index)\n",
    "    X_train, X_test = X[train_index], X[test_index]\n",
    "    y_train, y_test = y[train_index], y[test_index]\n",
    "    \n",
    "print(X_train.shape, X_test.shape, y_train.shape, y_test.shape)"
   ]
  },
  {
   "cell_type": "code",
   "execution_count": 28,
   "id": "4a0013ea",
   "metadata": {
    "ExecuteTime": {
     "end_time": "2021-07-12T05:16:12.320493Z",
     "start_time": "2021-07-12T05:15:45.909038Z"
    }
   },
   "outputs": [],
   "source": [
    "np.save('X_train', X_train)\n",
    "np.save('y_train', y_train)\n",
    "np.save('X_test', X_test)\n",
    "np.save('y_test', y_test)"
   ]
  },
  {
   "cell_type": "code",
   "execution_count": 31,
   "id": "0041fb79",
   "metadata": {
    "ExecuteTime": {
     "end_time": "2021-07-12T05:20:17.953071Z",
     "start_time": "2021-07-12T05:20:17.949337Z"
    }
   },
   "outputs": [],
   "source": [
    "# Clean and free RAM\n",
    "\n",
    "del X_v\n",
    "del X\n",
    "\n",
    "del mel_spectrogram\n",
    "del mel_spectrogram_dB\n",
    "\n",
    "del spectrogram\n",
    "del pipe\n",
    "del pipe_out"
   ]
  },
  {
   "cell_type": "code",
   "execution_count": 82,
   "id": "c8a2976c",
   "metadata": {
    "ExecuteTime": {
     "end_time": "2021-07-16T10:07:20.607226Z",
     "start_time": "2021-07-16T10:07:20.603645Z"
    }
   },
   "outputs": [],
   "source": [
    "X_train = np.load('X_train.npy')\n",
    "y_train = np.load('y_train.npy')\n",
    "X_test = np.load('X_test.npy')\n",
    "y_test = np.load('y_test.npy')"
   ]
  },
  {
   "cell_type": "code",
   "execution_count": 6,
   "id": "04e0152d",
   "metadata": {
    "ExecuteTime": {
     "end_time": "2021-07-13T03:58:35.641103Z",
     "start_time": "2021-07-13T03:58:21.070733Z"
    }
   },
   "outputs": [
    {
     "data": {
      "text/plain": [
       "MinMaxScaler()"
      ]
     },
     "execution_count": 6,
     "metadata": {},
     "output_type": "execute_result"
    }
   ],
   "source": [
    "# Scale features\n",
    "\n",
    "scaler = MinMaxScaler(feature_range=(0,1))\n",
    "scaler.fit(X_train)"
   ]
  },
  {
   "cell_type": "code",
   "execution_count": 10,
   "id": "c4444820",
   "metadata": {
    "ExecuteTime": {
     "end_time": "2021-07-13T03:58:51.724875Z",
     "start_time": "2021-07-13T03:58:51.719092Z"
    }
   },
   "outputs": [
    {
     "name": "stdout",
     "output_type": "stream",
     "text": [
      "(274208, 32128) (30467, 32128) (274208,) (30467, 1)\n"
     ]
    }
   ],
   "source": [
    "# Apply scale\n",
    "\n",
    "X_train = scaler.transform(X_train)\n",
    "X_test = scaler.transform(X_test)\n",
    "y_train = np.ravel(y_train)\n",
    "\n",
    "print(X_train.shape, X_test.shape, y_train.shape, y_test.shape)"
   ]
  },
  {
   "cell_type": "code",
   "execution_count": null,
   "id": "97720ca8",
   "metadata": {
    "ExecuteTime": {
     "start_time": "2021-07-13T03:59:05.833Z"
    }
   },
   "outputs": [],
   "source": [
    "# Reduce dimensionality of features\n",
    "\n",
    "pca = PCA(.95)\n",
    "pca.fit(X_train)"
   ]
  },
  {
   "cell_type": "code",
   "execution_count": 9,
   "id": "a763226c",
   "metadata": {
    "ExecuteTime": {
     "end_time": "2021-07-12T14:22:34.965635Z",
     "start_time": "2021-07-12T14:22:24.275236Z"
    }
   },
   "outputs": [],
   "source": [
    "# Apply PCA reduction\n",
    "\n",
    "X_train = pca.transform(X_train)\n",
    "X_test = pca.transform(X_test)"
   ]
  },
  {
   "cell_type": "code",
   "execution_count": 14,
   "id": "b19bd1a1",
   "metadata": {
    "ExecuteTime": {
     "end_time": "2021-07-12T14:27:10.409977Z",
     "start_time": "2021-07-12T14:27:10.402650Z"
    }
   },
   "outputs": [
    {
     "name": "stdout",
     "output_type": "stream",
     "text": [
      "(274208, 742) (30467, 742) (274208,) (30467, 1)\n"
     ]
    }
   ],
   "source": [
    "print(X_train.shape, X_test.shape, y_train.shape, y_test.shape)"
   ]
  },
  {
   "cell_type": "code",
   "execution_count": 15,
   "id": "0d1c762c",
   "metadata": {
    "ExecuteTime": {
     "end_time": "2021-07-12T14:28:30.567589Z",
     "start_time": "2021-07-12T14:28:30.066191Z"
    }
   },
   "outputs": [],
   "source": [
    "np.save('tX_train.npy', X_train)\n",
    "np.save('ty_train.npy', y_train)\n",
    "np.save('tX_test.npy', X_test)\n",
    "np.save('ty_test.npy', y_train)"
   ]
  },
  {
   "cell_type": "code",
   "execution_count": 2,
   "id": "f5955127",
   "metadata": {
    "ExecuteTime": {
     "end_time": "2021-07-27T21:44:03.701646Z",
     "start_time": "2021-07-27T21:44:03.469095Z"
    }
   },
   "outputs": [],
   "source": [
    "X_train = np.load('tX_train.npy')\n",
    "y_train = np.load('ty_train.npy')\n",
    "X_test = np.load('tX_test.npy')\n",
    "y_test = np.load('ty_test.npy')"
   ]
  },
  {
   "cell_type": "code",
   "execution_count": 85,
   "id": "2d82765b",
   "metadata": {
    "ExecuteTime": {
     "end_time": "2021-07-27T05:32:57.314862Z",
     "start_time": "2021-07-27T05:32:57.306440Z"
    }
   },
   "outputs": [
    {
     "name": "stdout",
     "output_type": "stream",
     "text": [
      "(274208, 742) (30467, 742) (274208,) (30467, 1)\n"
     ]
    }
   ],
   "source": [
    "print(X_train.shape, X_test.shape, y_train.shape, y_test.shape)"
   ]
  },
  {
   "cell_type": "code",
   "execution_count": 3,
   "id": "a2461396",
   "metadata": {
    "ExecuteTime": {
     "end_time": "2021-07-27T23:35:16.375235Z",
     "start_time": "2021-07-27T21:44:09.003483Z"
    }
   },
   "outputs": [
    {
     "name": "stdout",
     "output_type": "stream",
     "text": [
      "Fitting 5 folds for each of 8 candidates, totalling 40 fits\n",
      "[CV 1/5] END ...............C=0.001, penalty=l2;, score=0.540 total time=  12.9s\n",
      "[CV 2/5] END ...............C=0.001, penalty=l2;, score=0.706 total time=  12.2s\n",
      "[CV 3/5] END ...............C=0.001, penalty=l2;, score=0.673 total time=  11.5s\n",
      "[CV 4/5] END ...............C=0.001, penalty=l2;, score=0.743 total time=  11.6s\n",
      "[CV 5/5] END ...............C=0.001, penalty=l2;, score=0.757 total time=  13.1s\n",
      "[CV 1/5] END ...............C=0.009, penalty=l2;, score=0.538 total time=  22.0s\n",
      "[CV 2/5] END ...............C=0.009, penalty=l2;, score=0.707 total time=  22.0s\n",
      "[CV 3/5] END ...............C=0.009, penalty=l2;, score=0.675 total time=  21.3s\n",
      "[CV 4/5] END ...............C=0.009, penalty=l2;, score=0.743 total time=  22.9s\n",
      "[CV 5/5] END ...............C=0.009, penalty=l2;, score=0.758 total time=  26.7s\n",
      "[CV 1/5] END ................C=0.01, penalty=l2;, score=0.538 total time=  26.0s\n",
      "[CV 2/5] END ................C=0.01, penalty=l2;, score=0.707 total time=  21.6s\n",
      "[CV 3/5] END ................C=0.01, penalty=l2;, score=0.676 total time=  21.0s\n",
      "[CV 4/5] END ................C=0.01, penalty=l2;, score=0.743 total time=  21.8s\n",
      "[CV 5/5] END ................C=0.01, penalty=l2;, score=0.758 total time=  28.8s\n",
      "[CV 1/5] END ................C=0.09, penalty=l2;, score=0.538 total time=  43.0s\n",
      "[CV 2/5] END ................C=0.09, penalty=l2;, score=0.707 total time=  48.1s\n",
      "[CV 3/5] END ................C=0.09, penalty=l2;, score=0.676 total time=  53.0s\n",
      "[CV 4/5] END ................C=0.09, penalty=l2;, score=0.743 total time=  41.5s\n",
      "[CV 5/5] END ................C=0.09, penalty=l2;, score=0.758 total time= 1.0min\n",
      "[CV 1/5] END ...................C=1, penalty=l2;, score=0.538 total time= 1.2min\n",
      "[CV 2/5] END ...................C=1, penalty=l2;, score=0.707 total time=  51.1s\n",
      "[CV 3/5] END ...................C=1, penalty=l2;, score=0.676 total time= 1.1min\n",
      "[CV 4/5] END ...................C=1, penalty=l2;, score=0.742 total time= 1.0min\n",
      "[CV 5/5] END ...................C=1, penalty=l2;, score=0.758 total time= 1.2min\n",
      "[CV 1/5] END ...................C=5, penalty=l2;, score=0.538 total time= 1.4min\n",
      "[CV 2/5] END ...................C=5, penalty=l2;, score=0.707 total time= 1.5min\n",
      "[CV 3/5] END ...................C=5, penalty=l2;, score=0.676 total time= 1.1min\n",
      "[CV 4/5] END ...................C=5, penalty=l2;, score=0.742 total time=  54.0s\n",
      "[CV 5/5] END ...................C=5, penalty=l2;, score=0.758 total time= 1.8min\n"
     ]
    },
    {
     "name": "stderr",
     "output_type": "stream",
     "text": [
      "/home/ubuntu/anaconda3/envs/rapids-21.06/lib/python3.8/site-packages/daal4py/sklearn/linear_model/logistic_path.py:432: ConvergenceWarning: lbfgs failed to converge (status=1):\n",
      "STOP: TOTAL NO. of ITERATIONS REACHED LIMIT.\n",
      "\n",
      "Increase the number of iterations (max_iter) or scale the data as shown in:\n",
      "    https://scikit-learn.org/stable/modules/preprocessing.html\n",
      "Please also refer to the documentation for alternative solver options:\n",
      "    https://scikit-learn.org/stable/modules/linear_model.html#logistic-regression\n",
      "  n_iter_i = _check_optimize_result(\n"
     ]
    },
    {
     "name": "stdout",
     "output_type": "stream",
     "text": [
      "[CV 1/5] END ..................C=10, penalty=l2;, score=0.538 total time= 1.9min\n"
     ]
    },
    {
     "name": "stderr",
     "output_type": "stream",
     "text": [
      "/home/ubuntu/anaconda3/envs/rapids-21.06/lib/python3.8/site-packages/daal4py/sklearn/linear_model/logistic_path.py:432: ConvergenceWarning: lbfgs failed to converge (status=1):\n",
      "STOP: TOTAL NO. of ITERATIONS REACHED LIMIT.\n",
      "\n",
      "Increase the number of iterations (max_iter) or scale the data as shown in:\n",
      "    https://scikit-learn.org/stable/modules/preprocessing.html\n",
      "Please also refer to the documentation for alternative solver options:\n",
      "    https://scikit-learn.org/stable/modules/linear_model.html#logistic-regression\n",
      "  n_iter_i = _check_optimize_result(\n"
     ]
    },
    {
     "name": "stdout",
     "output_type": "stream",
     "text": [
      "[CV 2/5] END ..................C=10, penalty=l2;, score=0.707 total time= 2.0min\n",
      "[CV 3/5] END ..................C=10, penalty=l2;, score=0.676 total time= 1.6min\n",
      "[CV 4/5] END ..................C=10, penalty=l2;, score=0.742 total time= 1.0min\n",
      "[CV 5/5] END ..................C=10, penalty=l2;, score=0.758 total time= 1.8min\n",
      "[CV 1/5] END ..................C=25, penalty=l2;, score=0.538 total time= 1.5min\n",
      "[CV 2/5] END ..................C=25, penalty=l2;, score=0.707 total time= 1.0min\n",
      "[CV 3/5] END ..................C=25, penalty=l2;, score=0.676 total time= 1.4min\n",
      "[CV 4/5] END ..................C=25, penalty=l2;, score=0.742 total time=  57.8s\n",
      "[CV 5/5] END ..................C=25, penalty=l2;, score=0.758 total time= 1.8min\n",
      "Fitting 5 folds for each of 4 candidates, totalling 20 fits\n",
      "[CV 1/5] END ......C=10, gamma=0.01, kernel=rbf;, score=0.680 total time= 1.4min\n",
      "[CV 2/5] END ......C=10, gamma=0.01, kernel=rbf;, score=0.738 total time= 1.4min\n",
      "[CV 3/5] END ......C=10, gamma=0.01, kernel=rbf;, score=0.674 total time= 1.3min\n",
      "[CV 4/5] END ......C=10, gamma=0.01, kernel=rbf;, score=0.641 total time= 1.4min\n",
      "[CV 5/5] END ......C=10, gamma=0.01, kernel=rbf;, score=0.748 total time= 1.4min\n",
      "[CV 1/5] END .....C=10, gamma=0.001, kernel=rbf;, score=0.601 total time= 2.7min\n",
      "[CV 2/5] END .....C=10, gamma=0.001, kernel=rbf;, score=0.803 total time= 3.5min\n",
      "[CV 3/5] END .....C=10, gamma=0.001, kernel=rbf;, score=0.719 total time= 3.5min\n",
      "[CV 4/5] END .....C=10, gamma=0.001, kernel=rbf;, score=0.667 total time= 3.5min\n",
      "[CV 5/5] END .....C=10, gamma=0.001, kernel=rbf;, score=0.769 total time= 3.4min\n",
      "[CV 1/5] END .....C=100, gamma=0.01, kernel=rbf;, score=0.680 total time= 1.4min\n",
      "[CV 2/5] END .....C=100, gamma=0.01, kernel=rbf;, score=0.737 total time= 1.4min\n",
      "[CV 3/5] END .....C=100, gamma=0.01, kernel=rbf;, score=0.673 total time= 1.4min\n",
      "[CV 4/5] END .....C=100, gamma=0.01, kernel=rbf;, score=0.641 total time= 1.4min\n",
      "[CV 5/5] END .....C=100, gamma=0.01, kernel=rbf;, score=0.748 total time= 1.4min\n",
      "[CV 1/5] END ....C=100, gamma=0.001, kernel=rbf;, score=0.658 total time= 5.2min\n",
      "[CV 2/5] END ....C=100, gamma=0.001, kernel=rbf;, score=0.811 total time= 7.0min\n",
      "[CV 3/5] END ....C=100, gamma=0.001, kernel=rbf;, score=0.752 total time= 6.6min\n",
      "[CV 4/5] END ....C=100, gamma=0.001, kernel=rbf;, score=0.669 total time= 6.8min\n",
      "[CV 5/5] END ....C=100, gamma=0.001, kernel=rbf;, score=0.778 total time= 6.7min\n"
     ]
    }
   ],
   "source": [
    "# SVC and LOG Gridsearch Pipeline \n",
    "\n",
    "logr_params = {\n",
    "    'penalty': ['l2'],\n",
    "    'C':[0.001,.009,0.01,.09,1,5,10,25]\n",
    "}\n",
    "cumlSVC_params = {\n",
    "    'C': [10, 100], \n",
    "    'gamma': [0.01, 0.001],\n",
    "    'kernel': ['rbf']\n",
    "}\n",
    "\n",
    "\n",
    "models = {\n",
    "    'LOGR':\n",
    "    GridSearchCV(LogisticRegression(multi_class='multinomial', max_iter=5000), \n",
    "                                    param_grid=logr_params, scoring= 'roc_auc_ovo_weighted', \n",
    "                                    verbose=3).fit(X_train, y_train).best_estimator_,\n",
    "    'cumlSVC':\n",
    "    GridSearchCV(cumlSVC(cache_size=8000, verbose=3), \n",
    "                         param_grid=cumlSVC_params, refit=True, \n",
    "                         verbose=3).fit(X_train, y_train).best_estimator_,\n",
    "}"
   ]
  },
  {
   "cell_type": "markdown",
   "id": "aa06b2f8",
   "metadata": {},
   "source": [
    "## Logistic Regression (Scikit-learn)\n",
    "\n",
    "**Parameters:**\n",
    "\n",
    "    - C: 0.09\n",
    "    - solver: lbfgs\n",
    "    - max_iter: 5000\n",
    "    - penalty: l2\n",
    "    - tol: 0.0001\n",
    "\n",
    "- **Best val-acurracy:** 0.43\n",
    "- **Best val-precision:** 0.43\n",
    "- **Best val-recall:** 0.43\n",
    "- **Best val-f1:** 0.42\n",
    "<br>\n",
    "\n",
    "- **Highest class precision:** 2 (bullish)\n",
    "- **Highest class recall:** 2 (bullish)\n",
    "- **Highest class f1:** 2 (bullish)"
   ]
  },
  {
   "cell_type": "code",
   "execution_count": 8,
   "id": "87a64fe6",
   "metadata": {
    "ExecuteTime": {
     "end_time": "2021-07-28T01:42:03.637964Z",
     "start_time": "2021-07-28T01:42:03.630367Z"
    }
   },
   "outputs": [
    {
     "data": {
      "text/plain": [
       "{'C': 0.09,\n",
       " 'class_weight': None,\n",
       " 'dual': False,\n",
       " 'fit_intercept': True,\n",
       " 'intercept_scaling': 1,\n",
       " 'l1_ratio': None,\n",
       " 'max_iter': 5000,\n",
       " 'multi_class': 'multinomial',\n",
       " 'n_jobs': None,\n",
       " 'penalty': 'l2',\n",
       " 'random_state': None,\n",
       " 'solver': 'lbfgs',\n",
       " 'tol': 0.0001,\n",
       " 'verbose': 0,\n",
       " 'warm_start': False}"
      ]
     },
     "execution_count": 8,
     "metadata": {},
     "output_type": "execute_result"
    }
   ],
   "source": [
    "models['LOGR'].get_params()"
   ]
  },
  {
   "cell_type": "code",
   "execution_count": 5,
   "id": "c1043f05",
   "metadata": {
    "ExecuteTime": {
     "end_time": "2021-07-28T01:41:24.438909Z",
     "start_time": "2021-07-28T01:41:24.408185Z"
    }
   },
   "outputs": [],
   "source": [
    "logr_pred = models['LOGR'].predict(X_test)"
   ]
  },
  {
   "cell_type": "code",
   "execution_count": 9,
   "id": "b243adec",
   "metadata": {
    "ExecuteTime": {
     "end_time": "2021-07-28T01:42:45.909704Z",
     "start_time": "2021-07-28T01:42:45.871476Z"
    }
   },
   "outputs": [
    {
     "name": "stdout",
     "output_type": "stream",
     "text": [
      "              precision    recall  f1-score   support\n",
      "\n",
      "           0       0.40      0.27      0.32      8184\n",
      "           1       0.38      0.45      0.41     10032\n",
      "           2       0.48      0.51      0.50     12251\n",
      "\n",
      "    accuracy                           0.43     30467\n",
      "   macro avg       0.42      0.41      0.41     30467\n",
      "weighted avg       0.43      0.43      0.42     30467\n",
      "\n"
     ]
    }
   ],
   "source": [
    "print(classification_report(y_test, logr_pred))"
   ]
  },
  {
   "cell_type": "markdown",
   "id": "aafc90ff",
   "metadata": {},
   "source": [
    "## Accelerated SVC (RAPIDS - cuML)\n",
    "\n",
    "**Parameters:**\n",
    "\n",
    "    - C: 100\n",
    "    - kernel: rbf\n",
    "    - degree: 3\n",
    "    - gamma: 0.001\n",
    "    - multiclass_strategy: ovo\n",
    "\n",
    "- **Best val-acurracy:** 0.92\n",
    "- **Best val-precision:** 0.92\n",
    "- **Best val-recall:** 0.92\n",
    "- **Best val-f1:** 0.92\n",
    "<br>\n",
    "\n",
    "- **Highest class precision:** 0 (neutral)\n",
    "- **Highest class recall:** 0 (neutral)\n",
    "- **Highest class f1:** 0 (neutral)"
   ]
  },
  {
   "cell_type": "code",
   "execution_count": 10,
   "id": "3e4fee33",
   "metadata": {
    "ExecuteTime": {
     "end_time": "2021-07-28T01:43:25.986846Z",
     "start_time": "2021-07-28T01:43:21.300177Z"
    }
   },
   "outputs": [],
   "source": [
    "cumlSVC_pred = models['cumlSVC'].predict(X_test)"
   ]
  },
  {
   "cell_type": "code",
   "execution_count": 12,
   "id": "1652fe8b",
   "metadata": {
    "ExecuteTime": {
     "end_time": "2021-07-28T01:44:24.872806Z",
     "start_time": "2021-07-28T01:44:24.866362Z"
    }
   },
   "outputs": [
    {
     "data": {
      "text/plain": [
       "{'handle': <cuml.raft.common.handle.Handle at 0x7f84d10f30b0>,\n",
       " 'verbose': 3,\n",
       " 'output_type': 'input',\n",
       " 'C': 100,\n",
       " 'kernel': 'rbf',\n",
       " 'degree': 3,\n",
       " 'gamma': 0.001,\n",
       " 'coef0': 0.0,\n",
       " 'tol': 0.001,\n",
       " 'cache_size': 8000,\n",
       " 'max_iter': -1,\n",
       " 'nochange_steps': 1000,\n",
       " 'probability': False,\n",
       " 'random_state': None,\n",
       " 'class_weight': None,\n",
       " 'multiclass_strategy': 'ovo'}"
      ]
     },
     "execution_count": 12,
     "metadata": {},
     "output_type": "execute_result"
    }
   ],
   "source": [
    "models['cumlSVC'].get_params()"
   ]
  },
  {
   "cell_type": "code",
   "execution_count": 11,
   "id": "6d97ce62",
   "metadata": {
    "ExecuteTime": {
     "end_time": "2021-07-28T01:43:45.462607Z",
     "start_time": "2021-07-28T01:43:45.435426Z"
    }
   },
   "outputs": [
    {
     "name": "stdout",
     "output_type": "stream",
     "text": [
      "              precision    recall  f1-score   support\n",
      "\n",
      "           0       0.94      0.95      0.94      8184\n",
      "           1       0.90      0.93      0.91     10032\n",
      "           2       0.92      0.89      0.90     12251\n",
      "\n",
      "    accuracy                           0.92     30467\n",
      "   macro avg       0.92      0.92      0.92     30467\n",
      "weighted avg       0.92      0.92      0.92     30467\n",
      "\n"
     ]
    }
   ],
   "source": [
    "print(classification_report(y_test, cumlSVC_pred))"
   ]
  },
  {
   "cell_type": "markdown",
   "id": "846c93e0",
   "metadata": {},
   "source": [
    "## Non-accelerated SVC (Scikit-learn)\n",
    "\n",
    "Same parameters as RAPIDS accelerated SVC\n",
    "\n",
    "- **Best val-acurracy:** 0.91\n",
    "- **Best val-precision:** 0.91\n",
    "- **Best val-recall:** 0.91\n",
    "- **Best val-f1:** 0.91\n",
    "<br>\n",
    "\n",
    "- **Highest class precision:** 0 (neutral) and 2 (bullish)\n",
    "- **Highest class recall:** 0 (neutral)\n",
    "- **Highest class f1:** 0 (neutral)"
   ]
  },
  {
   "cell_type": "code",
   "execution_count": 22,
   "id": "d58a5816",
   "metadata": {
    "ExecuteTime": {
     "end_time": "2021-07-12T23:43:16.658579Z",
     "start_time": "2021-07-12T14:35:14.169956Z"
    },
    "scrolled": true
   },
   "outputs": [
    {
     "name": "stdout",
     "output_type": "stream",
     "text": [
      "Fitting 5 folds for each of 25 candidates, totalling 125 fits\n",
      "[CV 1/5] END ........C=0.1, gamma=1, kernel=rbf;, score=0.402 total time=  45.1s\n",
      "[CV 2/5] END ........C=0.1, gamma=1, kernel=rbf;, score=0.402 total time=  45.4s\n",
      "[CV 3/5] END ........C=0.1, gamma=1, kernel=rbf;, score=0.402 total time=  44.9s\n",
      "[CV 4/5] END ........C=0.1, gamma=1, kernel=rbf;, score=0.401 total time=  44.5s\n",
      "[CV 5/5] END ........C=0.1, gamma=1, kernel=rbf;, score=0.401 total time=  44.7s\n",
      "[CV 1/5] END ......C=0.1, gamma=0.1, kernel=rbf;, score=0.289 total time=  25.7s\n",
      "[CV 2/5] END ......C=0.1, gamma=0.1, kernel=rbf;, score=0.335 total time=  10.2s\n",
      "[CV 3/5] END ......C=0.1, gamma=0.1, kernel=rbf;, score=0.442 total time=  21.4s\n",
      "[CV 4/5] END ......C=0.1, gamma=0.1, kernel=rbf;, score=0.434 total time=  24.4s\n",
      "[CV 5/5] END ......C=0.1, gamma=0.1, kernel=rbf;, score=0.485 total time=  24.9s\n",
      "[CV 1/5] END .....C=0.1, gamma=0.01, kernel=rbf;, score=0.425 total time=  17.0s\n",
      "[CV 2/5] END .....C=0.1, gamma=0.01, kernel=rbf;, score=0.403 total time=  18.1s\n",
      "[CV 3/5] END .....C=0.1, gamma=0.01, kernel=rbf;, score=0.455 total time=  21.0s\n",
      "[CV 4/5] END .....C=0.1, gamma=0.01, kernel=rbf;, score=0.373 total time=  22.6s\n",
      "[CV 5/5] END .....C=0.1, gamma=0.01, kernel=rbf;, score=0.483 total time=  18.7s\n",
      "[CV 1/5] END ....C=0.1, gamma=0.001, kernel=rbf;, score=0.414 total time= 1.2min\n",
      "[CV 2/5] END ....C=0.1, gamma=0.001, kernel=rbf;, score=0.539 total time= 1.3min\n",
      "[CV 3/5] END ....C=0.1, gamma=0.001, kernel=rbf;, score=0.537 total time= 1.3min\n",
      "[CV 4/5] END ....C=0.1, gamma=0.001, kernel=rbf;, score=0.628 total time= 1.4min\n",
      "[CV 5/5] END ....C=0.1, gamma=0.001, kernel=rbf;, score=0.568 total time= 1.3min\n",
      "[CV 1/5] END ...C=0.1, gamma=0.0001, kernel=rbf;, score=0.408 total time= 1.2min\n",
      "[CV 2/5] END ...C=0.1, gamma=0.0001, kernel=rbf;, score=0.482 total time= 1.2min\n",
      "[CV 3/5] END ...C=0.1, gamma=0.0001, kernel=rbf;, score=0.499 total time= 1.2min\n",
      "[CV 4/5] END ...C=0.1, gamma=0.0001, kernel=rbf;, score=0.615 total time= 1.3min\n",
      "[CV 5/5] END ...C=0.1, gamma=0.0001, kernel=rbf;, score=0.546 total time= 1.2min\n",
      "[CV 1/5] END ..........C=1, gamma=1, kernel=rbf;, score=0.489 total time= 2.8min\n",
      "[CV 2/5] END ..........C=1, gamma=1, kernel=rbf;, score=0.429 total time= 3.0min\n",
      "[CV 3/5] END ..........C=1, gamma=1, kernel=rbf;, score=0.482 total time= 2.5min\n",
      "[CV 4/5] END ..........C=1, gamma=1, kernel=rbf;, score=0.451 total time= 3.1min\n",
      "[CV 5/5] END ..........C=1, gamma=1, kernel=rbf;, score=0.449 total time= 3.0min\n",
      "[CV 1/5] END ........C=1, gamma=0.1, kernel=rbf;, score=0.298 total time=  14.0s\n",
      "[CV 2/5] END ........C=1, gamma=0.1, kernel=rbf;, score=0.299 total time=  17.4s\n",
      "[CV 3/5] END ........C=1, gamma=0.1, kernel=rbf;, score=0.296 total time=  15.8s\n",
      "[CV 4/5] END ........C=1, gamma=0.1, kernel=rbf;, score=0.300 total time=  16.6s\n",
      "[CV 5/5] END ........C=1, gamma=0.1, kernel=rbf;, score=0.298 total time=  15.8s\n",
      "[CV 1/5] END .......C=1, gamma=0.01, kernel=rbf;, score=0.632 total time= 2.8min\n",
      "[CV 2/5] END .......C=1, gamma=0.01, kernel=rbf;, score=0.709 total time= 2.9min\n",
      "[CV 3/5] END .......C=1, gamma=0.01, kernel=rbf;, score=0.641 total time= 2.9min\n",
      "[CV 4/5] END .......C=1, gamma=0.01, kernel=rbf;, score=0.628 total time= 2.9min\n",
      "[CV 5/5] END .......C=1, gamma=0.01, kernel=rbf;, score=0.726 total time= 2.9min\n",
      "[CV 1/5] END ......C=1, gamma=0.001, kernel=rbf;, score=0.446 total time= 1.8min\n",
      "[CV 2/5] END ......C=1, gamma=0.001, kernel=rbf;, score=0.672 total time= 2.1min\n",
      "[CV 3/5] END ......C=1, gamma=0.001, kernel=rbf;, score=0.613 total time= 2.1min\n",
      "[CV 4/5] END ......C=1, gamma=0.001, kernel=rbf;, score=0.653 total time= 2.0min\n",
      "[CV 5/5] END ......C=1, gamma=0.001, kernel=rbf;, score=0.665 total time= 2.0min\n",
      "[CV 1/5] END .....C=1, gamma=0.0001, kernel=rbf;, score=0.409 total time= 1.3min\n",
      "[CV 2/5] END .....C=1, gamma=0.0001, kernel=rbf;, score=0.527 total time= 1.5min\n",
      "[CV 3/5] END .....C=1, gamma=0.0001, kernel=rbf;, score=0.529 total time= 1.5min\n",
      "[CV 4/5] END .....C=1, gamma=0.0001, kernel=rbf;, score=0.630 total time= 1.5min\n",
      "[CV 5/5] END .....C=1, gamma=0.0001, kernel=rbf;, score=0.575 total time= 1.5min\n",
      "[CV 1/5] END .........C=10, gamma=1, kernel=rbf;, score=0.491 total time= 1.8min\n",
      "[CV 2/5] END .........C=10, gamma=1, kernel=rbf;, score=0.431 total time= 2.7min\n",
      "[CV 3/5] END .........C=10, gamma=1, kernel=rbf;, score=0.484 total time= 2.4min\n",
      "[CV 4/5] END .........C=10, gamma=1, kernel=rbf;, score=0.451 total time= 2.3min\n",
      "[CV 5/5] END .........C=10, gamma=1, kernel=rbf;, score=0.450 total time= 2.1min\n",
      "[CV 1/5] END .......C=10, gamma=0.1, kernel=rbf;, score=0.318 total time=  17.5s\n",
      "[CV 2/5] END .......C=10, gamma=0.1, kernel=rbf;, score=0.299 total time=  19.3s\n",
      "[CV 3/5] END .......C=10, gamma=0.1, kernel=rbf;, score=0.300 total time=  17.6s\n",
      "[CV 4/5] END .......C=10, gamma=0.1, kernel=rbf;, score=0.303 total time=  18.4s\n",
      "[CV 5/5] END .......C=10, gamma=0.1, kernel=rbf;, score=0.297 total time=  11.9s\n",
      "[CV 1/5] END ......C=10, gamma=0.01, kernel=rbf;, score=0.680 total time= 3.7min\n",
      "[CV 2/5] END ......C=10, gamma=0.01, kernel=rbf;, score=0.738 total time= 3.7min\n",
      "[CV 3/5] END ......C=10, gamma=0.01, kernel=rbf;, score=0.674 total time= 3.6min\n",
      "[CV 4/5] END ......C=10, gamma=0.01, kernel=rbf;, score=0.641 total time= 3.7min\n",
      "[CV 5/5] END ......C=10, gamma=0.01, kernel=rbf;, score=0.748 total time= 3.7min\n",
      "[CV 1/5] END .....C=10, gamma=0.001, kernel=rbf;, score=0.600 total time= 5.9min\n",
      "[CV 2/5] END .....C=10, gamma=0.001, kernel=rbf;, score=0.801 total time= 7.2min\n",
      "[CV 3/5] END .....C=10, gamma=0.001, kernel=rbf;, score=0.718 total time= 7.1min\n",
      "[CV 4/5] END .....C=10, gamma=0.001, kernel=rbf;, score=0.665 total time= 7.0min\n",
      "[CV 5/5] END .....C=10, gamma=0.001, kernel=rbf;, score=0.767 total time= 7.0min\n",
      "[CV 1/5] END ....C=10, gamma=0.0001, kernel=rbf;, score=0.417 total time= 1.7min\n",
      "[CV 2/5] END ....C=10, gamma=0.0001, kernel=rbf;, score=0.590 total time= 1.9min\n",
      "[CV 3/5] END ....C=10, gamma=0.0001, kernel=rbf;, score=0.564 total time= 1.9min\n",
      "[CV 4/5] END ....C=10, gamma=0.0001, kernel=rbf;, score=0.637 total time= 1.9min\n",
      "[CV 5/5] END ....C=10, gamma=0.0001, kernel=rbf;, score=0.602 total time= 1.9min\n",
      "[CV 1/5] END ........C=100, gamma=1, kernel=rbf;, score=0.492 total time= 2.3min\n",
      "[CV 2/5] END ........C=100, gamma=1, kernel=rbf;, score=0.431 total time= 3.4min\n",
      "[CV 3/5] END ........C=100, gamma=1, kernel=rbf;, score=0.484 total time= 2.3min\n",
      "[CV 4/5] END ........C=100, gamma=1, kernel=rbf;, score=0.451 total time= 2.2min\n",
      "[CV 5/5] END ........C=100, gamma=1, kernel=rbf;, score=0.450 total time= 2.8min\n",
      "[CV 1/5] END ......C=100, gamma=0.1, kernel=rbf;, score=0.315 total time=  18.8s\n",
      "[CV 2/5] END ......C=100, gamma=0.1, kernel=rbf;, score=0.300 total time=  20.3s\n",
      "[CV 3/5] END ......C=100, gamma=0.1, kernel=rbf;, score=0.301 total time=  17.2s\n",
      "[CV 4/5] END ......C=100, gamma=0.1, kernel=rbf;, score=0.304 total time=  18.7s\n",
      "[CV 5/5] END ......C=100, gamma=0.1, kernel=rbf;, score=0.302 total time=  14.4s\n",
      "[CV 1/5] END .....C=100, gamma=0.01, kernel=rbf;, score=0.680 total time= 3.7min\n",
      "[CV 2/5] END .....C=100, gamma=0.01, kernel=rbf;, score=0.737 total time= 3.8min\n",
      "[CV 3/5] END .....C=100, gamma=0.01, kernel=rbf;, score=0.673 total time= 3.7min\n",
      "[CV 4/5] END .....C=100, gamma=0.01, kernel=rbf;, score=0.641 total time= 3.6min\n",
      "[CV 5/5] END .....C=100, gamma=0.01, kernel=rbf;, score=0.747 total time= 3.8min\n",
      "[CV 1/5] END ....C=100, gamma=0.001, kernel=rbf;, score=0.657 total time= 9.9min\n",
      "[CV 2/5] END ....C=100, gamma=0.001, kernel=rbf;, score=0.808 total time=12.5min\n",
      "[CV 3/5] END ....C=100, gamma=0.001, kernel=rbf;, score=0.748 total time=11.9min\n",
      "[CV 4/5] END ....C=100, gamma=0.001, kernel=rbf;, score=0.667 total time=12.3min\n",
      "[CV 5/5] END ....C=100, gamma=0.001, kernel=rbf;, score=0.774 total time=12.2min\n",
      "[CV 1/5] END ...C=100, gamma=0.0001, kernel=rbf;, score=0.434 total time= 5.9min\n",
      "[CV 2/5] END ...C=100, gamma=0.0001, kernel=rbf;, score=0.524 total time= 6.8min\n",
      "[CV 3/5] END ...C=100, gamma=0.0001, kernel=rbf;, score=0.501 total time= 6.8min\n",
      "[CV 4/5] END ...C=100, gamma=0.0001, kernel=rbf;, score=0.515 total time= 6.6min\n",
      "[CV 5/5] END ...C=100, gamma=0.0001, kernel=rbf;, score=0.521 total time= 6.6min\n",
      "[CV 1/5] END .......C=1000, gamma=1, kernel=rbf;, score=0.491 total time= 1.9min\n"
     ]
    },
    {
     "name": "stdout",
     "output_type": "stream",
     "text": [
      "[CV 2/5] END .......C=1000, gamma=1, kernel=rbf;, score=0.431 total time= 2.9min\n",
      "[CV 3/5] END .......C=1000, gamma=1, kernel=rbf;, score=0.484 total time= 2.3min\n",
      "[CV 4/5] END .......C=1000, gamma=1, kernel=rbf;, score=0.451 total time= 2.6min\n",
      "[CV 5/5] END .......C=1000, gamma=1, kernel=rbf;, score=0.450 total time= 2.3min\n",
      "[CV 1/5] END .....C=1000, gamma=0.1, kernel=rbf;, score=0.304 total time=  13.4s\n",
      "[CV 2/5] END .....C=1000, gamma=0.1, kernel=rbf;, score=0.300 total time=  19.5s\n",
      "[CV 3/5] END .....C=1000, gamma=0.1, kernel=rbf;, score=0.300 total time=  17.5s\n",
      "[CV 4/5] END .....C=1000, gamma=0.1, kernel=rbf;, score=0.301 total time=  21.2s\n",
      "[CV 5/5] END .....C=1000, gamma=0.1, kernel=rbf;, score=0.306 total time=  20.8s\n",
      "[CV 1/5] END ....C=1000, gamma=0.01, kernel=rbf;, score=0.680 total time= 3.7min\n",
      "[CV 2/5] END ....C=1000, gamma=0.01, kernel=rbf;, score=0.737 total time= 3.8min\n",
      "[CV 3/5] END ....C=1000, gamma=0.01, kernel=rbf;, score=0.673 total time= 3.8min\n",
      "[CV 4/5] END ....C=1000, gamma=0.01, kernel=rbf;, score=0.641 total time= 3.7min\n",
      "[CV 5/5] END ....C=1000, gamma=0.01, kernel=rbf;, score=0.747 total time= 3.8min\n",
      "[CV 1/5] END ...C=1000, gamma=0.001, kernel=rbf;, score=0.656 total time=11.6min\n",
      "[CV 2/5] END ...C=1000, gamma=0.001, kernel=rbf;, score=0.789 total time=15.1min\n",
      "[CV 3/5] END ...C=1000, gamma=0.001, kernel=rbf;, score=0.740 total time=13.9min\n",
      "[CV 4/5] END ...C=1000, gamma=0.001, kernel=rbf;, score=0.651 total time=14.7min\n",
      "[CV 5/5] END ...C=1000, gamma=0.001, kernel=rbf;, score=0.760 total time=14.9min\n",
      "[CV 1/5] END ..C=1000, gamma=0.0001, kernel=rbf;, score=0.364 total time=31.3min\n",
      "[CV 2/5] END ..C=1000, gamma=0.0001, kernel=rbf;, score=0.370 total time=25.8min\n",
      "[CV 3/5] END ..C=1000, gamma=0.0001, kernel=rbf;, score=0.370 total time=35.3min\n",
      "[CV 4/5] END ..C=1000, gamma=0.0001, kernel=rbf;, score=0.393 total time=33.0min\n",
      "[CV 5/5] END ..C=1000, gamma=0.0001, kernel=rbf;, score=0.392 total time=34.0min\n"
     ]
    },
    {
     "data": {
      "text/plain": [
       "GridSearchCV(estimator=SVC(),\n",
       "             param_grid={'C': [0.1, 1, 10, 100, 1000],\n",
       "                         'gamma': [1, 0.1, 0.01, 0.001, 0.0001],\n",
       "                         'kernel': ['rbf']},\n",
       "             verbose=3)"
      ]
     },
     "execution_count": 22,
     "metadata": {},
     "output_type": "execute_result"
    }
   ],
   "source": [
    "skSVC_grid = GridSearchCV(SVC(), param_grid=skSVC_params, refit = True, verbose = 3)\n",
    "skSVC_grid.fit(X_train, y_train)"
   ]
  },
  {
   "cell_type": "code",
   "execution_count": 23,
   "id": "e890bb27",
   "metadata": {
    "ExecuteTime": {
     "end_time": "2021-07-13T00:15:10.803222Z",
     "start_time": "2021-07-13T00:15:10.796655Z"
    }
   },
   "outputs": [
    {
     "name": "stdout",
     "output_type": "stream",
     "text": [
      "{'C': 100, 'gamma': 0.001, 'kernel': 'rbf'}\n",
      "SVC(C=100, gamma=0.001)\n"
     ]
    }
   ],
   "source": [
    "print(skSVC_grid.best_params_)\n",
    "print(skSVC_grid.best_estimator_)"
   ]
  },
  {
   "cell_type": "code",
   "execution_count": 24,
   "id": "2ec0dd70",
   "metadata": {
    "ExecuteTime": {
     "end_time": "2021-07-13T00:15:24.875941Z",
     "start_time": "2021-07-13T00:15:15.481651Z"
    }
   },
   "outputs": [
    {
     "name": "stdout",
     "output_type": "stream",
     "text": [
      "              precision    recall  f1-score   support\n",
      "\n",
      "           0       0.92      0.95      0.93      8184\n",
      "           1       0.90      0.93      0.92     10032\n",
      "           2       0.92      0.88      0.90     12251\n",
      "\n",
      "    accuracy                           0.91     30467\n",
      "   macro avg       0.91      0.92      0.92     30467\n",
      "weighted avg       0.91      0.91      0.91     30467\n",
      "\n"
     ]
    }
   ],
   "source": [
    "skSVC_grid_pred = skSVC_grid.predict(X_test)\n",
    "  \n",
    "# Classification report\n",
    "print(classification_report(y_test, skSVC_grid_pred))"
   ]
  },
  {
   "cell_type": "code",
   "execution_count": null,
   "id": "b8b2afc4",
   "metadata": {},
   "outputs": [],
   "source": []
  },
  {
   "cell_type": "markdown",
   "id": "b9a5051d",
   "metadata": {},
   "source": [
    "## XGBoost \n",
    "\n",
    "**Parameters:**\n",
    "\n",
    "    - Accelerated\n",
    "    - Max bin: 4096\n",
    "    - Subsample: 0.5\n",
    "    - Tree method: GPU_hist\n",
    "    - Sampling method: Gradient based\n",
    "    - Evaluation metrics: AUC and mlogloss\n",
    "    - Objective: Multi-softprob \n",
    "    - 3 classes\n",
    "    - Learning rate: 0.3\n",
    "\n",
    "\n",
    "- **Best val-AUC:** 0.66477\n",
    "- **Best val-loss:** 1.01227\n",
    "<br>\n",
    "\n",
    "- **Best train-AUC:** 0.84940\n",
    "- **Best train-loss:** 0.76085"
   ]
  },
  {
   "cell_type": "code",
   "execution_count": 24,
   "id": "686944a6",
   "metadata": {
    "ExecuteTime": {
     "end_time": "2021-07-28T01:51:02.066415Z",
     "start_time": "2021-07-28T01:51:02.056441Z"
    }
   },
   "outputs": [
    {
     "name": "stdout",
     "output_type": "stream",
     "text": [
      "{'max_bin': 4096, 'subsample': 0.5, 'tree_method': 'gpu_hist', 'gpu_id': 0, 'sampling_method': 'gradient_based', 'eval_metric': ['auc', 'mlogloss'], 'objective': 'multi:softprob', 'num_class': 3, 'learning_rate': 0.3}\n"
     ]
    }
   ],
   "source": [
    "xgb_train = xgb.DMatrix(X_train, label=y_train)\n",
    "xgb_test = xgb.DMatrix(X_test, label=y_test)\n",
    "\n",
    "params = {}\n",
    "gpu_id = 0\n",
    "\n",
    "booster_params = {}\n",
    "booster_params['max_bin'] = 4096\n",
    "booster_params['subsample'] = 0.5\n",
    "booster_params['tree_method'] = 'gpu_hist'\n",
    "booster_params['gpu_id'] = gpu_id \n",
    "booster_params['sampling_method'] = 'gradient_based'\n",
    "params.update(booster_params)\n",
    "\n",
    "learning_task_params = {}\n",
    "learning_task_params['eval_metric'] = ['auc', 'mlogloss']\n",
    "learning_task_params['objective'] = 'multi:softprob'\n",
    "learning_task_params['num_class'] = 3\n",
    "learning_task_params['learning_rate'] = 0.3\n",
    "\n",
    "\n",
    "params.update(learning_task_params)\n",
    "print(params)"
   ]
  },
  {
   "cell_type": "code",
   "execution_count": 25,
   "id": "acbf6e76",
   "metadata": {
    "ExecuteTime": {
     "end_time": "2021-07-28T01:51:42.394757Z",
     "start_time": "2021-07-28T01:51:42.388518Z"
    }
   },
   "outputs": [],
   "source": [
    "evallist = [(xgb_test, 'validation'), (xgb_train, 'train')]\n",
    "num_round = 100\n",
    "evals_result = {}"
   ]
  },
  {
   "cell_type": "code",
   "execution_count": 26,
   "id": "14b54d4f",
   "metadata": {
    "ExecuteTime": {
     "end_time": "2021-07-28T01:52:53.411427Z",
     "start_time": "2021-07-28T01:51:57.975449Z"
    },
    "scrolled": true
   },
   "outputs": [
    {
     "name": "stdout",
     "output_type": "stream",
     "text": [
      "[0]\tvalidation-auc:0.56451\tvalidation-mlogloss:1.08484\ttrain-auc:0.67283\ttrain-mlogloss:1.05791\n",
      "[1]\tvalidation-auc:0.56942\tvalidation-mlogloss:1.07808\ttrain-auc:0.68393\ttrain-mlogloss:1.03043\n",
      "[2]\tvalidation-auc:0.57503\tvalidation-mlogloss:1.07397\ttrain-auc:0.69380\ttrain-mlogloss:1.00933\n",
      "[3]\tvalidation-auc:0.57901\tvalidation-mlogloss:1.07204\ttrain-auc:0.70086\ttrain-mlogloss:0.99484\n",
      "[4]\tvalidation-auc:0.58159\tvalidation-mlogloss:1.07120\ttrain-auc:0.70569\ttrain-mlogloss:0.98229\n",
      "[5]\tvalidation-auc:0.58436\tvalidation-mlogloss:1.06991\ttrain-auc:0.71133\ttrain-mlogloss:0.97154\n",
      "[6]\tvalidation-auc:0.58634\tvalidation-mlogloss:1.06984\ttrain-auc:0.71406\ttrain-mlogloss:0.96401\n",
      "[7]\tvalidation-auc:0.58877\tvalidation-mlogloss:1.06883\ttrain-auc:0.71801\ttrain-mlogloss:0.95752\n",
      "[8]\tvalidation-auc:0.59037\tvalidation-mlogloss:1.06818\ttrain-auc:0.72150\ttrain-mlogloss:0.95164\n",
      "[9]\tvalidation-auc:0.59198\tvalidation-mlogloss:1.06780\ttrain-auc:0.72450\ttrain-mlogloss:0.94638\n",
      "[10]\tvalidation-auc:0.59309\tvalidation-mlogloss:1.06776\ttrain-auc:0.72735\ttrain-mlogloss:0.94117\n",
      "[11]\tvalidation-auc:0.59506\tvalidation-mlogloss:1.06697\ttrain-auc:0.72978\ttrain-mlogloss:0.93678\n",
      "[12]\tvalidation-auc:0.59687\tvalidation-mlogloss:1.06587\ttrain-auc:0.73242\ttrain-mlogloss:0.93276\n",
      "[13]\tvalidation-auc:0.59867\tvalidation-mlogloss:1.06470\ttrain-auc:0.73465\ttrain-mlogloss:0.92932\n",
      "[14]\tvalidation-auc:0.59962\tvalidation-mlogloss:1.06444\ttrain-auc:0.73697\ttrain-mlogloss:0.92593\n",
      "[15]\tvalidation-auc:0.60096\tvalidation-mlogloss:1.06367\ttrain-auc:0.73922\ttrain-mlogloss:0.92242\n",
      "[16]\tvalidation-auc:0.60204\tvalidation-mlogloss:1.06300\ttrain-auc:0.74147\ttrain-mlogloss:0.91892\n",
      "[17]\tvalidation-auc:0.60312\tvalidation-mlogloss:1.06220\ttrain-auc:0.74381\ttrain-mlogloss:0.91582\n",
      "[18]\tvalidation-auc:0.60521\tvalidation-mlogloss:1.06112\ttrain-auc:0.74616\ttrain-mlogloss:0.91263\n",
      "[19]\tvalidation-auc:0.60541\tvalidation-mlogloss:1.06129\ttrain-auc:0.74853\ttrain-mlogloss:0.90921\n",
      "[20]\tvalidation-auc:0.60650\tvalidation-mlogloss:1.06051\ttrain-auc:0.75067\ttrain-mlogloss:0.90625\n",
      "[21]\tvalidation-auc:0.60755\tvalidation-mlogloss:1.05990\ttrain-auc:0.75290\ttrain-mlogloss:0.90285\n",
      "[22]\tvalidation-auc:0.60900\tvalidation-mlogloss:1.05899\ttrain-auc:0.75469\ttrain-mlogloss:0.90007\n",
      "[23]\tvalidation-auc:0.61046\tvalidation-mlogloss:1.05818\ttrain-auc:0.75637\ttrain-mlogloss:0.89762\n",
      "[24]\tvalidation-auc:0.61190\tvalidation-mlogloss:1.05719\ttrain-auc:0.75879\ttrain-mlogloss:0.89457\n",
      "[25]\tvalidation-auc:0.61229\tvalidation-mlogloss:1.05694\ttrain-auc:0.76050\ttrain-mlogloss:0.89184\n",
      "[26]\tvalidation-auc:0.61325\tvalidation-mlogloss:1.05622\ttrain-auc:0.76220\ttrain-mlogloss:0.88951\n",
      "[27]\tvalidation-auc:0.61412\tvalidation-mlogloss:1.05565\ttrain-auc:0.76437\ttrain-mlogloss:0.88665\n",
      "[28]\tvalidation-auc:0.61535\tvalidation-mlogloss:1.05484\ttrain-auc:0.76593\ttrain-mlogloss:0.88412\n",
      "[29]\tvalidation-auc:0.61638\tvalidation-mlogloss:1.05394\ttrain-auc:0.76790\ttrain-mlogloss:0.88161\n",
      "[30]\tvalidation-auc:0.61726\tvalidation-mlogloss:1.05313\ttrain-auc:0.76990\ttrain-mlogloss:0.87907\n",
      "[31]\tvalidation-auc:0.61797\tvalidation-mlogloss:1.05238\ttrain-auc:0.77133\ttrain-mlogloss:0.87699\n",
      "[32]\tvalidation-auc:0.61894\tvalidation-mlogloss:1.05164\ttrain-auc:0.77323\ttrain-mlogloss:0.87450\n",
      "[33]\tvalidation-auc:0.61995\tvalidation-mlogloss:1.05085\ttrain-auc:0.77465\ttrain-mlogloss:0.87236\n",
      "[34]\tvalidation-auc:0.62080\tvalidation-mlogloss:1.05019\ttrain-auc:0.77624\ttrain-mlogloss:0.87015\n",
      "[35]\tvalidation-auc:0.62198\tvalidation-mlogloss:1.04936\ttrain-auc:0.77793\ttrain-mlogloss:0.86787\n",
      "[36]\tvalidation-auc:0.62268\tvalidation-mlogloss:1.04873\ttrain-auc:0.77934\ttrain-mlogloss:0.86588\n",
      "[37]\tvalidation-auc:0.62326\tvalidation-mlogloss:1.04823\ttrain-auc:0.78047\ttrain-mlogloss:0.86391\n",
      "[38]\tvalidation-auc:0.62440\tvalidation-mlogloss:1.04738\ttrain-auc:0.78187\ttrain-mlogloss:0.86198\n",
      "[39]\tvalidation-auc:0.62564\tvalidation-mlogloss:1.04635\ttrain-auc:0.78380\ttrain-mlogloss:0.85959\n",
      "[40]\tvalidation-auc:0.62672\tvalidation-mlogloss:1.04559\ttrain-auc:0.78539\ttrain-mlogloss:0.85724\n",
      "[41]\tvalidation-auc:0.62716\tvalidation-mlogloss:1.04518\ttrain-auc:0.78660\ttrain-mlogloss:0.85547\n",
      "[42]\tvalidation-auc:0.62794\tvalidation-mlogloss:1.04461\ttrain-auc:0.78786\ttrain-mlogloss:0.85354\n",
      "[43]\tvalidation-auc:0.62901\tvalidation-mlogloss:1.04377\ttrain-auc:0.78936\ttrain-mlogloss:0.85128\n",
      "[44]\tvalidation-auc:0.62984\tvalidation-mlogloss:1.04304\ttrain-auc:0.79088\ttrain-mlogloss:0.84920\n",
      "[45]\tvalidation-auc:0.63055\tvalidation-mlogloss:1.04232\ttrain-auc:0.79235\ttrain-mlogloss:0.84723\n",
      "[46]\tvalidation-auc:0.63155\tvalidation-mlogloss:1.04153\ttrain-auc:0.79355\ttrain-mlogloss:0.84542\n",
      "[47]\tvalidation-auc:0.63235\tvalidation-mlogloss:1.04088\ttrain-auc:0.79486\ttrain-mlogloss:0.84355\n",
      "[48]\tvalidation-auc:0.63329\tvalidation-mlogloss:1.04015\ttrain-auc:0.79640\ttrain-mlogloss:0.84145\n",
      "[49]\tvalidation-auc:0.63377\tvalidation-mlogloss:1.03977\ttrain-auc:0.79746\ttrain-mlogloss:0.83990\n",
      "[50]\tvalidation-auc:0.63449\tvalidation-mlogloss:1.03919\ttrain-auc:0.79875\ttrain-mlogloss:0.83786\n",
      "[51]\tvalidation-auc:0.63549\tvalidation-mlogloss:1.03845\ttrain-auc:0.79996\ttrain-mlogloss:0.83610\n",
      "[52]\tvalidation-auc:0.63631\tvalidation-mlogloss:1.03794\ttrain-auc:0.80088\ttrain-mlogloss:0.83446\n",
      "[53]\tvalidation-auc:0.63727\tvalidation-mlogloss:1.03707\ttrain-auc:0.80218\ttrain-mlogloss:0.83261\n",
      "[54]\tvalidation-auc:0.63781\tvalidation-mlogloss:1.03665\ttrain-auc:0.80350\ttrain-mlogloss:0.83067\n",
      "[55]\tvalidation-auc:0.63849\tvalidation-mlogloss:1.03608\ttrain-auc:0.80455\ttrain-mlogloss:0.82901\n",
      "[56]\tvalidation-auc:0.63938\tvalidation-mlogloss:1.03544\ttrain-auc:0.80583\ttrain-mlogloss:0.82694\n",
      "[57]\tvalidation-auc:0.63960\tvalidation-mlogloss:1.03520\ttrain-auc:0.80723\ttrain-mlogloss:0.82511\n",
      "[58]\tvalidation-auc:0.63979\tvalidation-mlogloss:1.03505\ttrain-auc:0.80819\ttrain-mlogloss:0.82364\n",
      "[59]\tvalidation-auc:0.64049\tvalidation-mlogloss:1.03446\ttrain-auc:0.80946\ttrain-mlogloss:0.82195\n",
      "[60]\tvalidation-auc:0.64140\tvalidation-mlogloss:1.03384\ttrain-auc:0.81042\ttrain-mlogloss:0.82027\n",
      "[61]\tvalidation-auc:0.64212\tvalidation-mlogloss:1.03319\ttrain-auc:0.81168\ttrain-mlogloss:0.81851\n",
      "[62]\tvalidation-auc:0.64302\tvalidation-mlogloss:1.03243\ttrain-auc:0.81308\ttrain-mlogloss:0.81654\n",
      "[63]\tvalidation-auc:0.64375\tvalidation-mlogloss:1.03169\ttrain-auc:0.81419\ttrain-mlogloss:0.81485\n",
      "[64]\tvalidation-auc:0.64492\tvalidation-mlogloss:1.03075\ttrain-auc:0.81563\ttrain-mlogloss:0.81286\n",
      "[65]\tvalidation-auc:0.64556\tvalidation-mlogloss:1.03005\ttrain-auc:0.81668\ttrain-mlogloss:0.81130\n",
      "[66]\tvalidation-auc:0.64640\tvalidation-mlogloss:1.02933\ttrain-auc:0.81807\ttrain-mlogloss:0.80943\n",
      "[67]\tvalidation-auc:0.64750\tvalidation-mlogloss:1.02835\ttrain-auc:0.81921\ttrain-mlogloss:0.80767\n",
      "[68]\tvalidation-auc:0.64808\tvalidation-mlogloss:1.02792\ttrain-auc:0.82012\ttrain-mlogloss:0.80615\n",
      "[69]\tvalidation-auc:0.64856\tvalidation-mlogloss:1.02743\ttrain-auc:0.82127\ttrain-mlogloss:0.80449\n",
      "[70]\tvalidation-auc:0.64922\tvalidation-mlogloss:1.02700\ttrain-auc:0.82216\ttrain-mlogloss:0.80305\n",
      "[71]\tvalidation-auc:0.65008\tvalidation-mlogloss:1.02618\ttrain-auc:0.82356\ttrain-mlogloss:0.80113\n",
      "[72]\tvalidation-auc:0.65046\tvalidation-mlogloss:1.02584\ttrain-auc:0.82414\ttrain-mlogloss:0.79997\n",
      "[73]\tvalidation-auc:0.65065\tvalidation-mlogloss:1.02570\ttrain-auc:0.82512\ttrain-mlogloss:0.79852\n",
      "[74]\tvalidation-auc:0.65126\tvalidation-mlogloss:1.02508\ttrain-auc:0.82614\ttrain-mlogloss:0.79693\n",
      "[75]\tvalidation-auc:0.65179\tvalidation-mlogloss:1.02470\ttrain-auc:0.82705\ttrain-mlogloss:0.79553\n",
      "[76]\tvalidation-auc:0.65242\tvalidation-mlogloss:1.02413\ttrain-auc:0.82841\ttrain-mlogloss:0.79364\n",
      "[77]\tvalidation-auc:0.65279\tvalidation-mlogloss:1.02378\ttrain-auc:0.82938\ttrain-mlogloss:0.79219\n",
      "[78]\tvalidation-auc:0.65307\tvalidation-mlogloss:1.02352\ttrain-auc:0.83024\ttrain-mlogloss:0.79072\n",
      "[79]\tvalidation-auc:0.65357\tvalidation-mlogloss:1.02312\ttrain-auc:0.83101\ttrain-mlogloss:0.78945\n",
      "[80]\tvalidation-auc:0.65429\tvalidation-mlogloss:1.02240\ttrain-auc:0.83203\ttrain-mlogloss:0.78790\n",
      "[81]\tvalidation-auc:0.65474\tvalidation-mlogloss:1.02192\ttrain-auc:0.83283\ttrain-mlogloss:0.78663\n",
      "[82]\tvalidation-auc:0.65525\tvalidation-mlogloss:1.02147\ttrain-auc:0.83351\ttrain-mlogloss:0.78539\n",
      "[83]\tvalidation-auc:0.65597\tvalidation-mlogloss:1.02073\ttrain-auc:0.83446\ttrain-mlogloss:0.78389\n",
      "[84]\tvalidation-auc:0.65652\tvalidation-mlogloss:1.02020\ttrain-auc:0.83541\ttrain-mlogloss:0.78243\n"
     ]
    },
    {
     "name": "stdout",
     "output_type": "stream",
     "text": [
      "[85]\tvalidation-auc:0.65719\tvalidation-mlogloss:1.01956\ttrain-auc:0.83633\ttrain-mlogloss:0.78104\n",
      "[86]\tvalidation-auc:0.65761\tvalidation-mlogloss:1.01918\ttrain-auc:0.83727\ttrain-mlogloss:0.77964\n",
      "[87]\tvalidation-auc:0.65829\tvalidation-mlogloss:1.01850\ttrain-auc:0.83805\ttrain-mlogloss:0.77833\n",
      "[88]\tvalidation-auc:0.65855\tvalidation-mlogloss:1.01818\ttrain-auc:0.83896\ttrain-mlogloss:0.77698\n",
      "[89]\tvalidation-auc:0.65940\tvalidation-mlogloss:1.01748\ttrain-auc:0.84001\ttrain-mlogloss:0.77543\n",
      "[90]\tvalidation-auc:0.65968\tvalidation-mlogloss:1.01711\ttrain-auc:0.84090\ttrain-mlogloss:0.77409\n",
      "[91]\tvalidation-auc:0.66009\tvalidation-mlogloss:1.01665\ttrain-auc:0.84203\ttrain-mlogloss:0.77244\n",
      "[92]\tvalidation-auc:0.66091\tvalidation-mlogloss:1.01594\ttrain-auc:0.84301\ttrain-mlogloss:0.77107\n",
      "[93]\tvalidation-auc:0.66174\tvalidation-mlogloss:1.01520\ttrain-auc:0.84390\ttrain-mlogloss:0.76955\n",
      "[94]\tvalidation-auc:0.66202\tvalidation-mlogloss:1.01484\ttrain-auc:0.84474\ttrain-mlogloss:0.76814\n",
      "[95]\tvalidation-auc:0.66256\tvalidation-mlogloss:1.01434\ttrain-auc:0.84571\ttrain-mlogloss:0.76657\n",
      "[96]\tvalidation-auc:0.66324\tvalidation-mlogloss:1.01377\ttrain-auc:0.84655\ttrain-mlogloss:0.76524\n",
      "[97]\tvalidation-auc:0.66363\tvalidation-mlogloss:1.01337\ttrain-auc:0.84733\ttrain-mlogloss:0.76393\n",
      "[98]\tvalidation-auc:0.66418\tvalidation-mlogloss:1.01275\ttrain-auc:0.84838\ttrain-mlogloss:0.76241\n",
      "[99]\tvalidation-auc:0.66477\tvalidation-mlogloss:1.01227\ttrain-auc:0.84940\ttrain-mlogloss:0.76085\n"
     ]
    }
   ],
   "source": [
    "bst = xgb.train(params, xgb_train, num_round, evals=evallist, evals_result=evals_result)"
   ]
  },
  {
   "cell_type": "code",
   "execution_count": 37,
   "id": "86ac6492",
   "metadata": {
    "ExecuteTime": {
     "end_time": "2021-07-28T01:59:23.658338Z",
     "start_time": "2021-07-28T01:59:23.650858Z"
    }
   },
   "outputs": [
    {
     "data": {
      "text/plain": [
       "99"
      ]
     },
     "execution_count": 37,
     "metadata": {},
     "output_type": "execute_result"
    }
   ],
   "source": [
    "xgb_pred = bst.predict(xgb_test, iteration_range=(0, bst.best_iteration))\n",
    "bst.best_iteration"
   ]
  },
  {
   "cell_type": "code",
   "execution_count": 43,
   "id": "aa676471",
   "metadata": {
    "ExecuteTime": {
     "end_time": "2021-07-28T02:08:16.997323Z",
     "start_time": "2021-07-28T02:08:16.806883Z"
    }
   },
   "outputs": [
    {
     "data": {
      "image/png": "[encoded data removed]",
      "text/plain": [
       "<Figure size 432x288 with 1 Axes>"
      ]
     },
     "metadata": {
      "needs_background": "light"
     },
     "output_type": "display_data"
    },
    {
     "data": {
      "image/png": "[encoded data removed]",
      "text/plain": [
       "<Figure size 432x288 with 1 Axes>"
      ]
     },
     "metadata": {
      "needs_background": "light"
     },
     "output_type": "display_data"
    }
   ],
   "source": [
    "auc = evals_result['train']['auc']\n",
    "val_auc = evals_result['validation']['auc']\n",
    "loss = evals_result['train']['mlogloss']\n",
    "val_loss = evals_result['validation']['mlogloss']\n",
    "\n",
    "plt.plot(auc, 'b', label='Training auc')\n",
    "plt.plot(val_auc, 'bo', label='Validation auc')\n",
    "plt.title('Training and validation AUC')\n",
    "plt.legend()\n",
    "\n",
    "plt.figure()\n",
    "\n",
    "plt.plot(loss, 'r', label='Training loss')\n",
    "plt.plot(val_loss, 'ro', label='Validation loss')\n",
    "plt.title('Training and validation mlogloss')\n",
    "plt.legend()\n",
    "\n",
    "plt.show()"
   ]
  },
  {
   "cell_type": "markdown",
   "id": "cf51f935",
   "metadata": {},
   "source": [
    "## Conclusion\n",
    "<br>\n",
    "Out of the four baseline models, support vector classifiers (SVC) performed the best with the GPU accelerated version performing slightly better than Sklearns by only a few decimels. GridSearch over Sklearns SVC took approx. 9 hours to complete whereas cuMLs version only took 1 hour. The difference in performance can not be recognized as a result of differing parameters, as both instances of GridSearch deemed \"C: 100\", \"gamma: 0.001\" and \"kernel: rbf\" to be the best fit for our dataset.  \n",
    "\n",
    "The logistic regression model performed the worst only generating a weighted F1 score of about 0.42 and an accuracy of 0.43. This can be a result of our fairly unbalanced dataset. We attempted to solve the problem via oversampling and splitting the original train and augmenting that data however it did not seem to help in regards to logistic regression. Further, we saw something similar with XGBoost, where that model performed above logistic regressions ability but still failed to generalize properly towards unseen data during validation. You can see this visually by viewing the plot above comparing the AUC, and loss between both train and test sets. XGBoost might have performed decently if the number of rounds were increased substantially however, due to time constraints and computing  limitations this is not feasible at the moment. \n",
    "\n",
    "Overall these 3 distinct algorithims provided us with a benchmark level of performance for our next phase, extended modeling where will utilize deep learning through the use of convlutional neural networks. "
   ]
  }
 ],
 "metadata": {
  "kernelspec": {
   "display_name": "Python [conda env:rapids-21.06]",
   "language": "python",
   "name": "conda-env-rapids-21.06-py"
  },
  "language_info": {
   "codemirror_mode": {
    "name": "ipython",
    "version": 3
   },
   "file_extension": ".py",
   "mimetype": "text/x-python",
   "name": "python",
   "nbconvert_exporter": "python",
   "pygments_lexer": "ipython3",
   "version": "3.8.10"
  }
 },
 "nbformat": 4,
 "nbformat_minor": 5
}
